{
 "cells": [
  {
   "cell_type": "code",
   "execution_count": 6,
   "metadata": {},
   "outputs": [],
   "source": [
    "import numpy as np\n",
    "import pandas as pd\n",
    "import pickle\n",
    "import json\n",
    "import re\n",
    "from wikipedia2vec import Wikipedia2Vec\n",
    "\n",
    "import keras.backend as K\n",
    "from keras.engine.topology import Layer\n",
    "from keras.models import Model\n",
    "from keras.layers import Input, Dense, LSTM, Bidirectional, Dropout, concatenate, multiply, Lambda, Reshape"
   ]
  },
  {
   "cell_type": "code",
   "execution_count": 7,
   "metadata": {},
   "outputs": [],
   "source": [
    "# Fix ramdom seed.\n",
    "from numpy.random import seed\n",
    "seed(1)\n",
    "from tensorflow import set_random_seed\n",
    "set_random_seed(1)"
   ]
  },
  {
   "cell_type": "markdown",
   "metadata": {},
   "source": [
    "## Preprocessing"
   ]
  },
  {
   "cell_type": "code",
   "execution_count": 4,
   "metadata": {},
   "outputs": [
    {
     "name": "stdout",
     "output_type": "stream",
     "text": [
      "Number of train sentences: 57641\n",
      "True: 3593 \tFalse: 54048\n",
      "Number of valid sentences: 15735\n",
      "True: 557 \tFalse: 15178\n"
     ]
    }
   ],
   "source": [
    "train_df = pd.read_csv(\"../data/train_split_words.csv\", dtype={'_id': str})\n",
    "valid_df = pd.read_csv(\"../data/valid_split_words.csv\", dtype={'_id': str})\n",
    "\n",
    "print(\"Number of train sentences:\", len(train_df))\n",
    "print(\"True:\", len(train_df[train_df.label == True]), \"\\tFalse:\", len(train_df[train_df.label == False]))\n",
    "print(\"Number of valid sentences:\", len(valid_df))\n",
    "print(\"True:\", len(valid_df[valid_df.label == True]), \"\\tFalse:\", len(valid_df[valid_df.label == False]))"
   ]
  },
  {
   "cell_type": "code",
   "execution_count": null,
   "metadata": {},
   "outputs": [],
   "source": [
    "# load model\n",
    "ja_w2v = Wikipedia2Vec.load()\n",
    "en_w2v = Wikipedia2Vec.load()\n",
    "\n",
    "with open(\"../model/wikipedia2vec_en2ja_mapping.pkl\", 'rb') as f:\n",
    "    transformer = pickle.load(f)\n",
    "\n",
    "def transfer_vectors(words, lang='ja'):\n",
    "    return [w2v(w, lang=lang) for w in words]\n",
    "\n",
    "def w2v(w, embedding_dim=100, lang='ja'):\n",
    "    try:\n",
    "        if lang == 'ja':\n",
    "            return ja_w2v.get_word_vector(w).tolist()\n",
    "        elif lang == 'en':\n",
    "            return transformer.predict([en_w2v.get_word_vector(w)])[0]\n",
    "        else:\n",
    "            print(\"Undefined language.\")\n",
    "            return [0.0] * embedding_dim\n",
    "    \n",
    "    except KeyError:\n",
    "        return [0.0] * embedding_dim\n",
    "    \n",
    "def padding(X, padding='post', truncating='pre', maxlen=50):\n",
    "    padding_seq = pad_sequences(\n",
    "        X\n",
    "        , dtype='float32'\n",
    "        , padding=padding\n",
    "        , truncating=truncating\n",
    "        , maxlen=maxlen\n",
    "    )\n",
    "    \n",
    "    return padding_seq"
   ]
  },
  {
   "cell_type": "code",
   "execution_count": null,
   "metadata": {},
   "outputs": [],
   "source": []
  },
  {
   "cell_type": "markdown",
   "metadata": {},
   "source": [
    "## Modeling"
   ]
  },
  {
   "cell_type": "code",
   "execution_count": 11,
   "metadata": {},
   "outputs": [],
   "source": [
    "WORD_EMBEDDING_DIM = 300\n",
    "FC_DIM = 128\n",
    "LSTM_UNITS = 512\n",
    "DROPOUT_RATE = 0.2"
   ]
  },
  {
   "cell_type": "code",
   "execution_count": 4,
   "metadata": {},
   "outputs": [
    {
     "name": "stdout",
     "output_type": "stream",
     "text": [
      "__________________________________________________________________________________________________\n",
      "Layer (type)                    Output Shape         Param #     Connected to                     \n",
      "==================================================================================================\n",
      "input_1 (InputLayer)            (None, None, 300)    0                                            \n",
      "__________________________________________________________________________________________________\n",
      "input_2 (InputLayer)            (None, None, 300)    0                                            \n",
      "__________________________________________________________________________________________________\n",
      "bidirectional_1 (Bidirectional) (None, None, 1024)   3330048     input_1[0][0]                    \n",
      "__________________________________________________________________________________________________\n",
      "bidirectional_2 (Bidirectional) (None, None, 1024)   3330048     input_2[0][0]                    \n",
      "__________________________________________________________________________________________________\n",
      "lambda_1 (Lambda)               (None, 1024)         0           bidirectional_1[0][0]            \n",
      "__________________________________________________________________________________________________\n",
      "lambda_2 (Lambda)               (None, 1024)         0           bidirectional_2[0][0]            \n",
      "__________________________________________________________________________________________________\n",
      "reshape_1 (Reshape)             (None, 1024)         0           lambda_1[0][0]                   \n",
      "__________________________________________________________________________________________________\n",
      "reshape_2 (Reshape)             (None, 1024)         0           lambda_2[0][0]                   \n",
      "__________________________________________________________________________________________________\n",
      "lambda_3 (Lambda)               (None, 1024)         0           reshape_1[0][0]                  \n",
      "                                                                 reshape_2[0][0]                  \n",
      "__________________________________________________________________________________________________\n",
      "multiply_1 (Multiply)           (None, 1024)         0           reshape_1[0][0]                  \n",
      "                                                                 reshape_2[0][0]                  \n",
      "__________________________________________________________________________________________________\n",
      "concatenate_1 (Concatenate)     (None, 4096)         0           reshape_1[0][0]                  \n",
      "                                                                 reshape_2[0][0]                  \n",
      "                                                                 lambda_3[0][0]                   \n",
      "                                                                 multiply_1[0][0]                 \n",
      "__________________________________________________________________________________________________\n",
      "dropout_1 (Dropout)             (None, 4096)         0           concatenate_1[0][0]              \n",
      "__________________________________________________________________________________________________\n",
      "dense_1 (Dense)                 (None, 128)          524416      dropout_1[0][0]                  \n",
      "__________________________________________________________________________________________________\n",
      "dropout_2 (Dropout)             (None, 128)          0           dense_1[0][0]                    \n",
      "__________________________________________________________________________________________________\n",
      "dense_2 (Dense)                 (None, 128)          16512       dropout_2[0][0]                  \n",
      "__________________________________________________________________________________________________\n",
      "dropout_3 (Dropout)             (None, 128)          0           dense_2[0][0]                    \n",
      "__________________________________________________________________________________________________\n",
      "dense_3 (Dense)                 (None, 1)            129         dropout_3[0][0]                  \n",
      "==================================================================================================\n",
      "Total params: 7,201,153\n",
      "Trainable params: 7,201,153\n",
      "Non-trainable params: 0\n",
      "__________________________________________________________________________________________________\n"
     ]
    }
   ],
   "source": [
    "premise_input = Input(shape=(None, WORD_EMBEDDING_DIM))\n",
    "hypothesis_input = Input(shape=(None, WORD_EMBEDDING_DIM))\n",
    "\n",
    "l_lstm1 = Bidirectional(LSTM(LSTM_UNITS, return_sequences=True))(premise_input)\n",
    "l_lstm2 = Bidirectional(LSTM(LSTM_UNITS, return_sequences=True))(hypothesis_input)\n",
    "\n",
    "l_max1 = Lambda(lambda x: K.max(x, axis=0))(l_lstm1)\n",
    "l_max2 = Lambda(lambda x: K.max(x, axis=0))(l_lstm2)\n",
    "l_max1 = Reshape((2 * LSTM_UNITS,))(l_max1)\n",
    "l_max2 = Reshape((2 * LSTM_UNITS,))(l_max2)\n",
    "\n",
    "l_abssub = Lambda(lambda x: K.abs(x[0] - x[1]))([l_max1, l_max2])\n",
    "l_mul = multiply([l_max1, l_max2])\n",
    "\n",
    "x = concatenate([l_max1, l_max2, l_abssub, l_mul])\n",
    "\n",
    "x = Dropout(DROPOUT_RATE)(x)\n",
    "x = Dense(FC_DIM, activation='relu')(x)\n",
    "x = Dropout(DROPOUT_RATE)(x)\n",
    "x = Dense(FC_DIM, activation='relu')(x)\n",
    "x = Dropout(DROPOUT_RATE)(x)\n",
    "pred = Dense(1, activation='sigmoid')(x)\n",
    "\n",
    "model = Model(inputs=[premise_input, hypothesis_input], outputs=pred)\n",
    "\n",
    "model.compile(optimizer='adam', loss='binary_crossentropy')\n",
    "\n",
    "model.summary()"
   ]
  },
  {
   "cell_type": "code",
   "execution_count": null,
   "metadata": {},
   "outputs": [],
   "source": []
  }
 ],
 "metadata": {
  "kernelspec": {
   "display_name": "Python 3",
   "language": "python",
   "name": "python3"
  },
  "language_info": {
   "codemirror_mode": {
    "name": "ipython",
    "version": 3
   },
   "file_extension": ".py",
   "mimetype": "text/x-python",
   "name": "python",
   "nbconvert_exporter": "python",
   "pygments_lexer": "ipython3",
   "version": "3.6.1"
  }
 },
 "nbformat": 4,
 "nbformat_minor": 2
}
