{
 "cells": [
  {
   "cell_type": "code",
   "execution_count": 1,
   "metadata": {},
   "outputs": [
    {
     "name": "stderr",
     "output_type": "stream",
     "text": [
      "Using TensorFlow backend.\n"
     ]
    }
   ],
   "source": [
    "import numpy as np\n",
    "\n",
    "import keras.backend as K\n",
    "from keras.engine.topology import Layer\n",
    "from keras.models import Model\n",
    "from keras.layers import Input, Dense, LSTM, Bidirectional, Dropout, concatenate, multiply, Lambda, Reshape"
   ]
  },
  {
   "cell_type": "code",
   "execution_count": 15,
   "metadata": {},
   "outputs": [],
   "source": [
    "from wikipedia2vec import Wikipedia2Vec\n",
    "import pandas as pd\n",
    "import pickle\n",
    "import json\n",
    "import re"
   ]
  },
  {
   "cell_type": "code",
   "execution_count": 2,
   "metadata": {},
   "outputs": [],
   "source": [
    "# Fix ramdom seed.\n",
    "from numpy.random import seed\n",
    "seed(1)\n",
    "from tensorflow import set_random_seed\n",
    "set_random_seed(1)"
   ]
  },
  {
   "cell_type": "markdown",
   "metadata": {},
   "source": [
    "## Preprocessing"
   ]
  },
  {
   "cell_type": "code",
   "execution_count": 51,
   "metadata": {},
   "outputs": [],
   "source": [
    "flatten = lambda multi_list: [item for sublist in multi_list for item in sublist if (not isinstance(item, str)) or (len(item) is not 0)]\n",
    "\n",
    "def labeling(sentence_df: pd.DataFrame, train_dict: dict):\n",
    "    _sentence_df = sentence_df.assign(label = False)\n",
    "    for _id, train_values in train_dict.items():\n",
    "        if len(train_values) is 0:\n",
    "            continue\n",
    "\n",
    "        _sentence_df.loc[_sentence_df._id == _id, 'label'] = \\\n",
    "            _sentence_df.loc[_sentence_df._id == _id].sentence.str.contains(isin_pat(train_values))\n",
    "\n",
    "    return _sentence_df\n",
    "\n",
    "def get_annotation(annotation_data: list, attribute: str):\n",
    "    train_dict = {}\n",
    "    for entry in annotation_data:\n",
    "        train_dict[str(entry['WikipediaID'])] = flatten([re.findall(r'([^。]+)', item) for item in entry['Attributes'][attribute]])\n",
    "\n",
    "    return train_dict\n",
    "\n",
    "def isin_pat(matching: [str, list]):\n",
    "    if isinstance(matching, str):\n",
    "        return re.escape(\"%s\" % str)\n",
    "    elif isinstance(matching, list):\n",
    "        return \"|\".join([re.escape(t) for t in matching])"
   ]
  },
  {
   "cell_type": "code",
   "execution_count": 52,
   "metadata": {},
   "outputs": [
    {
     "name": "stdout",
     "output_type": "stream",
     "text": [
      "Number of train sentences: 7435\n",
      "True: 508 \tFalse: 6927\n",
      "Number of valid sentences: 1564\n",
      "True: 88 \tFalse: 1476\n"
     ]
    }
   ],
   "source": [
    "# load data\n",
    "train_df = pd.read_csv(\"../data/train.csv\", dtype={'_id': str})\n",
    "valid_df = pd.read_csv(\"../data/valid.csv\", dtype={'_id': str})\n",
    "\n",
    "with open(\"../data/compound_train.json\", 'r', encoding='utf-8') as f:\n",
    "    train_raw = json.load(f)['entry']\n",
    "\n",
    "train_manufacturing_dict = get_annotation(train_raw, '製造方法')\n",
    "train_df = labeling(train_df, train_manufacturing_dict)\n",
    "valid_df = labeling(valid_df, train_manufacturing_dict)\n",
    "\n",
    "print(\"Number of train sentences:\", len(train_df))\n",
    "print(\"True:\", len(train_df[train_df.label == True]), \"\\tFalse:\", len(train_df[train_df.label == False]))\n",
    "print(\"Number of valid sentences:\", len(valid_df))\n",
    "print(\"True:\", len(valid_df[valid_df.label == True]), \"\\tFalse:\", len(valid_df[valid_df.label == False]))"
   ]
  },
  {
   "cell_type": "code",
   "execution_count": null,
   "metadata": {},
   "outputs": [],
   "source": []
  },
  {
   "cell_type": "code",
   "execution_count": 3,
   "metadata": {},
   "outputs": [],
   "source": [
    "WORD_EMBEDDING_DIM = 300\n",
    "FC_DIM = 128\n",
    "LSTM_UNITS = 512"
   ]
  },
  {
   "cell_type": "code",
   "execution_count": 4,
   "metadata": {},
   "outputs": [
    {
     "name": "stdout",
     "output_type": "stream",
     "text": [
      "__________________________________________________________________________________________________\n",
      "Layer (type)                    Output Shape         Param #     Connected to                     \n",
      "==================================================================================================\n",
      "input_1 (InputLayer)            (None, None, 300)    0                                            \n",
      "__________________________________________________________________________________________________\n",
      "input_2 (InputLayer)            (None, None, 300)    0                                            \n",
      "__________________________________________________________________________________________________\n",
      "bidirectional_1 (Bidirectional) (None, None, 1024)   3330048     input_1[0][0]                    \n",
      "__________________________________________________________________________________________________\n",
      "bidirectional_2 (Bidirectional) (None, None, 1024)   3330048     input_2[0][0]                    \n",
      "__________________________________________________________________________________________________\n",
      "lambda_1 (Lambda)               (None, 1024)         0           bidirectional_1[0][0]            \n",
      "__________________________________________________________________________________________________\n",
      "lambda_2 (Lambda)               (None, 1024)         0           bidirectional_2[0][0]            \n",
      "__________________________________________________________________________________________________\n",
      "reshape_1 (Reshape)             (None, 1024)         0           lambda_1[0][0]                   \n",
      "__________________________________________________________________________________________________\n",
      "reshape_2 (Reshape)             (None, 1024)         0           lambda_2[0][0]                   \n",
      "__________________________________________________________________________________________________\n",
      "lambda_3 (Lambda)               (None, 1024)         0           reshape_1[0][0]                  \n",
      "                                                                 reshape_2[0][0]                  \n",
      "__________________________________________________________________________________________________\n",
      "multiply_1 (Multiply)           (None, 1024)         0           reshape_1[0][0]                  \n",
      "                                                                 reshape_2[0][0]                  \n",
      "__________________________________________________________________________________________________\n",
      "concatenate_1 (Concatenate)     (None, 4096)         0           reshape_1[0][0]                  \n",
      "                                                                 reshape_2[0][0]                  \n",
      "                                                                 lambda_3[0][0]                   \n",
      "                                                                 multiply_1[0][0]                 \n",
      "__________________________________________________________________________________________________\n",
      "dropout_1 (Dropout)             (None, 4096)         0           concatenate_1[0][0]              \n",
      "__________________________________________________________________________________________________\n",
      "dense_1 (Dense)                 (None, 128)          524416      dropout_1[0][0]                  \n",
      "__________________________________________________________________________________________________\n",
      "dropout_2 (Dropout)             (None, 128)          0           dense_1[0][0]                    \n",
      "__________________________________________________________________________________________________\n",
      "dense_2 (Dense)                 (None, 128)          16512       dropout_2[0][0]                  \n",
      "__________________________________________________________________________________________________\n",
      "dropout_3 (Dropout)             (None, 128)          0           dense_2[0][0]                    \n",
      "__________________________________________________________________________________________________\n",
      "dense_3 (Dense)                 (None, 1)            129         dropout_3[0][0]                  \n",
      "==================================================================================================\n",
      "Total params: 7,201,153\n",
      "Trainable params: 7,201,153\n",
      "Non-trainable params: 0\n",
      "__________________________________________________________________________________________________\n"
     ]
    }
   ],
   "source": [
    "premise_input = Input(shape=(None, WORD_EMBEDDING_DIM))\n",
    "hypothesis_input = Input(shape=(None, WORD_EMBEDDING_DIM))\n",
    "\n",
    "l_lstm1 = Bidirectional(LSTM(LSTM_UNITS, return_sequences=True))(premise_input)\n",
    "l_lstm2 = Bidirectional(LSTM(LSTM_UNITS, return_sequences=True))(hypothesis_input)\n",
    "\n",
    "l_max1 = Lambda(lambda x: K.max(x, axis=0))(l_lstm1)\n",
    "l_max2 = Lambda(lambda x: K.max(x, axis=0))(l_lstm2)\n",
    "l_max1 = Reshape((2 * LSTM_UNITS,))(l_max1)\n",
    "l_max2 = Reshape((2 * LSTM_UNITS,))(l_max2)\n",
    "\n",
    "l_abssub = Lambda(lambda x: K.abs(x[0] - x[1]))([l_max1, l_max2])\n",
    "l_mul = multiply([l_max1, l_max2])\n",
    "\n",
    "x = concatenate([l_max1, l_max2, l_abssub, l_mul])\n",
    "\n",
    "x = Dropout(0.2)(x)\n",
    "x = Dense(FC_DIM, activation='relu')(x)\n",
    "x = Dropout(0.2)(x)\n",
    "x = Dense(FC_DIM, activation='relu')(x)\n",
    "x = Dropout(0.2)(x)\n",
    "pred = Dense(1, activation='sigmoid')(x)\n",
    "\n",
    "model = Model(inputs=[premise_input, hypothesis_input], outputs=pred)\n",
    "\n",
    "model.compile(optimizer='adam', loss='binary_crossentropy')\n",
    "\n",
    "model.summary()"
   ]
  },
  {
   "cell_type": "code",
   "execution_count": null,
   "metadata": {},
   "outputs": [],
   "source": []
  }
 ],
 "metadata": {
  "kernelspec": {
   "display_name": "Python 3",
   "language": "python",
   "name": "python3"
  },
  "language_info": {
   "codemirror_mode": {
    "name": "ipython",
    "version": 3
   },
   "file_extension": ".py",
   "mimetype": "text/x-python",
   "name": "python",
   "nbconvert_exporter": "python",
   "pygments_lexer": "ipython3",
   "version": "3.5.2"
  }
 },
 "nbformat": 4,
 "nbformat_minor": 2
}
