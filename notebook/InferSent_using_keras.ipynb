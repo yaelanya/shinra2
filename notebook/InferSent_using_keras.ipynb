{
 "cells": [
  {
   "cell_type": "code",
   "execution_count": 1,
   "metadata": {},
   "outputs": [
    {
     "name": "stderr",
     "output_type": "stream",
     "text": [
      "Using TensorFlow backend.\n"
     ]
    }
   ],
   "source": [
    "import numpy as np\n",
    "import pandas as pd\n",
    "import pickle\n",
    "import json\n",
    "import re\n",
    "from wikipedia2vec import Wikipedia2Vec\n",
    "\n",
    "import keras.backend as K\n",
    "from keras import metrics\n",
    "from keras.engine.topology import Layer\n",
    "from keras.models import Model\n",
    "from keras.layers import Input, Dense, LSTM, Bidirectional, Dropout, concatenate, multiply, Lambda, Reshape\n",
    "from keras.preprocessing.sequence import pad_sequences"
   ]
  },
  {
   "cell_type": "code",
   "execution_count": 2,
   "metadata": {},
   "outputs": [],
   "source": [
    "# Fix ramdom seed.\n",
    "from numpy.random import seed\n",
    "seed(1)\n",
    "from tensorflow import set_random_seed\n",
    "set_random_seed(1)"
   ]
  },
  {
   "cell_type": "markdown",
   "metadata": {},
   "source": [
    "## Preprocessing"
   ]
  },
  {
   "cell_type": "code",
   "execution_count": 3,
   "metadata": {},
   "outputs": [
    {
     "name": "stdout",
     "output_type": "stream",
     "text": [
      "Number of train sentences: 7435\n",
      "True: 508 \tFalse: 6927\n",
      "Number of valid sentences: 1564\n",
      "True: 88 \tFalse: 1476\n"
     ]
    }
   ],
   "source": [
    "train_df = pd.read_csv(\"../data/train_split_words.csv\", dtype={'_id': str})\n",
    "valid_df = pd.read_csv(\"../data/valid_split_words.csv\", dtype={'_id': str})\n",
    "\n",
    "print(\"Number of train sentences:\", len(train_df))\n",
    "print(\"True:\", len(train_df[train_df.label == True]), \"\\tFalse:\", len(train_df[train_df.label == False]))\n",
    "print(\"Number of valid sentences:\", len(valid_df))\n",
    "print(\"True:\", len(valid_df[valid_df.label == True]), \"\\tFalse:\", len(valid_df[valid_df.label == False]))"
   ]
  },
  {
   "cell_type": "code",
   "execution_count": 4,
   "metadata": {},
   "outputs": [],
   "source": [
    "manufacturing_df = pd.read_csv(\"../data/manufacturing_words.csv\", dtype={'_id': str})"
   ]
  },
  {
   "cell_type": "code",
   "execution_count": 5,
   "metadata": {},
   "outputs": [],
   "source": [
    "# load model\n",
    "ja_w2v = Wikipedia2Vec.load(\"../model/jawiki_20180420_300d.pkl\")\n",
    "en_w2v = Wikipedia2Vec.load(\"../model/enwiki_20180420_300d.pkl\")\n",
    "\n",
    "with open(\"../model/wikipedia2vec_en2ja_mapping.pkl\", 'rb') as f:\n",
    "    transformer = pickle.load(f)"
   ]
  },
  {
   "cell_type": "code",
   "execution_count": 6,
   "metadata": {},
   "outputs": [],
   "source": [
    "def transfer_vectors(words, lang='ja'):\n",
    "    return [w2v(w.lower(), lang=lang) for w in words]\n",
    "        \n",
    "def w2v(w, embedding_dim=300, lang='ja'):\n",
    "    try:\n",
    "        if lang == 'ja':\n",
    "            return ja_w2v.get_word_vector(w).tolist()\n",
    "        elif lang == 'en':\n",
    "            return transformer.predict([en_w2v.get_word_vector(w)])[0]\n",
    "        else:\n",
    "            print(\"Undefined language.\")\n",
    "            return [0.0] * embedding_dim\n",
    "    \n",
    "    except KeyError:\n",
    "        return [0.0] * embedding_dim\n",
    "    \n",
    "def entry2vec(title, embedding_dim=300, lang='ja'):\n",
    "    try:\n",
    "        if lang == 'ja':\n",
    "            return ja_w2v.get_entity_vector(title).tolist()\n",
    "        elif lang == 'en':\n",
    "            return transformer.predict([en_w2v.get_entity_vector(title)])[0]\n",
    "        else:\n",
    "            print(\"Undefined language.\")\n",
    "            return [0.0] * embedding_dim\n",
    "    \n",
    "    except KeyError:\n",
    "        return [0.0] * embedding_dim"
   ]
  },
  {
   "cell_type": "code",
   "execution_count": 9,
   "metadata": {},
   "outputs": [],
   "source": [
    "train_df.words = train_df.words.apply(lambda x: eval(x))\n",
    "ja_train_seq = pad_sequences(train_df.words.apply(lambda x: transfer_vectors(x)).tolist(), dtype='float32', padding='post', truncating='pre', maxlen=50)\n",
    "train_df['ja_vec'] = pd.Series([vec for vec in ja_train_seq])\n",
    "\n",
    "valid_df.words = valid_df.words.apply(lambda x: eval(x))\n",
    "ja_valid_seq = pad_sequences(valid_df.words.apply(lambda x: transfer_vectors(x)).tolist(), dtype='float32', padding='post', truncating='pre', maxlen=50)\n",
    "valid_df['ja_vec'] = pd.Series([vec for vec in ja_valid_seq])\n",
    "\n",
    "manufacturing_df.manufacturing_words = manufacturing_df.manufacturing_words.apply(lambda x: eval(x))\n",
    "auxiliary_seq = pad_sequences(manufacturing_df.manufacturing_words.apply(lambda x: transfer_vectors(x, lang='en')).tolist(), dtype='float32', padding='post', truncating='pre', maxlen=50)\n",
    "manufacturing_df['en_vec'] = pd.Series([vec for vec in auxiliary_seq])"
   ]
  },
  {
   "cell_type": "code",
   "execution_count": 10,
   "metadata": {},
   "outputs": [],
   "source": [
    "# Afeter cross join\n",
    "train_df = pd.merge(train_df, manufacturing_df, on='_id')\n",
    "valid_df = pd.merge(valid_df, manufacturing_df, on='_id')"
   ]
  },
  {
   "cell_type": "code",
   "execution_count": 67,
   "metadata": {},
   "outputs": [],
   "source": [
    "train_df.to_pickle(\"../dump/train.pkl\")\n",
    "valid_df.to_pickle(\"../dump/valid.pkl\")"
   ]
  },
  {
   "cell_type": "code",
   "execution_count": 11,
   "metadata": {},
   "outputs": [
    {
     "name": "stdout",
     "output_type": "stream",
     "text": [
      "Number of train sentences: 57641\n",
      "True: 3593 \tFalse: 54048\n",
      "Number of valid sentences: 15735\n",
      "True: 557 \tFalse: 15178\n"
     ]
    }
   ],
   "source": [
    "# load data\n",
    "train_df = pd.read_pickle(\"../dump/train.pkl\")\n",
    "valid_df = pd.read_pickle(\"../dump/valid.pkl\")\n",
    "\n",
    "print(\"Number of train sentences:\", len(train_df))\n",
    "print(\"True:\", len(train_df[train_df.label == True]), \"\\tFalse:\", len(train_df[train_df.label == False]))\n",
    "print(\"Number of valid sentences:\", len(valid_df))\n",
    "print(\"True:\", len(valid_df[valid_df.label == True]), \"\\tFalse:\", len(valid_df[valid_df.label == False]))"
   ]
  },
  {
   "cell_type": "code",
   "execution_count": 12,
   "metadata": {},
   "outputs": [],
   "source": [
    "X_train = np.array(train_df.ja_vec.tolist())\n",
    "X_train_auxiliary = np.array(train_df.en_vec.tolist())\n",
    "X_valid = np.array(valid_df.ja_vec.tolist())\n",
    "X_valid_auxiliary = np.array(train_df.en_vec.tolist())\n",
    "\n",
    "y_train = train_df.label.values.reshape((-1, 1))\n",
    "y_valid = valid_df.label.values.reshape((-1, 1))"
   ]
  },
  {
   "cell_type": "code",
   "execution_count": 13,
   "metadata": {},
   "outputs": [
    {
     "name": "stdout",
     "output_type": "stream",
     "text": [
      "(57641, 50, 300)\n",
      "(57641, 50, 300)\n",
      "(57641, 1)\n"
     ]
    }
   ],
   "source": [
    "print(X_train.shape)\n",
    "print(X_train_auxiliary.shape)\n",
    "print(y_train.shape)"
   ]
  },
  {
   "cell_type": "markdown",
   "metadata": {},
   "source": [
    "## Modeling"
   ]
  },
  {
   "cell_type": "code",
   "execution_count": 14,
   "metadata": {},
   "outputs": [],
   "source": [
    "WORD_EMBEDDING_DIM = 300\n",
    "FC_DIM = 128\n",
    "LSTM_UNITS = 512\n",
    "DROPOUT_RATE = 0.2"
   ]
  },
  {
   "cell_type": "code",
   "execution_count": 15,
   "metadata": {},
   "outputs": [],
   "source": [
    "def f1(y_true, y_pred):\n",
    "    def recall(y_true, y_pred):\n",
    "        \"\"\"Recall metric.\n",
    "\n",
    "        Only computes a batch-wise average of recall.\n",
    "\n",
    "        Computes the recall, a metric for multi-label classification of\n",
    "        how many relevant items are selected.\n",
    "        \"\"\"\n",
    "        true_positives = K.sum(K.round(K.clip(y_true * y_pred, 0, 1)))\n",
    "        possible_positives = K.sum(K.round(K.clip(y_true, 0, 1)))\n",
    "        recall = true_positives / (possible_positives + K.epsilon())\n",
    "        return recall\n",
    "\n",
    "    def precision(y_true, y_pred):\n",
    "        \"\"\"Precision metric.\n",
    "\n",
    "        Only computes a batch-wise average of precision.\n",
    "\n",
    "        Computes the precision, a metric for multi-label classification of\n",
    "        how many selected items are relevant.\n",
    "        \"\"\"\n",
    "        true_positives = K.sum(K.round(K.clip(y_true * y_pred, 0, 1)))\n",
    "        predicted_positives = K.sum(K.round(K.clip(y_pred, 0, 1)))\n",
    "        precision = true_positives / (predicted_positives + K.epsilon())\n",
    "        return precision\n",
    "    precision = precision(y_true, y_pred)\n",
    "    recall = recall(y_true, y_pred)\n",
    "    return 2*((precision*recall)/(precision+recall+K.epsilon()))"
   ]
  },
  {
   "cell_type": "code",
   "execution_count": 22,
   "metadata": {},
   "outputs": [
    {
     "name": "stdout",
     "output_type": "stream",
     "text": [
      "__________________________________________________________________________________________________\n",
      "Layer (type)                    Output Shape         Param #     Connected to                     \n",
      "==================================================================================================\n",
      "input_3 (InputLayer)            (None, None, 300)    0                                            \n",
      "__________________________________________________________________________________________________\n",
      "input_4 (InputLayer)            (None, None, 300)    0                                            \n",
      "__________________________________________________________________________________________________\n",
      "bidirectional_3 (Bidirectional) (None, None, 1024)   3330048     input_3[0][0]                    \n",
      "__________________________________________________________________________________________________\n",
      "bidirectional_4 (Bidirectional) (None, None, 1024)   3330048     input_4[0][0]                    \n",
      "__________________________________________________________________________________________________\n",
      "lambda_4 (Lambda)               (None, 1024)         0           bidirectional_3[0][0]            \n",
      "__________________________________________________________________________________________________\n",
      "lambda_5 (Lambda)               (None, 1024)         0           bidirectional_4[0][0]            \n",
      "__________________________________________________________________________________________________\n",
      "lambda_6 (Lambda)               (None, 1024)         0           lambda_4[0][0]                   \n",
      "                                                                 lambda_5[0][0]                   \n",
      "__________________________________________________________________________________________________\n",
      "multiply_2 (Multiply)           (None, 1024)         0           lambda_4[0][0]                   \n",
      "                                                                 lambda_5[0][0]                   \n",
      "__________________________________________________________________________________________________\n",
      "concatenate_2 (Concatenate)     (None, 4096)         0           lambda_4[0][0]                   \n",
      "                                                                 lambda_5[0][0]                   \n",
      "                                                                 lambda_6[0][0]                   \n",
      "                                                                 multiply_2[0][0]                 \n",
      "__________________________________________________________________________________________________\n",
      "dropout_4 (Dropout)             (None, 4096)         0           concatenate_2[0][0]              \n",
      "__________________________________________________________________________________________________\n",
      "dense_4 (Dense)                 (None, 128)          524416      dropout_4[0][0]                  \n",
      "__________________________________________________________________________________________________\n",
      "dropout_5 (Dropout)             (None, 128)          0           dense_4[0][0]                    \n",
      "__________________________________________________________________________________________________\n",
      "dense_5 (Dense)                 (None, 128)          16512       dropout_5[0][0]                  \n",
      "__________________________________________________________________________________________________\n",
      "dropout_6 (Dropout)             (None, 128)          0           dense_5[0][0]                    \n",
      "__________________________________________________________________________________________________\n",
      "dense_6 (Dense)                 (None, 1)            129         dropout_6[0][0]                  \n",
      "==================================================================================================\n",
      "Total params: 7,201,153\n",
      "Trainable params: 7,201,153\n",
      "Non-trainable params: 0\n",
      "__________________________________________________________________________________________________\n"
     ]
    }
   ],
   "source": [
    "premise_input = Input(shape=(None, WORD_EMBEDDING_DIM))\n",
    "hypothesis_input = Input(shape=(None, WORD_EMBEDDING_DIM))\n",
    "\n",
    "l_lstm1 = Bidirectional(LSTM(LSTM_UNITS, return_sequences=True))(premise_input)\n",
    "l_lstm2 = Bidirectional(LSTM(LSTM_UNITS, return_sequences=True))(hypothesis_input)\n",
    "\n",
    "l_max1 = Lambda(lambda x: K.max(x, axis=1))(l_lstm1)\n",
    "l_max2 = Lambda(lambda x: K.max(x, axis=1))(l_lstm2)\n",
    "\n",
    "l_abssub = Lambda(lambda x: K.abs(x[0] - x[1]))([l_max1, l_max2])\n",
    "l_mul = multiply([l_max1, l_max2])\n",
    "\n",
    "x = concatenate([l_max1, l_max2, l_abssub, l_mul])\n",
    "\n",
    "x = Dropout(DROPOUT_RATE)(x)\n",
    "x = Dense(FC_DIM, activation='relu')(x)\n",
    "x = Dropout(DROPOUT_RATE)(x)\n",
    "x = Dense(FC_DIM, activation='relu')(x)\n",
    "x = Dropout(DROPOUT_RATE)(x)\n",
    "pred = Dense(1, activation='sigmoid')(x)\n",
    "\n",
    "model = Model(inputs=[premise_input, hypothesis_input], outputs=pred)\n",
    "\n",
    "model.compile(optimizer='adam', loss='binary_crossentropy', metrics=[metrics.binary_accuracy, f1])\n",
    "\n",
    "model.summary()"
   ]
  },
  {
   "cell_type": "code",
   "execution_count": 23,
   "metadata": {},
   "outputs": [
    {
     "name": "stdout",
     "output_type": "stream",
     "text": [
      "Epoch 1/3\n",
      "57641/57641 [==============================] - 115s 2ms/step - loss: 0.0686 - binary_accuracy: 0.9767 - f1: 0.7267\n",
      "Epoch 2/3\n",
      "57641/57641 [==============================] - 113s 2ms/step - loss: 0.0074 - binary_accuracy: 0.9979 - f1: 0.9807\n",
      "Epoch 3/3\n",
      "57641/57641 [==============================] - 114s 2ms/step - loss: 0.0046 - binary_accuracy: 0.9984 - f1: 0.9860\n"
     ]
    },
    {
     "data": {
      "text/plain": [
       "<keras.callbacks.History at 0x7f93ef3c6a20>"
      ]
     },
     "execution_count": 23,
     "metadata": {},
     "output_type": "execute_result"
    }
   ],
   "source": [
    "model.fit([X_train, X_train_auxiliary], y_train, batch_size=128, epochs=3)"
   ]
  },
  {
   "cell_type": "code",
   "execution_count": 24,
   "metadata": {},
   "outputs": [],
   "source": [
    "predict = model.predict([X_valid, X_valid_auxiliary])"
   ]
  },
  {
   "cell_type": "code",
   "execution_count": 25,
   "metadata": {},
   "outputs": [],
   "source": [
    "def evaluation(pred_true, pred_false):\n",
    "    TP = pred_true[pred_true.label == True].count()[0]\n",
    "    FP = pred_true[pred_true.label == False].count()[0]\n",
    "    TN = pred_false[pred_false.label == False].count()[0]\n",
    "    FN = pred_false[pred_false.label == True].count()[0]\n",
    "\n",
    "    precision = TP / (TP + FP)\n",
    "    recall = TP / (TP + FN)\n",
    "    F1 = 2 * precision * recall / (precision + recall)\n",
    "\n",
    "    print(\"TP:\", TP, \"\\tFP:\", FP, \"\\tTN:\", TN, \"\\tFN:\", FN)\n",
    "    print(\"Precision:\", precision, \"\\tRecall:\", recall, \"\\tF1:\", F1)"
   ]
  },
  {
   "cell_type": "code",
   "execution_count": 26,
   "metadata": {},
   "outputs": [
    {
     "name": "stdout",
     "output_type": "stream",
     "text": [
      "重複あり\n",
      "TP: 233 \tFP: 55 \tTN: 15123 \tFN: 324\n",
      "Precision: 0.8090277777777778 \tRecall: 0.41831238779174146 \tF1: 0.5514792899408284\n",
      "重複なし\n",
      "TP: 13 \tFP: 6 \tTN: 737 \tFN: 20\n",
      "Precision: 0.6842105263157895 \tRecall: 0.3939393939393939 \tF1: 0.5\n"
     ]
    }
   ],
   "source": [
    "pred_true = valid_df.loc[np.where(predict >= 0.5)[0]]\n",
    "pred_false = valid_df.loc[np.where(predict < 0.5)[0]]\n",
    "pred_true_uniq = pred_true.drop_duplicates(['_id', 'sentence'])\n",
    "pred_false_uniq = pred_false.drop_duplicates(['_id', 'sentence'])\n",
    "\n",
    "print(\"重複あり\")\n",
    "evaluation(pred_true, pred_false)\n",
    "\n",
    "print(\"重複なし\")\n",
    "evaluation(pred_true_uniq, pred_false_uniq)"
   ]
  },
  {
   "cell_type": "code",
   "execution_count": 68,
   "metadata": {},
   "outputs": [
    {
     "data": {
      "text/plain": [
       "array([['シアン化水素',\n",
       "        '工業的にはソハイオ法によるアクリロニトリル製造の際の副産物として得られるほか、メタン、アンモニア、空気の混合ガスを高温下白金触媒に通すことによって作られる（アンドルソフ法）。',\n",
       "        'common methods manufacturing hydrogen cyanide ', True],\n",
       "       ['スチレン', '工業的にはエチルベンゼンを鉄触媒等で脱水素してスチレンが製造される。',\n",
       "        'direct dehydrogenation ethylbenzene styrene accounts 85 commercial production ',\n",
       "        True],\n",
       "       ['スチレン', '次世代のスチレン製造法として、トルエンとメタノールに塩基性ゼオライト触媒を作用させる方法が研究されている。',\n",
       "        'direct dehydrogenation ethylbenzene styrene accounts 85 commercial production ',\n",
       "        False],\n",
       "       ['ベンジルアミン', 'ベンジルアミンはベンゾニトリルの水素化によって得られる。',\n",
       "        'benzylamine produced reaction benzyl chloride ammonia aqueous solution ',\n",
       "        True],\n",
       "       ['イサト酸無水物',\n",
       "        'ベンズイソオキサゾールまたはアントラニル酸にクロロギ酸エチルを反応させるか、アントラニル酸ナトリウムにホスゲンを反応させることによって得られる。',\n",
       "        'passing phosgene solution anthranilic acid aqueous hydrochloric acid',\n",
       "        True],\n",
       "       ['サッカリン', '1950年にアントラニル酸に亜硝酸・二酸化硫黄・塩素・アンモニアを順次作用させる改良合成法が報告された。',\n",
       "        'countries commercial saccharin produced remsen fahlberg process ',\n",
       "        True],\n",
       "       ['エタノール',\n",
       "        'C 6 H 12 O 6 ⟶ 2 C 2 H 5 OH + 2 CO 2 一部は、化石燃料由来のエチレンの水和反応等の有機合成手法によっても製造される。',\n",
       "        'direct catalytic hydration ethylene ', True],\n",
       "       ['イオノン', '植物の精油から得られるが、主に化学合成によって製造される。',\n",
       "        'condensing citral acetone form pseudoionone cyclized acid type reagents ',\n",
       "        True],\n",
       "       ['イオノン', 'シトラールにアセトンを塩基触媒を用いたアルドール反応によって縮合させると、プソイドイオノンが生成する。',\n",
       "        'condensing citral acetone form pseudoionone cyclized acid type reagents ',\n",
       "        False],\n",
       "       ['イオノン', 'プソイドイオノンに希酸を加えて暖めると環化がおこり、α-イオノンとβ-イオノンの混合物が得られる。',\n",
       "        'scent off pellets baker s 18 corporation active ingredient oil mustard 0 20 oil citronella 1 20 oil lemongrass 2 00 oil orange 0 02 methyl salicylate 0 02 bergamot oil 0 11 3 buten 2 one 4 2 6 6 trimethyl 2 cyclohexen 1 yl e 0 01 geraniol 0 04 ',\n",
       "        True],\n",
       "       ['イソブチルアミン', 'アンモニアと水素とイソプロパノールとの反応で生じる。',\n",
       "        'isobutyl alcohol ammonia british patent 847 799 1960 cellulose polymeres et derives cepede shirley speranza patent 3 128 311 1964 jefferson chem ',\n",
       "        True],\n",
       "       ['シトロネロール', 'ゲラニオールの水素化によって合成される。',\n",
       "        'citronellol manufactured commercial scale hydrogenation nerol geraniol turn alpha beta pinene ',\n",
       "        True],\n",
       "       ['尿素',\n",
       "        '具体的には、尿素をディーゼルエンジンの排熱で分解し、放出されるアンモニアと排気中に含まれる窒素酸化物を化学反応させ、水と窒素に還元させる。',\n",
       "        'method purification crystallization ', False],\n",
       "       ['尿素', 'この合成法はヴェーラー合成と呼ばれている。',\n",
       "        'ammonia carbon monoxide sulfur methanol ', True],\n",
       "       ['三フッ化アンチモン', '無色ないし淡い灰色の結晶で、三酸化アンチモンとフッ化水素との直接反応により生成される。',\n",
       "        'prepd dissolving antimony trioxide aqueous hydrogen fluoride evaporating water ',\n",
       "        True],\n",
       "       ['シアン化水銀(II)', '実験室レベルでのジシアンの合成法の1つは、シアン化水銀(II)の熱分解である。',\n",
       "        'obtained evaporating solution mercuric oxide aq hydrogen cyanide biltz z anorg allgem chem 170 161 1928 ',\n",
       "        False]], dtype=object)"
      ]
     },
     "execution_count": 68,
     "metadata": {},
     "output_type": "execute_result"
    }
   ],
   "source": [
    "pred_true_uniq[['title', 'sentence', 'manufacturing', 'label']].valueｓ"
   ]
  },
  {
   "cell_type": "code",
   "execution_count": 64,
   "metadata": {},
   "outputs": [
    {
     "data": {
      "text/plain": [
       "array([['497499',\n",
       "        'N-メチル-2-ピロリドンは、γ-ブチロラクトンとメチルアミンとを縮合させて得る 高い溶解性を持つため、特に高分子化学の分野を中心に様々な物質に対する溶媒として用いられる。',\n",
       "        'large scale production nmp n methyl 2 pyrrolidone predominantly carried reacting gamma butyrolactone excess pure aqueous methylamine high pressure tube reactor 6 12 mpa ',\n",
       "        True],\n",
       "       ['19566', '燻蒸等の目的ではシアン化ナトリウムに酸を加える方法が一般的である。',\n",
       "        'common methods manufacturing hydrogen cyanide ', True],\n",
       "       ['160786',\n",
       "        'かつては、エチルベンゼンを塩素化したのちに脱塩化水素でオレフィンとする方法やエチルベンゼンを酸化したアセトフェノン、還元したフェニルカルビノールを経由して脱水反応オレフィンとする方法なども存在したが、今日では経済的な理由で触媒により脱水素する方法以外は利用されない。',\n",
       "        'direct dehydrogenation ethylbenzene styrene accounts 85 commercial production ',\n",
       "        True],\n",
       "       ['160786', '植物・細菌・菌類の一部の種において、ケイ皮酸脱炭酸酵素によってケイ皮酸から合成される。',\n",
       "        'direct dehydrogenation ethylbenzene styrene accounts 85 commercial production ',\n",
       "        True],\n",
       "       ['62444', '元はトルエンから合成されたが、収率は低かった。',\n",
       "        'countries commercial saccharin produced remsen fahlberg process ',\n",
       "        True],\n",
       "       ['62444', '2-クロロトルエンからも作ることもできる。',\n",
       "        'countries commercial saccharin produced remsen fahlberg process ',\n",
       "        True],\n",
       "       ['305316', 'カルシウム塩の水溶液に、希硫酸または硫酸塩水溶液を加えると、徐々に結晶性沈殿が析出する。',\n",
       "        'recovery mineral anhydrite dehydration pure gypsum calcium sulfate dihydrate heating to form insol anhydrite ',\n",
       "        True],\n",
       "       ['305316', '66℃以下では2水和物、以上では無水物が析出する。',\n",
       "        'recovery mineral anhydrite dehydration pure gypsum calcium sulfate dihydrate heating to form insol anhydrite ',\n",
       "        True],\n",
       "       ['305316',\n",
       "        'Ca 2 + ( aq ) + SO 4 2 − ( aq ) + 2 H 2 O ⟶ CaSO 4 ⋅ 2 H 2 O ( s ) また硫酸と水酸化カルシウムが中和して生成する塩でもある。',\n",
       "        'recovery mineral anhydrite dehydration pure gypsum calcium sulfate dihydrate heating to form insol anhydrite ',\n",
       "        True],\n",
       "       ['12437', '現在市場に出回っているエタノールは、大部分がアルコール発酵によって製造されている。',\n",
       "        'direct catalytic hydration ethylene ', True],\n",
       "       ['969196', '生体内ではグルコース-1-デヒドロゲナーゼの作用によりグルコースから変換される。',\n",
       "        'oxidation glucose bromine water ', True],\n",
       "       ['1198019', 'プソイドイオノンに希酸を加えて暖めると環化がおこり、α-イオノンとβ-イオノンの混合物が得られる。',\n",
       "        'condensing citral acetone form pseudoionone cyclized acid type reagents ',\n",
       "        True],\n",
       "       ['1198019', 'リン酸を用いると主としてα-イオノンが、硫酸の場合には主にβ-イオノンが得られる。',\n",
       "        'condensing citral acetone form pseudoionone cyclized acid type reagents ',\n",
       "        True],\n",
       "       ['1198019', 'また、三フッ化ホウ素を使うとγ-イオノンが生成する。',\n",
       "        'condensing citral acetone form pseudoionone cyclized acid type reagents ',\n",
       "        True],\n",
       "       ['3526170', '骨を燃焼させた際に得られる物質でもある（骨灰・骨炭など）。',\n",
       "        'high temperature reaction phosphate rock silica wet process phosphoric acid soda ash feed grade reaction furnace phosphoric acid calcium oxide calcium nitrate food grade ',\n",
       "        True],\n",
       "       ['2234076', '天然には、一部の植物や藻類により自然発生する。',\n",
       "        'isobutyl alcohol ammonia british patent 847 799 1960 cellulose polymeres et derives cepede shirley speranza patent 3 128 311 1964 jefferson chem ',\n",
       "        True],\n",
       "       ['62464', '生体内では、尿素回路によりアンモニアから尿素が産生される。',\n",
       "        'ammonia carbon monoxide sulfur methanol ', True],\n",
       "       ['62464', '彼は、シアン酸アンモニウムの水溶液を加熱して尿素が生成することを確認した。',\n",
       "        'ammonia carbon monoxide sulfur methanol ', True],\n",
       "       ['1690387',\n",
       "        'シアン化水銀(I)は、水銀(I)イオンの水溶液にシアン化カリウム水溶液などを滴下したときに生じるが、この物質は不安定であり、ただちに分解してシアン化水銀(II)と水銀になる。',\n",
       "        'obtained evaporating solution mercuric oxide aq hydrogen cyanide biltz z anorg allgem chem 170 161 1928 ',\n",
       "        True],\n",
       "       ['3570913',\n",
       "        '亜リン酸トリメチルとハロメタン（ヨードメタン等）を用いたミカエリス・アルブーゾフ反応により製造が可能である。',\n",
       "        'reaction trimethyl phosphite sodium salt dimethyl hydrogen phosphite methyl chloride',\n",
       "        True],\n",
       "       ['520951', '1,2-ジクロロエタンとアンモニアを、水酸化ナトリウム存在下で反応させる。',\n",
       "        'condensation de amination diethylenetriamine condensation diethanolamine presence ammonia condensation dehydration monethanolamine',\n",
       "        True]], dtype=object)"
      ]
     },
     "execution_count": 64,
     "metadata": {},
     "output_type": "execute_result"
    }
   ],
   "source": [
    "pred_false_uniq[pred_false_uniq.label == True][['_id', 'sentence', 'manufacturing', 'label']].values"
   ]
  },
  {
   "cell_type": "code",
   "execution_count": null,
   "metadata": {},
   "outputs": [],
   "source": []
  }
 ],
 "metadata": {
  "kernelspec": {
   "display_name": "Python 3",
   "language": "python",
   "name": "python3"
  },
  "language_info": {
   "codemirror_mode": {
    "name": "ipython",
    "version": 3
   },
   "file_extension": ".py",
   "mimetype": "text/x-python",
   "name": "python",
   "nbconvert_exporter": "python",
   "pygments_lexer": "ipython3",
   "version": "3.5.2"
  }
 },
 "nbformat": 4,
 "nbformat_minor": 2
}
