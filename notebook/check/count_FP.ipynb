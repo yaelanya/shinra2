{
 "cells": [
  {
   "cell_type": "code",
   "execution_count": 2,
   "metadata": {},
   "outputs": [],
   "source": [
    "import pandas as pd\n",
    "import json\n",
    "import re"
   ]
  },
  {
   "cell_type": "code",
   "execution_count": 7,
   "metadata": {},
   "outputs": [],
   "source": [
    "with open(\"../../output/result/raw-material_using_compound-list+filtering1.json\", 'r') as f:\n",
    "    extracted_data = json.load(f)"
   ]
  },
  {
   "cell_type": "code",
   "execution_count": 8,
   "metadata": {},
   "outputs": [],
   "source": [
    "def FP_count(true, predict):\n",
    "    return len(set(predict) - set(true))"
   ]
  },
  {
   "cell_type": "code",
   "execution_count": 9,
   "metadata": {},
   "outputs": [],
   "source": [
    "count_dict = {entry['title']: FP_count(entry['true'], entry['predict']) for _id, entry in extracted_data.items()}"
   ]
  },
  {
   "cell_type": "code",
   "execution_count": 10,
   "metadata": {},
   "outputs": [
    {
     "data": {
      "text/plain": [
       "[('エタノール', 9),\n",
       " ('シアン化物', 8),\n",
       " ('アダムス触媒', 5),\n",
       " ('シアン化水素', 4),\n",
       " ('エーテル (化学)', 4),\n",
       " ('DHMO', 4),\n",
       " ('スチレン', 4),\n",
       " ('チオアミド', 4),\n",
       " ('デカカルボニルジヒドリド三オスミウム', 4),\n",
       " ('Γ-アミノ酪酸', 3),\n",
       " ('尿素', 3),\n",
       " ('硫酸カルシウム', 3),\n",
       " ('炭酸ベリリウム', 3),\n",
       " ('水酸化ベリリウム', 3),\n",
       " ('ペンタセン', 2),\n",
       " ('フルオレセイン', 2),\n",
       " ('イオノン', 2),\n",
       " ('ジメチルグリオキシム', 2),\n",
       " ('三フッ化アンチモン', 2),\n",
       " ('エドロホニウム', 2),\n",
       " ('塩化ウラン(VI)', 2),\n",
       " ('REBCO', 2),\n",
       " ('サッカリン', 1),\n",
       " ('アミグダリン', 1),\n",
       " ('ロケッテン', 1),\n",
       " ('クロム酸', 1),\n",
       " ('塩化ロジウム(III)', 1),\n",
       " ('塩化アジポイル', 1),\n",
       " ('フェンホルミン', 1),\n",
       " ('七フッ化ヨウ素', 1),\n",
       " ('ケリダム酸', 1),\n",
       " ('トリイソプロピルアミン', 1),\n",
       " ('2-モルホリノエタノール', 1),\n",
       " ('シガトキシン', 0),\n",
       " ('エナラプリル', 0),\n",
       " ('マイトトキシン', 0),\n",
       " ('フェンタニル', 0),\n",
       " ('N-メチルピロリドン', 0),\n",
       " ('酸化水銀', 0),\n",
       " ('ピペラジン', 0),\n",
       " ('Ε-アミノカプロン酸', 0),\n",
       " ('ククルビタシン', 0),\n",
       " ('グルコノラクトン', 0),\n",
       " ('レミフェンタニル', 0),\n",
       " ('ピパンペロン', 0),\n",
       " ('グラニセトロン', 0),\n",
       " ('フルニキシン', 0),\n",
       " ('チオ酢酸', 0),\n",
       " ('一酸化銀', 0),\n",
       " ('テトラヒドロゾリン', 0),\n",
       " ('窒化ベリリウム', 0),\n",
       " ('オンダンセトロン', 0),\n",
       " ('リゾホスファチジン酸', 0),\n",
       " ('安息香酸カルシウム', 0),\n",
       " ('デキストラン', 0),\n",
       " ('イサト酸無水物', 0),\n",
       " ('ベンジルアミン', 0),\n",
       " ('シアン化水銀(II)', 0),\n",
       " ('イノシトールトリスリン酸', 0),\n",
       " ('ヨウ化亜鉛', 0),\n",
       " ('フッ化亜鉛', 0),\n",
       " ('トロパン', 0),\n",
       " ('スワインソニン', 0),\n",
       " ('パントイン酸', 0),\n",
       " ('ホスホール', 0),\n",
       " ('ヘキサフルオロプロペン', 0),\n",
       " ('カナジン', 0),\n",
       " ('メトヘモグロビン', 0),\n",
       " ('プロトカテク酸', 0),\n",
       " ('リラグルチド', 0),\n",
       " ('スルファメトキサゾール', 0),\n",
       " ('フェニルアセトン', 0),\n",
       " ('パクロブトラゾール', 0),\n",
       " ('イソブチルアミン', 0),\n",
       " ('リンモリブデン酸', 0),\n",
       " ('フィリピン (化合物)', 0),\n",
       " ('オルトフタルアルデヒド', 0),\n",
       " ('2-シクロプロペンカルボン酸', 0),\n",
       " ('リン化コバルト(II)', 0),\n",
       " ('チオテパ', 0),\n",
       " ('シトロネロール', 0),\n",
       " ('パチョロール', 0),\n",
       " ('ホズルシン', 0),\n",
       " ('ベラトリジン', 0),\n",
       " ('エチレンテトラカルボン酸二無水物', 0),\n",
       " ('オクテン', 0),\n",
       " ('フルフェナム酸', 0),\n",
       " ('クリオキノール', 0),\n",
       " ('アゼルニジピン', 0),\n",
       " ('マンノサミン', 0),\n",
       " ('ネビラピン', 0),\n",
       " ('トリフルオロメタンスルホン酸銀', 0),\n",
       " ('オルニチンα‐ケトグルタル酸', 0),\n",
       " ('二塩化ゲルマニウム', 0),\n",
       " ('リン酸三カルシウム', 0),\n",
       " ('ビベンジル', 0),\n",
       " ('メチルホスホン酸ジメチル', 0),\n",
       " ('ミトコンドリアフェリチン', 0)]"
      ]
     },
     "execution_count": 10,
     "metadata": {},
     "output_type": "execute_result"
    }
   ],
   "source": [
    "sorted(count_dict.items(), key=lambda x: x[1], reverse=True)"
   ]
  },
  {
   "cell_type": "code",
   "execution_count": null,
   "metadata": {},
   "outputs": [],
   "source": []
  }
 ],
 "metadata": {
  "kernelspec": {
   "display_name": "Python 3",
   "language": "python",
   "name": "python3"
  },
  "language_info": {
   "codemirror_mode": {
    "name": "ipython",
    "version": 3
   },
   "file_extension": ".py",
   "mimetype": "text/x-python",
   "name": "python",
   "nbconvert_exporter": "python",
   "pygments_lexer": "ipython3",
   "version": "3.6.1"
  }
 },
 "nbformat": 4,
 "nbformat_minor": 2
}
