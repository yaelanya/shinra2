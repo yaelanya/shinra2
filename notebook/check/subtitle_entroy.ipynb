{
 "cells": [
  {
   "cell_type": "code",
   "execution_count": 154,
   "metadata": {},
   "outputs": [],
   "source": [
    "import numpy as np\n",
    "import pandas as pd\n",
    "import json\n",
    "import re\n",
    "import matplotlib.pyplot as plt\n",
    "import seaborn as sns"
   ]
  },
  {
   "cell_type": "code",
   "execution_count": 174,
   "metadata": {},
   "outputs": [],
   "source": [
    "plt.rcParams['font.family'] = 'IPAGothic'"
   ]
  },
  {
   "cell_type": "code",
   "execution_count": 58,
   "metadata": {},
   "outputs": [],
   "source": [
    "def extract_words(word_seq, tag_seq):\n",
    "    words_list = []\n",
    "    words = []\n",
    "    for word, tag in zip(word_seq, tag_seq):\n",
    "        if tag == 'B' and words:\n",
    "            words_list.append(''.join(words))\n",
    "            words = [word]\n",
    "        elif tag == 'B' or (tag == 'I' and words):\n",
    "            words.append(word)\n",
    "        elif words:\n",
    "            words_list.append(''.join(words))\n",
    "            words = []\n",
    "            \n",
    "    if words:\n",
    "        words_list.append(''.join(words))\n",
    "        \n",
    "    return words_list"
   ]
  },
  {
   "cell_type": "code",
   "execution_count": 3,
   "metadata": {},
   "outputs": [
    {
     "data": {
      "text/html": [
       "<div>\n",
       "<style scoped>\n",
       "    .dataframe tbody tr th:only-of-type {\n",
       "        vertical-align: middle;\n",
       "    }\n",
       "\n",
       "    .dataframe tbody tr th {\n",
       "        vertical-align: top;\n",
       "    }\n",
       "\n",
       "    .dataframe thead th {\n",
       "        text-align: right;\n",
       "    }\n",
       "</style>\n",
       "<table border=\"1\" class=\"dataframe\">\n",
       "  <thead>\n",
       "    <tr style=\"text-align: right;\">\n",
       "      <th></th>\n",
       "      <th>_id</th>\n",
       "      <th>label</th>\n",
       "      <th>sentence</th>\n",
       "      <th>title</th>\n",
       "      <th>words</th>\n",
       "      <th>repl_words</th>\n",
       "      <th>furigana_tag_seq</th>\n",
       "      <th>another_name_tag_seq</th>\n",
       "      <th>use_tag_seq</th>\n",
       "      <th>type_tag_seq</th>\n",
       "      <th>...</th>\n",
       "      <th>melting_tag_seq</th>\n",
       "      <th>boiling_tag_seq</th>\n",
       "      <th>rational_formula_tag_seq</th>\n",
       "      <th>h2</th>\n",
       "      <th>h3</th>\n",
       "      <th>h4</th>\n",
       "      <th>h5</th>\n",
       "      <th>h6</th>\n",
       "      <th>cat_production_headline</th>\n",
       "      <th>cat_raw_material_headline</th>\n",
       "    </tr>\n",
       "  </thead>\n",
       "  <tbody>\n",
       "    <tr>\n",
       "      <th>0</th>\n",
       "      <td>10166</td>\n",
       "      <td>False</td>\n",
       "      <td>アンモニア (英: ammonia) は分子式が NH 3 で表される無機化合物。</td>\n",
       "      <td>アンモニア</td>\n",
       "      <td>[アンモニア, (, 英, :, ammonia, ), は, 分子, 式, が, NH, ...</td>\n",
       "      <td>[[title-compound], (, 英, :, [title-compound], ...</td>\n",
       "      <td>[O, O, O, O, O, O, O, O, O, O, O, O, O, O, O, ...</td>\n",
       "      <td>[O, O, O, O, B, O, O, O, O, O, O, O, O, O, O, ...</td>\n",
       "      <td>[O, O, O, O, O, O, O, O, O, O, O, O, O, O, O, ...</td>\n",
       "      <td>[O, O, O, O, O, O, O, O, O, O, O, O, O, O, O, ...</td>\n",
       "      <td>...</td>\n",
       "      <td>[O, O, O, O, O, O, O, O, O, O, O, O, O, O, O, ...</td>\n",
       "      <td>[O, O, O, O, O, O, O, O, O, O, O, O, O, O, O, ...</td>\n",
       "      <td>[O, O, O, O, O, O, O, O, O, O, O, O, O, O, O, ...</td>\n",
       "      <td>NaN</td>\n",
       "      <td>NaN</td>\n",
       "      <td>NaN</td>\n",
       "      <td>NaN</td>\n",
       "      <td>NaN</td>\n",
       "      <td>2</td>\n",
       "      <td>2</td>\n",
       "    </tr>\n",
       "  </tbody>\n",
       "</table>\n",
       "<p>1 rows × 28 columns</p>\n",
       "</div>"
      ],
      "text/plain": [
       "     _id  label                                   sentence  title  \\\n",
       "0  10166  False  アンモニア (英: ammonia) は分子式が NH 3 で表される無機化合物。  アンモニア   \n",
       "\n",
       "                                               words  \\\n",
       "0  [アンモニア, (, 英, :, ammonia, ), は, 分子, 式, が, NH, ...   \n",
       "\n",
       "                                          repl_words  \\\n",
       "0  [[title-compound], (, 英, :, [title-compound], ...   \n",
       "\n",
       "                                    furigana_tag_seq  \\\n",
       "0  [O, O, O, O, O, O, O, O, O, O, O, O, O, O, O, ...   \n",
       "\n",
       "                                another_name_tag_seq  \\\n",
       "0  [O, O, O, O, B, O, O, O, O, O, O, O, O, O, O, ...   \n",
       "\n",
       "                                         use_tag_seq  \\\n",
       "0  [O, O, O, O, O, O, O, O, O, O, O, O, O, O, O, ...   \n",
       "\n",
       "                                        type_tag_seq  \\\n",
       "0  [O, O, O, O, O, O, O, O, O, O, O, O, O, O, O, ...   \n",
       "\n",
       "             ...             \\\n",
       "0            ...              \n",
       "\n",
       "                                     melting_tag_seq  \\\n",
       "0  [O, O, O, O, O, O, O, O, O, O, O, O, O, O, O, ...   \n",
       "\n",
       "                                     boiling_tag_seq  \\\n",
       "0  [O, O, O, O, O, O, O, O, O, O, O, O, O, O, O, ...   \n",
       "\n",
       "                            rational_formula_tag_seq   h2   h3   h4  h5  h6  \\\n",
       "0  [O, O, O, O, O, O, O, O, O, O, O, O, O, O, O, ...  NaN  NaN  NaN NaN NaN   \n",
       "\n",
       "  cat_production_headline cat_raw_material_headline  \n",
       "0                       2                         2  \n",
       "\n",
       "[1 rows x 28 columns]"
      ]
     },
     "execution_count": 3,
     "metadata": {},
     "output_type": "execute_result"
    }
   ],
   "source": [
    "train_df = pd.read_pickle(\"../../data/train_IOB_repl_compound.pkl\")\n",
    "train_df.head(1)"
   ]
  },
  {
   "cell_type": "code",
   "execution_count": 216,
   "metadata": {},
   "outputs": [],
   "source": [
    "def annotaions_in_section(section_df, _set=True):\n",
    "    # 属性を指定\n",
    "    annotaions = section_df.apply(lambda x: extract_words(x.words, x.production_tag_seq), axis=1).sum()\n",
    "    if _set:\n",
    "        annotaions = list(set(annotaions))\n",
    "    \n",
    "    return annotaions"
   ]
  },
  {
   "cell_type": "code",
   "execution_count": 217,
   "metadata": {},
   "outputs": [
    {
     "name": "stderr",
     "output_type": "stream",
     "text": [
      "/usr/local/var/pyenv/versions/3.6.1/lib/python3.6/site-packages/pandas/core/frame.py:6211: FutureWarning: Sorting because non-concatenation axis is not aligned. A future version\n",
      "of pandas will change to not sort by default.\n",
      "\n",
      "To accept the future behavior, pass 'sort=False'.\n",
      "\n",
      "To retain the current behavior and silence the warning, pass 'sort=True'.\n",
      "\n",
      "  sort=sort)\n"
     ]
    }
   ],
   "source": [
    "heading_dist_df = pd.DataFrame()\n",
    "for _id, entry in train_df.fillna('NO_HEADING').groupby('_id'):\n",
    "    freq_dict = entry.groupby('h2').apply(\n",
    "        lambda g: len(annotaions_in_section(g))\n",
    "    ).to_dict()\n",
    "    \n",
    "    heading_dist_df = heading_dist_df.append(pd.DataFrame({_id: freq_dict}).T)\n",
    "\n",
    "heading_dist_df = heading_dist_df.fillna(0).T"
   ]
  },
  {
   "cell_type": "code",
   "execution_count": 218,
   "metadata": {},
   "outputs": [
    {
     "name": "stderr",
     "output_type": "stream",
     "text": [
      "/usr/local/var/pyenv/versions/3.6.1/lib/python3.6/site-packages/ipykernel_launcher.py:4: RuntimeWarning: divide by zero encountered in log2\n",
      "  after removing the cwd from sys.path.\n"
     ]
    }
   ],
   "source": [
    "heading_entropy = \\\n",
    "heading_dist_df.apply(\n",
    "    lambda x: x / x.sum()\n",
    ").apply(\n",
    "    lambda x: -x * np.log2(x)\n",
    ").fillna(0).apply(\n",
    "    lambda x: np.sum(x)\n",
    "    , axis=1\n",
    ")\n",
    "heading_entropy.name = 'entropy'\n",
    "heading_entropy.sort_values(ascending=False, inplace=True)"
   ]
  },
  {
   "cell_type": "code",
   "execution_count": 219,
   "metadata": {},
   "outputs": [],
   "source": [
    "h = heading_entropy.drop('NO_HEADING')\n",
    "x = np.linspace(0, len(h), len(h))"
   ]
  },
  {
   "cell_type": "code",
   "execution_count": 221,
   "metadata": {},
   "outputs": [
    {
     "data": {
      "image/png": "[encoded data removed]",
      "text/plain": [
       "<Figure size 432x432 with 1 Axes>"
      ]
     },
     "metadata": {},
     "output_type": "display_data"
    }
   ],
   "source": [
    "plt.figure(figsize=(6,6))\n",
    "plt.xlabel(\"サブタイトルID\", fontsize=14)\n",
    "plt.ylabel(\"エントロピー\", fontsize=14)\n",
    "plt.ylim(0, 12)\n",
    "plt.plot(x, [.5] * len(x), color='red')\n",
    "plt.plot(x, h.values)\n",
    "plt.legend([\"閾値\",\"エントロピー\"], loc=\"best\", fontsize=12)\n",
    "plt.savefig(\"../../output/entropy_production.png\")"
   ]
  },
  {
   "cell_type": "code",
   "execution_count": 136,
   "metadata": {},
   "outputs": [],
   "source": [
    "heading_entropy.to_pickle(\"../../data/annotaions_entropy_in_section_production.pkl\")"
   ]
  },
  {
   "cell_type": "code",
   "execution_count": null,
   "metadata": {},
   "outputs": [],
   "source": []
  }
 ],
 "metadata": {
  "kernelspec": {
   "display_name": "Python 3",
   "language": "python",
   "name": "python3"
  },
  "language_info": {
   "codemirror_mode": {
    "name": "ipython",
    "version": 3
   },
   "file_extension": ".py",
   "mimetype": "text/x-python",
   "name": "python",
   "nbconvert_exporter": "python",
   "pygments_lexer": "ipython3",
   "version": "3.6.1"
  }
 },
 "nbformat": 4,
 "nbformat_minor": 2
}
