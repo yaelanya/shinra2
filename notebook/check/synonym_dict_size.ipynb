{
 "cells": [
  {
   "cell_type": "code",
   "execution_count": 3,
   "metadata": {},
   "outputs": [],
   "source": [
    "import pandas as pd\n",
    "import json\n",
    "import re\n",
    "import pronto"
   ]
  },
  {
   "cell_type": "code",
   "execution_count": 7,
   "metadata": {},
   "outputs": [],
   "source": [
    "flatten = lambda items: [i for sublist in items if sublist for i in sublist]\n",
    "\n",
    "def get_asynonyms_from_wikidata(entry):\n",
    "    '''\n",
    "    arg: json of WikiData entry\n",
    "    return: English and Japanese synonyms list\n",
    "    '''\n",
    "    synonyms = []\n",
    "    \n",
    "    aliases_dict = list(entry['entities'].values())[0]['aliases']\n",
    "    if aliases_dict and aliases_dict.get('en'):\n",
    "        synonyms += [alias['value'] for alias in aliases_dict.get('en')]\n",
    "    if aliases_dict and aliases_dict.get('ja'):\n",
    "        synonyms += [alias['value'] for alias in aliases_dict.get('ja')]\n",
    "    if get_title_from_wikidata(entry, lang='en'):\n",
    "        synonyms += [get_title_from_wikidata(entry, lang='en')]\n",
    "    \n",
    "    return synonyms\n",
    "\n",
    "def get_title_from_wikidata(entry, lang='ja'):\n",
    "    label_dict = list(entry['entities'].values())[0]['labels']\n",
    "    if label_dict.get(lang):\n",
    "        return label_dict.get(lang)['value']\n",
    "    return None\n",
    "\n",
    "def get_CID(article: dict) -> str:\n",
    "    if article.get('Record') and article.get('Record').get('RecordNumber'):\n",
    "        return str(article.get('Record').get('RecordNumber'))\n",
    "    else:\n",
    "        return None\n",
    "    \n",
    "def get_synonyms_from_PubChem(article):\n",
    "    synonym_list = \\\n",
    "    [synonyms['StringValueList']\n",
    "     for section in article['Record']['Section'] if section['TOCHeading'] == 'Names and Identifiers'\n",
    "     for sub_section in section['Section'] if sub_section['TOCHeading'] == 'Synonyms'\n",
    "     for synonym_info in sub_section['Section'] if synonym_info['TOCHeading'] == 'MeSH Entry Terms'\n",
    "     for synonyms in synonym_info['Information']\n",
    "    ]\n",
    "    \n",
    "    return flatten(synonym_list)\n",
    "\n",
    "def append_dict(dic, key, data):\n",
    "    if not isinstance(data, list):\n",
    "        data = [data]\n",
    "    \n",
    "    _dic = dic.copy()\n",
    "    if _dic.get(key) is None:\n",
    "        _dic[key] = data\n",
    "    elif isinstance(_dic.get(key), list):\n",
    "        _dic[key] += data\n",
    "    else:\n",
    "        _dic[key] = [_dic[key]] + data\n",
    "        \n",
    "    return _dic\n",
    "\n",
    "def remove_disambiguation(word):\n",
    "    return re.sub(r'\\s\\(.+\\)$|\\s（.+）$', '', word)\n",
    "\n",
    "def reverse_table(table: dict):\n",
    "    if not isinstance(list(table.values())[0], list):\n",
    "        return {v: k for k, v in table.items()}\n",
    "    \n",
    "    new_table = {}\n",
    "    for k, values in table.items():\n",
    "        for v in values:\n",
    "            new_table = append_dict(new_table, v, k)\n",
    "                \n",
    "    return new_table"
   ]
  },
  {
   "cell_type": "code",
   "execution_count": 12,
   "metadata": {},
   "outputs": [
    {
     "name": "stdout",
     "output_type": "stream",
     "text": [
      "35010\n"
     ]
    }
   ],
   "source": [
    "# WikiDataから同義語データを取得\n",
    "synonym_count = 0\n",
    "with open(\"../../data/compound_wikidata.jsonl\", 'r', encoding='utf-8') as f:\n",
    "    for line in f:\n",
    "        entry = json.loads(line)\n",
    "        title = get_title_from_wikidata(entry)\n",
    "        if title is None:\n",
    "            continue\n",
    "        synonyms = get_asynonyms_from_wikidata(entry)\n",
    "        synonym_count += len(synonyms)\n",
    "        \n",
    "print(synonym_count)"
   ]
  },
  {
   "cell_type": "code",
   "execution_count": 9,
   "metadata": {},
   "outputs": [],
   "source": [
    "# ChEBI Ontology から同義語データを取得\n",
    "ont = pronto.Ontology(\"../../data/chebi.owl\")\n",
    "\n",
    "with open(\"../../data/pageid2ChEBI.json\", 'r') as f:\n",
    "    pageid2ChEBI_table = json.load(f)\n",
    "\n",
    "ChEBI2pageid_table = reverse_table(pageid2ChEBI_table)\n",
    "\n",
    "synonym_count = 0\n",
    "for entry in ont:    \n",
    "    pageid_list = ChEBI2pageid_table.get(entry.id)\n",
    "    if pageid_list is None:\n",
    "        continue\n",
    "    \n",
    "    synonym_count += len(entry.synonyms)\n",
    "\n",
    "print(synonym_count)"
   ]
  },
  {
   "cell_type": "code",
   "execution_count": 8,
   "metadata": {},
   "outputs": [
    {
     "name": "stdout",
     "output_type": "stream",
     "text": [
      "18274\n"
     ]
    }
   ],
   "source": [
    "# PubChem から同義語データを取得\n",
    "with open(\"../../data/pageID2CID_using_wikidata.json\", 'r') as f:\n",
    "    cid2pageid_table = reverse_table(json.load(f))\n",
    "\n",
    "synonym_count = 0\n",
    "with open(\"../../data/pubchem_articles.jsonl\", 'r') as f:\n",
    "    for line in f:\n",
    "        entry = json.loads(line)\n",
    "        \n",
    "        cid = get_CID(entry)\n",
    "        if cid is None: continue\n",
    "        \n",
    "        pageid_list = cid2pageid_table.get(cid)\n",
    "        if pageid_list is None: continue\n",
    "            \n",
    "        synonyms = get_synonyms_from_PubChem(entry)\n",
    "        synonym_count += len(synonyms)\n",
    "\n",
    "print(synonym_count)"
   ]
  },
  {
   "cell_type": "code",
   "execution_count": 13,
   "metadata": {},
   "outputs": [],
   "source": [
    "with open(\"../../data/compound_synonyms.json\", 'r') as f:\n",
    "    synonyms_dict = json.load(f)"
   ]
  },
  {
   "cell_type": "code",
   "execution_count": 14,
   "metadata": {},
   "outputs": [
    {
     "name": "stdout",
     "output_type": "stream",
     "text": [
      "80921\n"
     ]
    }
   ],
   "source": [
    "print(len(flatten(synonyms_dict.values())))"
   ]
  }
 ],
 "metadata": {
  "kernelspec": {
   "display_name": "Python 3",
   "language": "python",
   "name": "python3"
  },
  "language_info": {
   "codemirror_mode": {
    "name": "ipython",
    "version": 3
   },
   "file_extension": ".py",
   "mimetype": "text/x-python",
   "name": "python",
   "nbconvert_exporter": "python",
   "pygments_lexer": "ipython3",
   "version": "3.6.1"
  }
 },
 "nbformat": 4,
 "nbformat_minor": 2
}
