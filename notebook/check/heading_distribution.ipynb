{
 "cells": [
  {
   "cell_type": "code",
   "execution_count": 1,
   "metadata": {},
   "outputs": [],
   "source": [
    "import numpy as np\n",
    "import pandas as pd\n",
    "import json\n",
    "import re\n",
    "from collections import Counter"
   ]
  },
  {
   "cell_type": "code",
   "execution_count": 33,
   "metadata": {},
   "outputs": [],
   "source": [
    "def extract_words(word_seq, tag_seq):\n",
    "    words_list = []\n",
    "    words = []\n",
    "    for word, tag in zip(word_seq, tag_seq):\n",
    "        if tag == 'B' and words:\n",
    "            words_list.append(''.join(words))\n",
    "            words = [word]\n",
    "        elif tag == 'B' or (tag == 'I' and words):\n",
    "            words.append(word)\n",
    "        elif words:\n",
    "            words_list.append(''.join(words))\n",
    "            words = []\n",
    "            \n",
    "    if words:\n",
    "        words_list.append(''.join(words))\n",
    "        \n",
    "    return words_list\n",
    "\n",
    "def annotaions_in_section(section_df, _set=True):\n",
    "    annotaions = section_df.apply(lambda x: extract_words(x.words, x.raw_material_tag_seq), axis=1).sum()\n",
    "    if _set:\n",
    "        annotaions = list(set(annotaions))\n",
    "    \n",
    "    return annotaions"
   ]
  },
  {
   "cell_type": "code",
   "execution_count": 3,
   "metadata": {},
   "outputs": [],
   "source": [
    "with open(\"../../data/compound_train.json\", 'r') as f:\n",
    "    annotations = {entry['WikipediaID']: entry['Attributes']['原材料'] for entry in json.load(f)['entry']}"
   ]
  },
  {
   "cell_type": "code",
   "execution_count": 4,
   "metadata": {},
   "outputs": [
    {
     "data": {
      "text/html": [
       "<div>\n",
       "<style scoped>\n",
       "    .dataframe tbody tr th:only-of-type {\n",
       "        vertical-align: middle;\n",
       "    }\n",
       "\n",
       "    .dataframe tbody tr th {\n",
       "        vertical-align: top;\n",
       "    }\n",
       "\n",
       "    .dataframe thead th {\n",
       "        text-align: right;\n",
       "    }\n",
       "</style>\n",
       "<table border=\"1\" class=\"dataframe\">\n",
       "  <thead>\n",
       "    <tr style=\"text-align: right;\">\n",
       "      <th></th>\n",
       "      <th>_id</th>\n",
       "      <th>label</th>\n",
       "      <th>sentence</th>\n",
       "      <th>title</th>\n",
       "      <th>words</th>\n",
       "      <th>repl_words</th>\n",
       "      <th>furigana_tag_seq</th>\n",
       "      <th>another_name_tag_seq</th>\n",
       "      <th>use_tag_seq</th>\n",
       "      <th>type_tag_seq</th>\n",
       "      <th>...</th>\n",
       "      <th>melting_tag_seq</th>\n",
       "      <th>boiling_tag_seq</th>\n",
       "      <th>rational_formula_tag_seq</th>\n",
       "      <th>h2</th>\n",
       "      <th>h3</th>\n",
       "      <th>h4</th>\n",
       "      <th>h5</th>\n",
       "      <th>h6</th>\n",
       "      <th>cat_production_headline</th>\n",
       "      <th>cat_raw_material_headline</th>\n",
       "    </tr>\n",
       "  </thead>\n",
       "  <tbody>\n",
       "    <tr>\n",
       "      <th>0</th>\n",
       "      <td>10166</td>\n",
       "      <td>False</td>\n",
       "      <td>アンモニア (英: ammonia) は分子式が NH 3 で表される無機化合物。</td>\n",
       "      <td>アンモニア</td>\n",
       "      <td>[アンモニア, (, 英, :, ammonia, ), は, 分子, 式, が, NH, ...</td>\n",
       "      <td>[[title-compound], (, 英, :, [title-compound], ...</td>\n",
       "      <td>[O, O, O, O, O, O, O, O, O, O, O, O, O, O, O, ...</td>\n",
       "      <td>[O, O, O, O, B, O, O, O, O, O, O, O, O, O, O, ...</td>\n",
       "      <td>[O, O, O, O, O, O, O, O, O, O, O, O, O, O, O, ...</td>\n",
       "      <td>[O, O, O, O, O, O, O, O, O, O, O, O, O, O, O, ...</td>\n",
       "      <td>...</td>\n",
       "      <td>[O, O, O, O, O, O, O, O, O, O, O, O, O, O, O, ...</td>\n",
       "      <td>[O, O, O, O, O, O, O, O, O, O, O, O, O, O, O, ...</td>\n",
       "      <td>[O, O, O, O, O, O, O, O, O, O, O, O, O, O, O, ...</td>\n",
       "      <td>NaN</td>\n",
       "      <td>NaN</td>\n",
       "      <td>NaN</td>\n",
       "      <td>NaN</td>\n",
       "      <td>NaN</td>\n",
       "      <td>2</td>\n",
       "      <td>2</td>\n",
       "    </tr>\n",
       "  </tbody>\n",
       "</table>\n",
       "<p>1 rows × 28 columns</p>\n",
       "</div>"
      ],
      "text/plain": [
       "     _id  label                                   sentence  title  \\\n",
       "0  10166  False  アンモニア (英: ammonia) は分子式が NH 3 で表される無機化合物。  アンモニア   \n",
       "\n",
       "                                               words  \\\n",
       "0  [アンモニア, (, 英, :, ammonia, ), は, 分子, 式, が, NH, ...   \n",
       "\n",
       "                                          repl_words  \\\n",
       "0  [[title-compound], (, 英, :, [title-compound], ...   \n",
       "\n",
       "                                    furigana_tag_seq  \\\n",
       "0  [O, O, O, O, O, O, O, O, O, O, O, O, O, O, O, ...   \n",
       "\n",
       "                                another_name_tag_seq  \\\n",
       "0  [O, O, O, O, B, O, O, O, O, O, O, O, O, O, O, ...   \n",
       "\n",
       "                                         use_tag_seq  \\\n",
       "0  [O, O, O, O, O, O, O, O, O, O, O, O, O, O, O, ...   \n",
       "\n",
       "                                        type_tag_seq  \\\n",
       "0  [O, O, O, O, O, O, O, O, O, O, O, O, O, O, O, ...   \n",
       "\n",
       "             ...             \\\n",
       "0            ...              \n",
       "\n",
       "                                     melting_tag_seq  \\\n",
       "0  [O, O, O, O, O, O, O, O, O, O, O, O, O, O, O, ...   \n",
       "\n",
       "                                     boiling_tag_seq  \\\n",
       "0  [O, O, O, O, O, O, O, O, O, O, O, O, O, O, O, ...   \n",
       "\n",
       "                            rational_formula_tag_seq   h2   h3   h4  h5  h6  \\\n",
       "0  [O, O, O, O, O, O, O, O, O, O, O, O, O, O, O, ...  NaN  NaN  NaN NaN NaN   \n",
       "\n",
       "  cat_production_headline cat_raw_material_headline  \n",
       "0                       2                         2  \n",
       "\n",
       "[1 rows x 28 columns]"
      ]
     },
     "execution_count": 4,
     "metadata": {},
     "output_type": "execute_result"
    }
   ],
   "source": [
    "train_df = pd.read_pickle(\"../../data/train_IOB_repl_compound.pkl\")\n",
    "train_df.head(1)"
   ]
  },
  {
   "cell_type": "code",
   "execution_count": 5,
   "metadata": {},
   "outputs": [],
   "source": [
    "flatten = lambda l: [i for sub_l in l for i in sub_l]\n",
    "\n",
    "def get_only_one(l):\n",
    "    return [item for i, item in enumerate(l) if l.count(item) is 1]\n",
    "\n",
    "def get_duplicated(l):\n",
    "    return [item for i, item in enumerate(l) if l.count(item) > 1]\n",
    "\n",
    "def get_idx(l, unique_list):\n",
    "    return [i for i, items in enumerate(l) if (set(unique_list) & set(items))]"
   ]
  },
  {
   "cell_type": "code",
   "execution_count": 7,
   "metadata": {},
   "outputs": [],
   "source": [
    "only_one_material_in_entry = []\n",
    "headline_list = []\n",
    "for _, entry in train_df.fillna('NO_HEADING').groupby('_id'):\n",
    "    section_group = \\\n",
    "    entry.groupby('h2').apply(\n",
    "        lambda g: list(set(g.apply(lambda x: extract_words(x.words, x.raw_material_tag_seq), axis=1).sum()))\n",
    "    )\n",
    "    headings = section_group.index.values\n",
    "    materials = section_group\n",
    "    if not materials.sum():\n",
    "        continue\n",
    "        \n",
    "    only_one_materials = get_only_one(materials.sum())\n",
    "    if not only_one_materials:\n",
    "        continue\n",
    "    \n",
    "    only_one_materials_idx = get_idx(materials, only_one_materials)\n",
    "    \n",
    "    only_one_material_in_entry.append(only_one_materials)\n",
    "    headline_list.append(headings[only_one_materials_idx])"
   ]
  },
  {
   "cell_type": "code",
   "execution_count": 9,
   "metadata": {},
   "outputs": [
    {
     "data": {
      "text/plain": [
       "861"
      ]
     },
     "execution_count": 9,
     "metadata": {},
     "output_type": "execute_result"
    }
   ],
   "source": [
    "len(flatten([materials for materials in only_one_material_in_entry]))"
   ]
  },
  {
   "cell_type": "code",
   "execution_count": 10,
   "metadata": {},
   "outputs": [
    {
     "data": {
      "text/plain": [
       "[('NO_HEADING', 111),\n",
       " ('合成', 48),\n",
       " ('製法', 23),\n",
       " ('合成法', 14),\n",
       " ('製造', 11),\n",
       " ('生合成', 7),\n",
       " ('生成', 7),\n",
       " ('性質', 6),\n",
       " ('用途', 4),\n",
       " ('調製', 4),\n",
       " ('生産', 3),\n",
       " ('反応', 3),\n",
       " ('化学合成', 2),\n",
       " ('概要', 2),\n",
       " ('歴史', 2),\n",
       " ('工業生産', 2),\n",
       " ('沿革', 2),\n",
       " ('合成方法', 2),\n",
       " ('その他', 1),\n",
       " ('構造と誘導体', 1),\n",
       " ('発見', 1),\n",
       " ('実験室的研究', 1),\n",
       " ('多形', 1),\n",
       " ('解糖系', 1),\n",
       " ('その他の代謝', 1),\n",
       " ('参考文献', 1),\n",
       " ('正塩', 1),\n",
       " ('天然での存在', 1),\n",
       " ('生化学', 1),\n",
       " ('四塩化ケイ素', 1),\n",
       " ('おもな誘導体', 1),\n",
       " ('マンガン(VI)酸塩', 1),\n",
       " ('効果・毒性・特徴', 1),\n",
       " ('合成と性質', 1),\n",
       " ('1,3-ジチオラン', 1),\n",
       " ('単離', 1),\n",
       " ('製造と性質', 1),\n",
       " ('錯体化学', 1),\n",
       " ('合成方法と反応性', 1),\n",
       " ('生成、性質', 1),\n",
       " ('有機化学', 1),\n",
       " ('無機化学', 1),\n",
       " ('自然発生', 1),\n",
       " ('合成・単離', 1),\n",
       " ('工業的な製造と利用', 1),\n",
       " ('食料品中の含有量', 1),\n",
       " ('生合成と代謝', 1),\n",
       " ('合成と反応', 1),\n",
       " ('誘導体', 1),\n",
       " ('化学', 1),\n",
       " ('パラフィン（固形）', 1),\n",
       " ('生成方法', 1),\n",
       " ('製造と用途', 1),\n",
       " ('特徴', 1),\n",
       " ('発見と利用', 1),\n",
       " ('チタン酸リチウム増殖材の合成', 1),\n",
       " ('全合成', 1),\n",
       " ('合成と構造', 1),\n",
       " ('合成と主な反応', 1),\n",
       " ('用途と製法', 1),\n",
       " ('人工的な合成法', 1),\n",
       " ('バンレイシ科からの抽出', 1),\n",
       " ('天然における存在', 1),\n",
       " ('生理学', 1),\n",
       " ('インドールの合成', 1),\n",
       " ('生合成と反応', 1),\n",
       " ('存在と合成法', 1),\n",
       " ('有機合成分野での応用', 1),\n",
       " ('四硫化四窒素', 1),\n",
       " ('硫化窒素重合体', 1),\n",
       " ('解説', 1),\n",
       " ('化学的性質', 1),\n",
       " ('製法・産出', 1),\n",
       " ('実験室的製法', 1),\n",
       " ('合成と利用', 1)]"
      ]
     },
     "execution_count": 10,
     "metadata": {},
     "output_type": "execute_result"
    }
   ],
   "source": [
    "Counter(flatten(headline_list)).most_common()"
   ]
  },
  {
   "cell_type": "code",
   "execution_count": null,
   "metadata": {},
   "outputs": [],
   "source": []
  },
  {
   "cell_type": "code",
   "execution_count": 297,
   "metadata": {},
   "outputs": [],
   "source": [
    "duplicated_materials_in_entry = []\n",
    "for _, entry in train_df.fillna('NO_HEADING').groupby('_id'):\n",
    "    ssection_group = \\\n",
    "    entry.groupby('h2').apply(\n",
    "        lambda g: list(set(g.apply(lambda x: extract_words(x.words, x.raw_material_tag_seq), axis=1).sum()))\n",
    "    )\n",
    "    headings = section_group.index.values\n",
    "    materials = section_group\n",
    "    if not materials.sum():\n",
    "        continue\n",
    "        \n",
    "    only_one_materials = get_only_one(materials.sum())\n",
    "    if not only_one_materials:\n",
    "        continue\n",
    "    \n",
    "    # 複数のセクションに分布している原材料のみ抽出（重複あり）\n",
    "    all_materials = entry.apply(\n",
    "        lambda x: extract_words(x.words, x.raw_material_tag_seq)\n",
    "        , axis=1\n",
    "    ).sum()\n",
    "    \n",
    "    duplicated_materials = [material for material in all_materials if material not in only_one_materials]\n",
    "    if not duplicated_materials:\n",
    "        continue\n",
    "        \n",
    "    duplicated_materials_in_entry.append(duplicated_materials)"
   ]
  },
  {
   "cell_type": "code",
   "execution_count": 298,
   "metadata": {},
   "outputs": [
    {
     "data": {
      "text/plain": [
       "1961"
      ]
     },
     "execution_count": 298,
     "metadata": {},
     "output_type": "execute_result"
    }
   ],
   "source": [
    "len(flatten([materials for materials in duplicated_materials_in_entry]))"
   ]
  },
  {
   "cell_type": "code",
   "execution_count": 304,
   "metadata": {},
   "outputs": [],
   "source": [
    "heading_df = pd.DataFrame()\n",
    "for _id, entry in train_df.fillna('NO_HEADING').groupby('_id'):\n",
    "    section_group = \\\n",
    "    entry.groupby('h2').apply(\n",
    "        lambda g: g.apply(lambda x: extract_words(x.words, x.raw_material_tag_seq), axis=1).sum()\n",
    "    )\n",
    "    \n",
    "    annotaions = section_group.sum()\n",
    "    if not annotaions:\n",
    "        continue\n",
    "    \n",
    "    heading_count = len(section_group)\n",
    "    heading_mean = len(annotaions) / heading_count\n",
    "    var = section_group.apply(lambda x: (len(x) - heading_mean) ** 2).sum() / heading_count\n",
    "    \n",
    "    heading_df = heading_df.append(pd.DataFrame({\n",
    "        '_id': [_id]\n",
    "        , 'title': [entry.title.iloc[0]]\n",
    "        , 'count_heading': [heading_count]\n",
    "        , 'count_heading_with_annotaions': len([anotation for anotation in section_group if anotation])\n",
    "        , 'annotations': [len(annotaions)]\n",
    "        , 'unique_annotations': [len(set(annotaions))]\n",
    "        , 'annotations_var': [var]\n",
    "        , 'annotations_std': [np.sqrt(var)]\n",
    "    }))\n",
    "    break"
   ]
  },
  {
   "cell_type": "code",
   "execution_count": 227,
   "metadata": {},
   "outputs": [],
   "source": [
    "heading_df.sort_values('annotations_var', ascending=False).to_csv(\"../../output/error_analysis/variance_annotaions_in_heading.csv\", index=False)"
   ]
  },
  {
   "cell_type": "code",
   "execution_count": 273,
   "metadata": {},
   "outputs": [
    {
     "name": "stdout",
     "output_type": "stream",
     "text": [
      "1077\n",
      "1968\n"
     ]
    }
   ],
   "source": [
    "print(heading_df.unique_annotations.sum())\n",
    "print(heading_df.annotations.sum())"
   ]
  },
  {
   "cell_type": "markdown",
   "metadata": {},
   "source": [
    "## 1つのセクションに全てのアノテーションデータがある記事の数"
   ]
  },
  {
   "cell_type": "code",
   "execution_count": 178,
   "metadata": {},
   "outputs": [],
   "source": [
    "converge_df = pd.DataFrame()\n",
    "scatter_df = pd.DataFrame()\n",
    "for _id, entry in train_df.fillna('NO_HEADING').groupby('_id'):\n",
    "    section_group = \\\n",
    "    entry.groupby('h2').apply(\n",
    "        lambda g: annotaions_in_section(g)\n",
    "    )\n",
    "    annotaions = set(section_group.sum())\n",
    "    if not annotaions:\n",
    "        continue\n",
    "    \n",
    "    # 全てのアノテーションデータが存在するセクションがあれば True\n",
    "    if section_group.apply(lambda x: set(x) == annotaions).any():\n",
    "        converge_df = converge_df.append(entry)\n",
    "    else:\n",
    "        scatter_df = scatter_df.append(entry)"
   ]
  },
  {
   "cell_type": "code",
   "execution_count": 179,
   "metadata": {},
   "outputs": [
    {
     "name": "stdout",
     "output_type": "stream",
     "text": [
      "Converge: 243\n",
      "Scatter: 45\n"
     ]
    }
   ],
   "source": [
    "print(\"Converge:\", len(converge_df.groupby('_id')))\n",
    "print(\"Scatter:\", len(scatter_df.groupby('_id')))"
   ]
  },
  {
   "cell_type": "code",
   "execution_count": null,
   "metadata": {},
   "outputs": [],
   "source": []
  },
  {
   "cell_type": "code",
   "execution_count": null,
   "metadata": {},
   "outputs": [],
   "source": [
    "scatter_count_df = pd.DataFrame()\n",
    "for _id, entry in scatter_df.groupby('_id'):\n",
    "    section_group = \\\n",
    "    entry.groupby('h2').apply(\n",
    "        lambda g: annotaions_in_section(g)\n",
    "    )\n",
    "    \n",
    "    scatter_count_df = \\\n",
    "    scatter_count_df.append(\n",
    "        pd.DataFrame({_id: section_group.apply(lambda x: len(x)).to_dict()}).T\n",
    "    )\n",
    "    scatter_count_df.loc[_id, 'total'] = len(set(section_group.sum()))\n",
    "\n",
    "scatter_count_df.fillna(0, inplace=True)"
   ]
  },
  {
   "cell_type": "code",
   "execution_count": 204,
   "metadata": {},
   "outputs": [
    {
     "name": "stderr",
     "output_type": "stream",
     "text": [
      "/usr/local/var/pyenv/versions/3.6.1/lib/python3.6/site-packages/pandas/core/frame.py:6211: FutureWarning: Sorting because non-concatenation axis is not aligned. A future version\n",
      "of pandas will change to not sort by default.\n",
      "\n",
      "To accept the future behavior, pass 'sort=False'.\n",
      "\n",
      "To retain the current behavior and silence the warning, pass 'sort=True'.\n",
      "\n",
      "  sort=sort)\n"
     ]
    }
   ],
   "source": [
    "converge_count_df = pd.DataFrame()\n",
    "for _id, entry in converge_df.groupby('_id'):\n",
    "    section_group = \\\n",
    "    entry.groupby('h2').apply(\n",
    "        lambda g: annotaions_in_section(g)\n",
    "    )\n",
    "    \n",
    "    converge_count_df = \\\n",
    "    converge_count_df.append(\n",
    "        pd.DataFrame({_id: section_group.apply(lambda x: len(x)).to_dict()}).T\n",
    "    )\n",
    "    converge_count_df.loc[_id, 'total'] = len(set(section_group.sum()))\n",
    "\n",
    "converge_count_df.fillna(0, inplace=True)"
   ]
  },
  {
   "cell_type": "code",
   "execution_count": 236,
   "metadata": {},
   "outputs": [
    {
     "name": "stderr",
     "output_type": "stream",
     "text": [
      "/usr/local/var/pyenv/versions/3.6.1/lib/python3.6/site-packages/ipykernel_launcher.py:1: FutureWarning: 'argmax' is deprecated, use 'idxmax' instead. The behavior of 'argmax'\n",
      "will be corrected to return the positional maximum in the future.\n",
      "Use 'series.values.argmax' to get the position of the maximum now.\n",
      "  \"\"\"Entry point for launching an IPython kernel.\n"
     ]
    },
    {
     "data": {
      "text/plain": [
       "10166             その他\n",
       "11006              製法\n",
       "1162928            発見\n",
       "1244436            多形\n",
       "1270151    NO_HEADING\n",
       "1273610            正塩\n",
       "1326610    NO_HEADING\n",
       "1429429            合成\n",
       "156868             製造\n",
       "161388             性質\n",
       "161391     NO_HEADING\n",
       "1668122            製法\n",
       "1668370            合成\n",
       "1747207    NO_HEADING\n",
       "1859145            合成\n",
       "1885021         製造と性質\n",
       "1892810    NO_HEADING\n",
       "1906013            製法\n",
       "1933768    NO_HEADING\n",
       "2017242          化学合成\n",
       "2051615    NO_HEADING\n",
       "2077209    NO_HEADING\n",
       "218484           無機化学\n",
       "223549           自然発生\n",
       "226179            合成法\n",
       "236551     NO_HEADING\n",
       "245531            合成法\n",
       "2602070           生合成\n",
       "267435            誘導体\n",
       "2707869    NO_HEADING\n",
       "271215      パラフィン（固形）\n",
       "27129            生成方法\n",
       "27347             合成法\n",
       "291072             特徴\n",
       "3097272            合成\n",
       "3350823            合成\n",
       "3621491            合成\n",
       "3692796    NO_HEADING\n",
       "372433     NO_HEADING\n",
       "37785      NO_HEADING\n",
       "384083             生産\n",
       "433929       インドールの合成\n",
       "56097      NO_HEADING\n",
       "652294     NO_HEADING\n",
       "912412             合成\n",
       "dtype: object"
      ]
     },
     "execution_count": 236,
     "metadata": {},
     "output_type": "execute_result"
    }
   ],
   "source": [
    "scatter_count_df.apply(lambda x: x.drop('total').argmax(), axis=1)"
   ]
  },
  {
   "cell_type": "code",
   "execution_count": 232,
   "metadata": {},
   "outputs": [],
   "source": [
    "# エントロピーデータ読み込み\n",
    "entropy_s = pd.read_pickle(\"../../data/annotaions_entropy_in_section_raw-material.pkl\")\n",
    "entropy_s.drop('NO_HEADING', inplace=True)\n",
    "entropy_s = entropy_s[entropy_s >= 1.]"
   ]
  },
  {
   "cell_type": "code",
   "execution_count": 203,
   "metadata": {},
   "outputs": [],
   "source": [
    "def max_entropy_heading(count, entropy):\n",
    "    heading_df = pd.concat([entropy, count], axis=1).dropna()\n",
    "    if heading_df.empty:\n",
    "        return 'NO_HEADING'\n",
    "    \n",
    "    return heading_df.sort_values('entropy', ascending=False).entropy.argmax()"
   ]
  },
  {
   "cell_type": "code",
   "execution_count": 238,
   "metadata": {},
   "outputs": [
    {
     "name": "stderr",
     "output_type": "stream",
     "text": [
      "/usr/local/var/pyenv/versions/3.6.1/lib/python3.6/site-packages/ipykernel_launcher.py:2: FutureWarning: Sorting because non-concatenation axis is not aligned. A future version\n",
      "of pandas will change to not sort by default.\n",
      "\n",
      "To accept the future behavior, pass 'sort=False'.\n",
      "\n",
      "To retain the current behavior and silence the warning, pass 'sort=True'.\n",
      "\n",
      "  \n",
      "/usr/local/var/pyenv/versions/3.6.1/lib/python3.6/site-packages/ipykernel_launcher.py:6: FutureWarning: 'argmax' is deprecated, use 'idxmax' instead. The behavior of 'argmax'\n",
      "will be corrected to return the positional maximum in the future.\n",
      "Use 'series.values.argmax' to get the position of the maximum now.\n",
      "  \n"
     ]
    }
   ],
   "source": [
    "selection_heading_df = pd.DataFrame()\n",
    "for _id, counts in scatter_count_df.iterrows():\n",
    "    grep_counts = counts[counts > 0].drop('total')\n",
    "    heading = max_entropy_heading(grep_counts, entropy_s)\n",
    "    \n",
    "    selection_heading_df = selection_heading_df.append(pd.DataFrame({\n",
    "        '_id': [_id]\n",
    "        , 'max_entropy_heading': [heading]\n",
    "        , 'counts': [grep_counts.get(heading, 0)]\n",
    "        , 'loss': [counts['total'] - grep_counts.get(heading, 0)]\n",
    "    }))"
   ]
  },
  {
   "cell_type": "code",
   "execution_count": 233,
   "metadata": {},
   "outputs": [
    {
     "name": "stderr",
     "output_type": "stream",
     "text": [
      "/usr/local/var/pyenv/versions/3.6.1/lib/python3.6/site-packages/ipykernel_launcher.py:2: FutureWarning: Sorting because non-concatenation axis is not aligned. A future version\n",
      "of pandas will change to not sort by default.\n",
      "\n",
      "To accept the future behavior, pass 'sort=False'.\n",
      "\n",
      "To retain the current behavior and silence the warning, pass 'sort=True'.\n",
      "\n",
      "  \n",
      "/usr/local/var/pyenv/versions/3.6.1/lib/python3.6/site-packages/ipykernel_launcher.py:6: FutureWarning: 'argmax' is deprecated, use 'idxmax' instead. The behavior of 'argmax'\n",
      "will be corrected to return the positional maximum in the future.\n",
      "Use 'series.values.argmax' to get the position of the maximum now.\n",
      "  \n"
     ]
    }
   ],
   "source": [
    "selection_heading_df = pd.DataFrame()\n",
    "for _id, counts in pd.concat([scatter_count_df, converge_count_df]).fillna(0).iterrows():\n",
    "    grep_counts = counts[counts > 0].drop('total')\n",
    "    heading = max_entropy_heading(grep_counts, entropy_s)\n",
    "    \n",
    "    selection_heading_df = selection_heading_df.append(pd.DataFrame({\n",
    "        '_id': [_id]\n",
    "        , 'max_entropy_heading': [heading]\n",
    "        , 'counts': [grep_counts.get(heading, 0)]\n",
    "        , 'loss': [counts['total'] - grep_counts.get(heading, 0)]\n",
    "    }))"
   ]
  },
  {
   "cell_type": "code",
   "execution_count": 239,
   "metadata": {},
   "outputs": [
    {
     "name": "stdout",
     "output_type": "stream",
     "text": [
      "118.0\n",
      "159.0\n"
     ]
    }
   ],
   "source": [
    "print(selection_heading_df.counts.sum())\n",
    "print(selection_heading_df.loss.sum())"
   ]
  },
  {
   "cell_type": "code",
   "execution_count": null,
   "metadata": {},
   "outputs": [],
   "source": []
  }
 ],
 "metadata": {
  "kernelspec": {
   "display_name": "Python 3",
   "language": "python",
   "name": "python3"
  },
  "language_info": {
   "codemirror_mode": {
    "name": "ipython",
    "version": 3
   },
   "file_extension": ".py",
   "mimetype": "text/x-python",
   "name": "python",
   "nbconvert_exporter": "python",
   "pygments_lexer": "ipython3",
   "version": "3.6.1"
  }
 },
 "nbformat": 4,
 "nbformat_minor": 2
}
