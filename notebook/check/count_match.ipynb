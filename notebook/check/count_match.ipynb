{
 "cells": [
  {
   "cell_type": "code",
   "execution_count": 2,
   "metadata": {},
   "outputs": [],
   "source": [
    "import json\n",
    "import re\n",
    "import itertools"
   ]
  },
  {
   "cell_type": "code",
   "execution_count": 40,
   "metadata": {},
   "outputs": [],
   "source": [
    "with open(\"../../output/result/production_using_compound-list+filtering.json\", 'r') as f:\n",
    "    extracted = json.load(f)"
   ]
  },
  {
   "cell_type": "code",
   "execution_count": 41,
   "metadata": {},
   "outputs": [],
   "source": [
    "def match_start(true, pred):\n",
    "    return [(t, p) for t, p in itertools.product(true, pred) \\\n",
    "            if re.search(fr'^{re.escape(t)}', p) and t != p]\n",
    "\n",
    "def match_end(true, pred):\n",
    "    return [(t, p) for t, p in itertools.product(true, pred) \\\n",
    "            if re.search(fr'{re.escape(t)}$', p) and t != p]\n",
    "\n",
    "def partial_match(true, pred, m_type=None):\n",
    "    if m_type is 0:\n",
    "        return list(set([(t, p) for t, p in itertools.product(true, pred) \\\n",
    "                if (re.search(fr'{re.escape(t)}', p) or re.search(fr'{re.escape(p)}', t))]))\n",
    "    # 正解データを返す\n",
    "    elif m_type is 1:\n",
    "        return list(set([t for t, p in itertools.product(true, pred) \\\n",
    "                if (re.search(fr'{re.escape(t)}', p) or re.search(fr'{re.escape(p)}', t))]))\n",
    "    # 予測データを返す\n",
    "    elif m_type is 2:\n",
    "        return list(set([p for t, p in itertools.product(true, pred) \\\n",
    "                if (re.search(fr'{re.escape(t)}', p) or re.search(fr'{re.escape(p)}', t))]))\n",
    "    # 部分一致した場合->正解データ，一致しなかった場合->予測データ\n",
    "    elif m_type is 3:\n",
    "        return list(set([t if (re.search(fr'{re.escape(t)}', p) or re.search(fr'{re.escape(p)}', t)) else p \\\n",
    "                         for t, p in itertools.product(true, pred)]))\n",
    "\n",
    "\n",
    "def precision(TP, FP):\n",
    "        return TP / (TP + FP) if (TP + FP) != 0 else 0.0\n",
    "\n",
    "def recall(TP, FN):\n",
    "    return TP / (TP + FN) if (TP + FN) != 0 else 0.0\n",
    "\n",
    "def f1(precision, recall):\n",
    "    return 2 * precision * recall / (precision + recall) \\\n",
    "        if (precision + recall) != 0 else 0.0"
   ]
  },
  {
   "cell_type": "code",
   "execution_count": 42,
   "metadata": {},
   "outputs": [],
   "source": [
    "annotation_size = 0\n",
    "extracted_size = 0\n",
    "TP = 0\n",
    "FP = 0\n",
    "FN = 0\n",
    "\n",
    "for _id, v in extracted.items():\n",
    "    true_set = set(v['true'])\n",
    "    pred_set = set(v['predict'])\n",
    "    \n",
    "    partial_match_pred = set(partial_match(true_set, pred_set, m_type=3))\n",
    "    \n",
    "    annotation_size += len(true_set)\n",
    "    extracted_size += len(pred_set)\n",
    "    TP += len(partial_match_pred & pred_set)\n",
    "    FP += len(partial_match_pred - true_set)\n",
    "    FN += len(true_set - partial_match_pred)\n",
    "    \n",
    "    \n",
    "score = {\n",
    "    'annotation_size': annotation_size\n",
    "    , 'extracted_size': extracted_size\n",
    "    , 'TP': TP\n",
    "    , 'FP': FP\n",
    "    , 'FN': FN\n",
    "    , 'precision': precision(TP, FP)\n",
    "    , 'recall': recall(TP, FN)\n",
    "    , 'f1': f1(precision(TP, FP), recall(TP, FN))\n",
    "}"
   ]
  },
  {
   "cell_type": "code",
   "execution_count": 43,
   "metadata": {},
   "outputs": [
    {
     "data": {
      "text/plain": [
       "{'annotation_size': 94,\n",
       " 'extracted_size': 45,\n",
       " 'TP': 39,\n",
       " 'FP': 32,\n",
       " 'FN': 63,\n",
       " 'precision': 0.5492957746478874,\n",
       " 'recall': 0.38235294117647056,\n",
       " 'f1': 0.4508670520231214}"
      ]
     },
     "execution_count": 43,
     "metadata": {},
     "output_type": "execute_result"
    }
   ],
   "source": [
    "score"
   ]
  },
  {
   "cell_type": "code",
   "execution_count": null,
   "metadata": {},
   "outputs": [],
   "source": []
  },
  {
   "cell_type": "code",
   "execution_count": null,
   "metadata": {},
   "outputs": [],
   "source": []
  }
 ],
 "metadata": {
  "kernelspec": {
   "display_name": "Python 3",
   "language": "python",
   "name": "python3"
  },
  "language_info": {
   "codemirror_mode": {
    "name": "ipython",
    "version": 3
   },
   "file_extension": ".py",
   "mimetype": "text/x-python",
   "name": "python",
   "nbconvert_exporter": "python",
   "pygments_lexer": "ipython3",
   "version": "3.6.1"
  }
 },
 "nbformat": 4,
 "nbformat_minor": 2
}
