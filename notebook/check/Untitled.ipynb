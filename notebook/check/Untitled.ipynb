{
 "cells": [
  {
   "cell_type": "code",
   "execution_count": 7,
   "metadata": {},
   "outputs": [],
   "source": [
    "import json\n",
    "import re"
   ]
  },
  {
   "cell_type": "code",
   "execution_count": 18,
   "metadata": {},
   "outputs": [],
   "source": [
    "flatten = lambda _list: [item for sub_list in _list for item in sub_list]"
   ]
  },
  {
   "cell_type": "code",
   "execution_count": 6,
   "metadata": {},
   "outputs": [],
   "source": [
    "with open(\"../../data/compound_train.json\", 'r', encoding='utf-8') as f:\n",
    "    train = json.load(f)['entry']"
   ]
  },
  {
   "cell_type": "code",
   "execution_count": 20,
   "metadata": {},
   "outputs": [
    {
     "name": "stdout",
     "output_type": "stream",
     "text": [
      "1114/1303\n"
     ]
    }
   ],
   "source": [
    "total = len(flatten([entry['Attributes']['原材料'] for entry in train]))\n",
    "exist = 0\n",
    "for entry in train:\n",
    "    materials = entry['Attributes']['原材料']\n",
    "    production = ''.join(entry['Attributes']['製造方法'])\n",
    "    \n",
    "    for material in materials:\n",
    "        if re.search(re.escape(material), production):\n",
    "            exist += 1\n",
    "            \n",
    "print(\"{}/{}\".format(exist, total))"
   ]
  },
  {
   "cell_type": "code",
   "execution_count": null,
   "metadata": {},
   "outputs": [],
   "source": []
  }
 ],
 "metadata": {
  "kernelspec": {
   "display_name": "Python 3",
   "language": "python",
   "name": "python3"
  },
  "language_info": {
   "codemirror_mode": {
    "name": "ipython",
    "version": 3
   },
   "file_extension": ".py",
   "mimetype": "text/x-python",
   "name": "python",
   "nbconvert_exporter": "python",
   "pygments_lexer": "ipython3",
   "version": "3.5.2"
  }
 },
 "nbformat": 4,
 "nbformat_minor": 2
}
