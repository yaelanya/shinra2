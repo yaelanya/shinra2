{
 "cells": [
  {
   "cell_type": "code",
   "execution_count": 24,
   "metadata": {},
   "outputs": [],
   "source": [
    "import pandas as pd\n",
    "import json\n",
    "import re\n",
    "import itertools\n",
    "import MeCab"
   ]
  },
  {
   "cell_type": "code",
   "execution_count": 70,
   "metadata": {},
   "outputs": [],
   "source": [
    "test_df = pd.read_pickle(\"../../data/test_IOB_repl_compound_fix_cat_headlines.pkl\")"
   ]
  },
  {
   "cell_type": "code",
   "execution_count": 208,
   "metadata": {},
   "outputs": [],
   "source": [
    "predict_material_df = pd.read_pickle(\"../../dump/pred_raw-material_using_compound-list_with_tag_seq.pkl\")\n",
    "predict_production_df = pd.read_pickle(\"../../dump/pred_production_using_compound-list_with_tag_seq.pkl\")"
   ]
  },
  {
   "cell_type": "code",
   "execution_count": 201,
   "metadata": {},
   "outputs": [],
   "source": [
    "with open(\"../../output/result/production_using_compound-list.json\", 'r') as f:\n",
    "    extracted_production_data = json.load(f)\n",
    "\n",
    "with open(\"../../output/result/raw-material_using_compound-list.json\", 'r') as f:\n",
    "    extracted_material_data = json.load(f)"
   ]
  },
  {
   "cell_type": "code",
   "execution_count": 321,
   "metadata": {},
   "outputs": [],
   "source": [
    "m_parser = MeCab.Tagger(\"-u /Users/dontsentouin/mecab-user-dic/compound.dic -Owakati\")\n",
    "\n",
    "flatten = lambda l: [i for sl in l for i in sl]\n",
    "\n",
    "def exact_match(true, predict):\n",
    "    return list(set(predict) & set(true))\n",
    "\n",
    "def exact_false(true, predict):\n",
    "    partial_match_set = set([p for t, p in partial_match(true, predict)])\n",
    "    \n",
    "    return list(set(predict) - set(true) - partial_match_set)\n",
    "\n",
    "def failure(true, predict):\n",
    "    partial_match_set = set([t for t, p in partial_match(true, predict)])\n",
    "    \n",
    "    return list(set(true) - set(predict) - partial_match_set)\n",
    "\n",
    "def partial_match(true, pred, return_format=0):\n",
    "    # 両方返す\n",
    "    if return_format is 0:\n",
    "        return [(t, p) for t, p in itertools.product(true, pred) \\\n",
    "                if (re.search(fr'{re.escape(t)}', p) or re.search(fr'{re.escape(p)}', t)) and t != p]\n",
    "    # Trueのみ\n",
    "    elif return_format is 1:\n",
    "        return [t for t, p in itertools.product(true, pred) \\\n",
    "                if (re.search(fr'{re.escape(t)}', p) or re.search(fr'{re.escape(p)}', t)) and t != p]\n",
    "    # 抽出データのみ\n",
    "    else:\n",
    "        return [p for t, p in itertools.product(true, pred) \\\n",
    "                if (re.search(fr'{re.escape(t)}', p) or re.search(fr'{re.escape(p)}', t)) and t != p]\n",
    "\n",
    "def parse(s):\n",
    "    return m_parser.parse(s).strip().split()"
   ]
  },
  {
   "cell_type": "code",
   "execution_count": 186,
   "metadata": {},
   "outputs": [],
   "source": [
    "def is_contain_sent(sentence, annotation):\n",
    "    if annotation:\n",
    "        return re.search(annotation, sentence)\n",
    "    return False\n",
    "\n",
    "def join_words(words, escape=False):\n",
    "    if escape:\n",
    "        return ''.join([re.escape(w) for w in words])\n",
    "    else:\n",
    "        return ''.join(words)\n",
    "\n",
    "def get_contained_sent(annotations, doc_df): \n",
    "    annotations = sorted(annotations, key=len, reverse=True)\n",
    "    \n",
    "    s_list = []\n",
    "    for annotation in annotations:\n",
    "        parsed_annotation = parse(annotation)\n",
    "        for _, row in doc_df.iterrows():\n",
    "            if is_contain_sent(join_words(row['words'], escape=False), join_words(parsed_annotation, escape=True)):\n",
    "                s_list.append((annotation, row['sentence']))\n",
    "                \n",
    "    return s_list"
   ]
  },
  {
   "cell_type": "markdown",
   "metadata": {},
   "source": [
    "## 抽出できなかったデータ"
   ]
  },
  {
   "cell_type": "code",
   "execution_count": 179,
   "metadata": {},
   "outputs": [],
   "source": [
    "failures_dict = {}\n",
    "for key, data in extracted_production_data.items():\n",
    "    predict = data['predict']\n",
    "    true = data['true']\n",
    "    \n",
    "    failures_sent = get_contained_sent(failure(true, predict), test_df.loc[test_df._id == key])\n",
    "    match_list = list(set([t for t, p in partial_match(true, predict)] + true))\n",
    "    \n",
    "    failures_dict[key] = {\n",
    "        'title': data['title']\n",
    "        , 'failure': failures_sent\n",
    "        #, 'failure': list(set([(t, s) for t, s in failures_sent for m in match_list if m in s]))\n",
    "    }"
   ]
  },
  {
   "cell_type": "code",
   "execution_count": 184,
   "metadata": {},
   "outputs": [
    {
     "data": {
      "text/plain": [
       "['化石燃料由来のエチレンの水和反応等の有機合成手法によっても製造される。',\n",
       " 'ソハイオ法 によるアクリロニトリル製造の際の副産物として得られる',\n",
       " 'シアン化ナトリウムに酸を加える方法',\n",
       " 'アンドルソフ法',\n",
       " '対称エーテルは、酸触媒の存在下にアルコールの分子間脱水縮合で得られる。',\n",
       " '脳内でグルタミン酸のα位のカルボキシル基がグルタミン酸脱炭酸酵素との反応により除かれることによって生成される',\n",
       " 'トルエンから合成',\n",
       " '2-クロロトルエンからも作ることもできる',\n",
       " '生体内では、尿素回路によりアンモニアから尿素が産生される',\n",
       " 'ヴェーラー合成',\n",
       " 'ケイ皮酸脱炭酸酵素によってケイ皮酸から合成',\n",
       " 'グラブス触媒を用いたオレフィンメタセシスによる閉環反応を鍵反応とし、13個の連結したエーテル環構造を効率的に合成する',\n",
       " 'ポリケチド経路によって生合成',\n",
       " 'ある種の藻類（有毒渦鞭毛藻）がつくり魚類に蓄積される',\n",
       " '硫酸と水酸化カルシウムが中和して生成',\n",
       " 'γ-ブチロラクトンとメチルアミンとを縮合させて得る',\n",
       " 'アミドの酸素を硫黄に置換して合成する',\n",
       " 'アミドと五硫化二リン (P2S5) を加熱する方法が取られていたが、近年ではより穏和な条件で反応が進行するローソン試薬を用いるケースが増えている',\n",
       " '生体内ではグルコース-1-デヒドロゲナーゼの作用によりグルコースから変換される。',\n",
       " '前駆体から小分子を脱離させる手法',\n",
       " '反応触媒としては、塩化亜鉛の他にスルホン酸も用いられる',\n",
       " '塩化ロジウム三水和物を塩化水素中で360℃で加熱分解する',\n",
       " '塩化水素中の180℃の加熱',\n",
       " 'プソイドイオノン から合成する',\n",
       " '塩化白金酸(H2PtCl6)または塩化白金酸アンモニウム((NH4)2PtCl6)を硝酸ナトリウムに溶融',\n",
       " 'その生合成にはいくつかの潜在的ルートがあるが、もっともよく特徴付けられているのは、オートタキシンと呼ばれるリゾホスホリパーゼDによるものであり、リゾホスファチジルコリンからコリンを除去する。',\n",
       " 'スクロースを原料として乳酸菌が生産',\n",
       " 'Leuconostoc mesenteroidesが生産する高分子デキストランを部分的に加水分解し、これを精製する',\n",
       " '90℃の五フッ化ヨウ素（液体）にフッ素を通し、蒸気を270℃まで熱することにより合成',\n",
       " 'ホスファチジルイノシトール4,5-ビスリン酸がホスホリパーゼCによって加水分解されると、 IP3とジアシルグリセロールが生成する',\n",
       " 'ベリリウム塩水溶液にアルカリを加えてつくった沈殿を煮沸した濃水酸化ナトリウム水溶液に溶解し、冷却する',\n",
       " 'オルニチンを原料として生合成',\n",
       " 'メタリジウム(Metarhizium anisopliaeなどいくつかの植物および菌から抽出',\n",
       " '全合成',\n",
       " '三酸化アンチモンとフッ化水素との直接反応により生成',\n",
       " '一部の植物や藻類により自然発生',\n",
       " '放線菌 Streptomyces filipinensis の菌糸体および培養濾液から単離された',\n",
       " 'Os3(CO)12 のオクタン溶液（または似た沸点をもつ不活性溶媒）を H2 でパージすることによって準備される',\n",
       " '3-ジメチルアミノフェノールとブロモエタンからエドロホニウム臭化物を合成し、塩化銀で臭素を塩素に置き換える',\n",
       " 'パチョリから抽出',\n",
       " '有機金属化学気相蒸着法',\n",
       " '原料槽に入れた金属錯体原料をヒーターで加熱し液体状態にし、キャリアガスを原料槽内に流通することにより、気化した原料ガスを反応室へと導き、セラミックヒーターで加熱された基板上に蒸着させ成膜を行う',\n",
       " '電子ビーム共蒸着法',\n",
       " '真空容器内で複数の蒸着源を個々に電子ビームで加熱蒸発させ、ヒーターによって加熱された基板上に薄膜として成長させる',\n",
       " '原料槽に入れた金属錯体原料をヒーターで加熱し液体状態にし、キャリアガスを原料槽内に流通することにより、気化した原料ガスを反応室へと導き、セラミックヒーターで加熱された基板上に蒸着させ成膜を行う。',\n",
       " 'MOCVD',\n",
       " 'ジイソプロピルアミンを原料に合成する',\n",
       " '骨を燃焼させた際に得られる']"
      ]
     },
     "execution_count": 184,
     "metadata": {},
     "output_type": "execute_result"
    }
   ],
   "source": [
    "flatten(\n",
    "    [list(set([f_data[0] for f_data in v['failure']])) \n",
    "     for v in failures_dict.values() if v['failure']\n",
    "    ]\n",
    ")"
   ]
  },
  {
   "cell_type": "code",
   "execution_count": 181,
   "metadata": {},
   "outputs": [],
   "source": [
    "with open(\"../../output/error_analysis/production_failures_with_sentence.json\", 'w') as f:\n",
    "    json.dump(failures_dict, f, ensure_ascii=False)"
   ]
  },
  {
   "cell_type": "markdown",
   "metadata": {},
   "source": [
    "## 製造方法&原材料"
   ]
  },
  {
   "cell_type": "code",
   "execution_count": 295,
   "metadata": {},
   "outputs": [
    {
     "data": {
      "text/plain": [
       "11"
      ]
     },
     "execution_count": 295,
     "metadata": {},
     "output_type": "execute_result"
    }
   ],
   "source": [
    "predict_production_df.groupby('_id', as_index=False).extracted.sum().apply(\n",
    "    lambda x: len(exact_match(extracted_production_data[x._id]['true'], x.extracted))\n",
    "    , axis=1\n",
    ").sum()"
   ]
  },
  {
   "cell_type": "markdown",
   "metadata": {},
   "source": [
    "### 製造方法の抽出結果のカウント"
   ]
  },
  {
   "cell_type": "markdown",
   "metadata": {},
   "source": [
    "#### 原材料抽出無し"
   ]
  },
  {
   "cell_type": "code",
   "execution_count": 334,
   "metadata": {},
   "outputs": [
    {
     "name": "stdout",
     "output_type": "stream",
     "text": [
      "23\n"
     ]
    }
   ],
   "source": [
    "none_material_exist_prod_df = \\\n",
    "pd.merge(\n",
    "    predict_material_df, predict_production_df, on=['_id', 'sentence'], how='right'\n",
    ").drop(columns='words_y').rename(\n",
    "    columns={\n",
    "        'words_x': 'words'\n",
    "        , 'pred_seq_x': 'pred_material_seq'\n",
    "        , 'extracted_x': 'extracted_material'\n",
    "        , 'pred_seq_y': 'pred_production_seq'\n",
    "        , 'extracted_y': 'extracted_prodction'\n",
    "    }\n",
    ")\n",
    "none_material_exist_prod_df = none_material_exist_prod_df[none_material_exist_prod_df.extracted_material.isna()]\n",
    "print(len(none_material_exist_prod_df))"
   ]
  },
  {
   "cell_type": "code",
   "execution_count": 226,
   "metadata": {},
   "outputs": [
    {
     "data": {
      "text/plain": [
       "23"
      ]
     },
     "execution_count": 226,
     "metadata": {},
     "output_type": "execute_result"
    }
   ],
   "source": [
    "# 抽出件数の確認\n",
    "none_material_exist_prod_df.groupby('_id', as_index=False).extracted_prodction.sum().apply(\n",
    "    lambda x: len(set(x.extracted_prodction))\n",
    "    , axis=1\n",
    ").sum()"
   ]
  },
  {
   "cell_type": "code",
   "execution_count": 331,
   "metadata": {},
   "outputs": [
    {
     "data": {
      "text/plain": [
       "1"
      ]
     },
     "execution_count": 331,
     "metadata": {},
     "output_type": "execute_result"
    }
   ],
   "source": [
    "none_material_exist_prod_df.groupby('_id', as_index=False).extracted_prodction.sum().apply(\n",
    "    lambda x: len(set(#partial_match(extracted_production_data[x._id]['true'], set(x.extracted_prodction), return_format=2)\n",
    "                  exact_match(extracted_production_data[x._id]['true'], set(x.extracted_prodction))\n",
    "                 ))\n",
    "    , axis=1\n",
    ").sum()"
   ]
  },
  {
   "cell_type": "markdown",
   "metadata": {},
   "source": [
    "#### 原材料抽出有り"
   ]
  },
  {
   "cell_type": "code",
   "execution_count": 335,
   "metadata": {},
   "outputs": [
    {
     "name": "stdout",
     "output_type": "stream",
     "text": [
      "64\n"
     ]
    }
   ],
   "source": [
    "exist_material_exist_prod_df = \\\n",
    "pd.merge(\n",
    "    predict_material_df, predict_production_df, on=['_id', 'sentence']\n",
    ").drop(columns='words_y').rename(\n",
    "    columns={\n",
    "        'words_x': 'words'\n",
    "        , 'pred_seq_x': 'pred_material_seq'\n",
    "        , 'extracted_x': 'extracted_material'\n",
    "        , 'pred_seq_y': 'pred_production_seq'\n",
    "        , 'extracted_y': 'extracted_prodction'\n",
    "    }\n",
    ")\n",
    "print(len(exist_material_exist_prod_df))"
   ]
  },
  {
   "cell_type": "code",
   "execution_count": 279,
   "metadata": {},
   "outputs": [
    {
     "data": {
      "text/plain": [
       "70"
      ]
     },
     "execution_count": 279,
     "metadata": {},
     "output_type": "execute_result"
    }
   ],
   "source": [
    "# 抽出件数の確認\n",
    "exist_material_exist_prod_df.groupby('_id', as_index=False).extracted_prodction.sum().apply(\n",
    "    lambda x: len(set(x.extracted_prodction))\n",
    "    , axis=1\n",
    ").sum()"
   ]
  },
  {
   "cell_type": "code",
   "execution_count": 333,
   "metadata": {},
   "outputs": [
    {
     "data": {
      "text/plain": [
       "10"
      ]
     },
     "execution_count": 333,
     "metadata": {},
     "output_type": "execute_result"
    }
   ],
   "source": [
    "exist_material_exist_prod_df.groupby('_id', as_index=False).extracted_prodction.sum().apply(\n",
    "    lambda x: len(set(#partial_match(extracted_production_data[x._id]['true'], set(x.extracted_prodction), return_format=2)\n",
    "                  exact_match(extracted_production_data[x._id]['true'], set(x.extracted_prodction))\n",
    "                 ))\n",
    "    , axis=1\n",
    ").sum()"
   ]
  },
  {
   "cell_type": "markdown",
   "metadata": {},
   "source": [
    "### 原材料の抽出結果のカウント"
   ]
  },
  {
   "cell_type": "markdown",
   "metadata": {},
   "source": [
    "#### 製造方法抽出無し"
   ]
  },
  {
   "cell_type": "code",
   "execution_count": 337,
   "metadata": {},
   "outputs": [
    {
     "name": "stdout",
     "output_type": "stream",
     "text": [
      "180\n"
     ]
    }
   ],
   "source": [
    "exist_material_none_prod_df = \\\n",
    "pd.merge(\n",
    "    predict_material_df, predict_production_df, on=['_id', 'sentence'], how='left'\n",
    ").drop(columns='words_y').rename(\n",
    "    columns={\n",
    "        'words_x': 'words'\n",
    "        , 'pred_seq_x': 'pred_material_seq'\n",
    "        , 'extracted_x': 'extracted_material'\n",
    "        , 'pred_seq_y': 'pred_production_seq'\n",
    "        , 'extracted_y': 'extracted_prodction'\n",
    "    }\n",
    ")\n",
    "exist_material_none_prod_df = exist_material_none_prod_df[exist_material_none_prod_df.extracted_prodction.isna()]\n",
    "print(len(exist_material_none_prod_df))"
   ]
  },
  {
   "cell_type": "code",
   "execution_count": 340,
   "metadata": {},
   "outputs": [
    {
     "data": {
      "text/plain": [
       "193"
      ]
     },
     "execution_count": 340,
     "metadata": {},
     "output_type": "execute_result"
    }
   ],
   "source": [
    "# 抽出件数の確認\n",
    "exist_material_none_prod_df.groupby('_id', as_index=False).extracted_material.sum().apply(\n",
    "    lambda x: len(set(x.extracted_material))\n",
    "    , axis=1\n",
    ").sum()"
   ]
  },
  {
   "cell_type": "code",
   "execution_count": 342,
   "metadata": {},
   "outputs": [
    {
     "data": {
      "text/plain": [
       "20"
      ]
     },
     "execution_count": 342,
     "metadata": {},
     "output_type": "execute_result"
    }
   ],
   "source": [
    "exist_material_none_prod_df.groupby('_id', as_index=False).extracted_material.sum().apply(\n",
    "    lambda x: len(set(partial_match(extracted_material_data[x._id]['true'], set(x.extracted_material), return_format=2)\n",
    "                  #exact_match(extracted_material_data[x._id]['true'], set(x.extracted_material))\n",
    "                 ))\n",
    "    , axis=1\n",
    ").sum()"
   ]
  },
  {
   "cell_type": "markdown",
   "metadata": {},
   "source": [
    "#### 製造方法抽出有り"
   ]
  },
  {
   "cell_type": "code",
   "execution_count": 344,
   "metadata": {},
   "outputs": [
    {
     "data": {
      "text/plain": [
       "115"
      ]
     },
     "execution_count": 344,
     "metadata": {},
     "output_type": "execute_result"
    }
   ],
   "source": [
    "# 抽出件数の確認\n",
    "exist_material_exist_prod_df.groupby('_id', as_index=False).extracted_material.sum().apply(\n",
    "    lambda x: len(set(x.extracted_material))\n",
    "    , axis=1\n",
    ").sum()"
   ]
  },
  {
   "cell_type": "code",
   "execution_count": 346,
   "metadata": {},
   "outputs": [
    {
     "data": {
      "text/plain": [
       "63"
      ]
     },
     "execution_count": 346,
     "metadata": {},
     "output_type": "execute_result"
    }
   ],
   "source": [
    "exist_material_exist_prod_df.groupby('_id', as_index=False).extracted_material.sum().apply(\n",
    "    lambda x: len(set(#partial_match(extracted_material_data[x._id]['true'], set(x.extracted_material), return_format=2)\n",
    "                  exact_match(extracted_material_data[x._id]['true'], set(x.extracted_material))\n",
    "                 ))\n",
    "    , axis=1\n",
    ").sum()"
   ]
  },
  {
   "cell_type": "code",
   "execution_count": null,
   "metadata": {},
   "outputs": [],
   "source": []
  }
 ],
 "metadata": {
  "kernelspec": {
   "display_name": "Python 3",
   "language": "python",
   "name": "python3"
  },
  "language_info": {
   "codemirror_mode": {
    "name": "ipython",
    "version": 3
   },
   "file_extension": ".py",
   "mimetype": "text/x-python",
   "name": "python",
   "nbconvert_exporter": "python",
   "pygments_lexer": "ipython3",
   "version": "3.6.1"
  }
 },
 "nbformat": 4,
 "nbformat_minor": 2
}
