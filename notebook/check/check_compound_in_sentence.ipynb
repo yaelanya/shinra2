{
 "cells": [
  {
   "cell_type": "code",
   "execution_count": 2,
   "metadata": {},
   "outputs": [],
   "source": [
    "import pandas as pd\n",
    "import json\n",
    "import re\n",
    "import pronto\n",
    "import mojimoji"
   ]
  },
  {
   "cell_type": "code",
   "execution_count": 3,
   "metadata": {},
   "outputs": [],
   "source": [
    "with open(\"../../data/compound_train.json\", 'r') as f:\n",
    "    raw_train = json.load(f)"
   ]
  },
  {
   "cell_type": "code",
   "execution_count": 5,
   "metadata": {},
   "outputs": [],
   "source": [
    "with open(\"../../data/ENE_compound_name.txt\", 'r', encoding='utf-8') as f:\n",
    "    pageid2title = {str(json.loads(line)['pageid']): json.loads(line)['title'] for line in f}\n",
    "    entry_title = list(pageid2title.values())"
   ]
  },
  {
   "cell_type": "code",
   "execution_count": 2,
   "metadata": {},
   "outputs": [
    {
     "data": {
      "text/html": [
       "<div>\n",
       "<style scoped>\n",
       "    .dataframe tbody tr th:only-of-type {\n",
       "        vertical-align: middle;\n",
       "    }\n",
       "\n",
       "    .dataframe tbody tr th {\n",
       "        vertical-align: top;\n",
       "    }\n",
       "\n",
       "    .dataframe thead th {\n",
       "        text-align: right;\n",
       "    }\n",
       "</style>\n",
       "<table border=\"1\" class=\"dataframe\">\n",
       "  <thead>\n",
       "    <tr style=\"text-align: right;\">\n",
       "      <th></th>\n",
       "      <th>_id</th>\n",
       "      <th>label</th>\n",
       "      <th>repl_sentence</th>\n",
       "      <th>sentence</th>\n",
       "      <th>title</th>\n",
       "      <th>words</th>\n",
       "    </tr>\n",
       "  </thead>\n",
       "  <tbody>\n",
       "    <tr>\n",
       "      <th>0</th>\n",
       "      <td>10166</td>\n",
       "      <td>False</td>\n",
       "      <td>[title-compound] (英: [title-compound]) は分子式が N...</td>\n",
       "      <td>アンモニア (英: ammonia) は分子式が NH 3 で表される無機化合物。</td>\n",
       "      <td>アンモニア</td>\n",
       "      <td>[アンモニア, (, 英, :, ammonia, ), は, 分子, 式, が, NH, ...</td>\n",
       "    </tr>\n",
       "    <tr>\n",
       "      <th>1</th>\n",
       "      <td>10166</td>\n",
       "      <td>False</td>\n",
       "      <td>常温常圧では無色の気体で、特有の強い刺激臭を持つ。</td>\n",
       "      <td>常温常圧では無色の気体で、特有の強い刺激臭を持つ。</td>\n",
       "      <td>アンモニア</td>\n",
       "      <td>[常温, 常, 圧, で, は, 無色, の, 気体, で, 、, 特有, の, 強い, 刺...</td>\n",
       "    </tr>\n",
       "    <tr>\n",
       "      <th>2</th>\n",
       "      <td>10166</td>\n",
       "      <td>False</td>\n",
       "      <td>水に良く溶けるため、水溶液（[compound]）として使用されることも多く、化学工業では基...</td>\n",
       "      <td>水に良く溶けるため、水溶液（アンモニア水）として使用されることも多く、化学工業では基礎的な窒...</td>\n",
       "      <td>アンモニア</td>\n",
       "      <td>[水, に, 良く, 溶ける, ため, 、, 水溶液, （, アンモニア水, ）, として,...</td>\n",
       "    </tr>\n",
       "    <tr>\n",
       "      <th>3</th>\n",
       "      <td>10166</td>\n",
       "      <td>False</td>\n",
       "      <td>塩基の程度は[compound]より弱い。</td>\n",
       "      <td>塩基の程度は水酸化ナトリウムより弱い。</td>\n",
       "      <td>アンモニア</td>\n",
       "      <td>[塩基, の, 程度, は, 水酸化ナトリウム, より, 弱い, 。]</td>\n",
       "    </tr>\n",
       "    <tr>\n",
       "      <th>4</th>\n",
       "      <td>10166</td>\n",
       "      <td>False</td>\n",
       "      <td>窒素原子上の孤立電子対のはたらきにより、金属錯体の配位子となり、その場合はアンミンと呼ばれる。</td>\n",
       "      <td>窒素原子上の孤立電子対のはたらきにより、金属錯体の配位子となり、その場合はアンミンと呼ばれる。</td>\n",
       "      <td>アンモニア</td>\n",
       "      <td>[窒素, 原子, 上, の, 孤立, 電子, 対, の, はたらき, により, 、, 金属,...</td>\n",
       "    </tr>\n",
       "  </tbody>\n",
       "</table>\n",
       "</div>"
      ],
      "text/plain": [
       "     _id  label                                      repl_sentence  \\\n",
       "0  10166  False  [title-compound] (英: [title-compound]) は分子式が N...   \n",
       "1  10166  False                          常温常圧では無色の気体で、特有の強い刺激臭を持つ。   \n",
       "2  10166  False  水に良く溶けるため、水溶液（[compound]）として使用されることも多く、化学工業では基...   \n",
       "3  10166  False                              塩基の程度は[compound]より弱い。   \n",
       "4  10166  False    窒素原子上の孤立電子対のはたらきにより、金属錯体の配位子となり、その場合はアンミンと呼ばれる。   \n",
       "\n",
       "                                            sentence  title  \\\n",
       "0          アンモニア (英: ammonia) は分子式が NH 3 で表される無機化合物。  アンモニア   \n",
       "1                          常温常圧では無色の気体で、特有の強い刺激臭を持つ。  アンモニア   \n",
       "2  水に良く溶けるため、水溶液（アンモニア水）として使用されることも多く、化学工業では基礎的な窒...  アンモニア   \n",
       "3                                塩基の程度は水酸化ナトリウムより弱い。  アンモニア   \n",
       "4    窒素原子上の孤立電子対のはたらきにより、金属錯体の配位子となり、その場合はアンミンと呼ばれる。  アンモニア   \n",
       "\n",
       "                                               words  \n",
       "0  [アンモニア, (, 英, :, ammonia, ), は, 分子, 式, が, NH, ...  \n",
       "1  [常温, 常, 圧, で, は, 無色, の, 気体, で, 、, 特有, の, 強い, 刺...  \n",
       "2  [水, に, 良く, 溶ける, ため, 、, 水溶液, （, アンモニア水, ）, として,...  \n",
       "3                [塩基, の, 程度, は, 水酸化ナトリウム, より, 弱い, 。]  \n",
       "4  [窒素, 原子, 上, の, 孤立, 電子, 対, の, はたらき, により, 、, 金属,...  "
      ]
     },
     "execution_count": 2,
     "metadata": {},
     "output_type": "execute_result"
    }
   ],
   "source": [
    "train_sentence_df = pd.read_pickle(\"../../dump/Production_train_split_words_using_compound_dict.pkl\")\n",
    "train_sentence_df.head()"
   ]
  },
  {
   "cell_type": "code",
   "execution_count": 8,
   "metadata": {},
   "outputs": [],
   "source": [
    "flatten = lambda items: [i for sublist in items if sublist for i in sublist]\n",
    "\n",
    "def get_asynonyms_from_wikidata(entry):\n",
    "    '''\n",
    "    arg: json of WikiData entry\n",
    "    return: English and Japanese synonyms list\n",
    "    '''\n",
    "    synonyms = []\n",
    "    \n",
    "    aliases_dict = list(entry['entities'].values())[0]['aliases']\n",
    "    if aliases_dict and aliases_dict.get('en'):\n",
    "        synonyms += [alias['value'] for alias in aliases_dict.get('en')]\n",
    "    if aliases_dict and aliases_dict.get('ja'):\n",
    "        synonyms += [alias['value'] for alias in aliases_dict.get('ja')]\n",
    "    if get_title_from_wikidata(entry, lang='en'):\n",
    "        synonyms += [get_title_from_wikidata(entry, lang='en')]\n",
    "    \n",
    "    return synonyms\n",
    "\n",
    "def get_title_from_wikidata(entry, lang='ja'):\n",
    "    label_dict = list(entry['entities'].values())[0]['labels']\n",
    "    if label_dict.get(lang):\n",
    "        return label_dict.get(lang)['value']\n",
    "    return None\n",
    "\n",
    "def get_CID(article: dict) -> str:\n",
    "    if article.get('Record') and article.get('Record').get('RecordNumber'):\n",
    "        return str(article.get('Record').get('RecordNumber'))\n",
    "    else:\n",
    "        return None\n",
    "    \n",
    "def get_synonyms_from_PubChem(article):\n",
    "    synonym_list = \\\n",
    "    [synonyms['StringValueList']\n",
    "     for section in article['Record']['Section'] if section['TOCHeading'] == 'Names and Identifiers'\n",
    "     for sub_section in section['Section'] if sub_section['TOCHeading'] == 'Synonyms'\n",
    "     for synonym_info in sub_section['Section'] if synonym_info['TOCHeading'] == 'MeSH Entry Terms'\n",
    "     for synonyms in synonym_info['Information']\n",
    "    ]\n",
    "    \n",
    "    return flatten(synonym_list)\n",
    "\n",
    "def append_dict(dic, key, data):\n",
    "    if not isinstance(data, list):\n",
    "        data = [data]\n",
    "    \n",
    "    _dic = dic.copy()\n",
    "    if _dic.get(key) is None:\n",
    "        _dic[key] = data\n",
    "    elif isinstance(_dic.get(key), list):\n",
    "        _dic[key] += data\n",
    "    else:\n",
    "        _dic[key] = [_dic[key]] + data\n",
    "        \n",
    "    return _dic\n",
    "\n",
    "def remove_disambiguation(word):\n",
    "    return re.sub(r'\\s\\(.+\\)$|\\s（.+）$', '', word)\n",
    "\n",
    "def reverse_table(table: dict):\n",
    "    if not isinstance(list(table.values())[0], list):\n",
    "        return {v: k for k, v in table.items()}\n",
    "    \n",
    "    new_table = {}\n",
    "    for k, values in table.items():\n",
    "        for v in values:\n",
    "            new_table = append_dict(new_table, v, k)\n",
    "                \n",
    "    return new_table"
   ]
  },
  {
   "cell_type": "markdown",
   "metadata": {},
   "source": [
    "## 同義語辞書作成"
   ]
  },
  {
   "cell_type": "code",
   "execution_count": 5,
   "metadata": {},
   "outputs": [],
   "source": [
    "# 同義語辞書 {title: synonyms}\n",
    "synonyms_dict = {}"
   ]
  },
  {
   "cell_type": "code",
   "execution_count": 6,
   "metadata": {},
   "outputs": [],
   "source": [
    "# WikiDataから同義語データを取得\n",
    "with open(\"../../data/compound_wikidata.jsonl\", 'r', encoding='utf-8') as f:\n",
    "    for line in f:\n",
    "        entry = json.loads(line)\n",
    "        title = get_title_from_wikidata(entry)\n",
    "        if title is None:\n",
    "            continue\n",
    "        synonyms = get_asynonyms_from_wikidata(entry)\n",
    "        synonyms_dict = append_dict(synonyms_dict, title, synonyms)"
   ]
  },
  {
   "cell_type": "code",
   "execution_count": 7,
   "metadata": {},
   "outputs": [],
   "source": [
    "# ChEBI Ontology から同義語データを取得\n",
    "ont = pronto.Ontology(\"../../data/chebi.owl\")\n",
    "\n",
    "with open(\"../../data/pageid2ChEBI.json\", 'r') as f:\n",
    "    pageid2ChEBI_table = json.load(f)\n",
    "\n",
    "ChEBI2pageid_table = reverse_table(pageid2ChEBI_table)\n",
    "\n",
    "for entry in ont:    \n",
    "    pageid_list = ChEBI2pageid_table.get(entry.id)\n",
    "    if pageid_list is None:\n",
    "        continue\n",
    "    \n",
    "    synonyms = list(entry.synonyms)\n",
    "    if len(synonyms) is 0:\n",
    "        continue\n",
    "    synonyms = [synonym.desc for synonym in synonyms]\n",
    "    \n",
    "    for pageid in pageid_list:\n",
    "        title = remove_disambiguation(pageid2title.get(pageid))\n",
    "        synonyms_dict = append_dict(synonyms_dict, title, synonyms)"
   ]
  },
  {
   "cell_type": "code",
   "execution_count": 8,
   "metadata": {},
   "outputs": [],
   "source": [
    "# PubChem から同義語データを取得\n",
    "with open(\"../../data/pageID2CID_using_wikidata.json\", 'r') as f:\n",
    "    cid2pageid_table = reverse_table(json.load(f))\n",
    "\n",
    "with open(\"../../data/pubchem_articles.jsonl\", 'r') as f:\n",
    "    for line in f:\n",
    "        entry = json.loads(line)\n",
    "        \n",
    "        cid = get_CID(entry)\n",
    "        if cid is None: continue\n",
    "        \n",
    "        pageid_list = cid2pageid_table.get(cid)\n",
    "        if pageid_list is None: continue\n",
    "            \n",
    "        synonyms = get_synonyms_from_PubChem(entry)\n",
    "        for pageid in pageid_list:\n",
    "            title = remove_disambiguation(pageid2title.get(pageid))\n",
    "            synonyms_dict = append_dict(synonyms_dict, title, synonyms)"
   ]
  },
  {
   "cell_type": "markdown",
   "metadata": {},
   "source": [
    "## 置換"
   ]
  },
  {
   "cell_type": "code",
   "execution_count": 3,
   "metadata": {},
   "outputs": [],
   "source": [
    "with open(\"../../data/compound_synonyms.json\", 'r') as f:\n",
    "    synonyms_dict = json.load(f)"
   ]
  },
  {
   "cell_type": "code",
   "execution_count": 6,
   "metadata": {},
   "outputs": [],
   "source": [
    "# 日化辞辞書読み込み\n",
    "nikkaji_compounds = pd.read_csv(\"../../data/mecab_nikkaji.csv\", encoding='cp932')[['Surface form']].rename(columns={'Surface form': 'name'})\n",
    "## 全角英数字を半角に\n",
    "nikkaji_compounds.name = nikkaji_compounds.name.apply(lambda x: mojimoji.zen_to_han(x, kana=False))"
   ]
  },
  {
   "cell_type": "code",
   "execution_count": 9,
   "metadata": {},
   "outputs": [],
   "source": [
    "compound_name_list = [remove_disambiguation(compound) for compound in entry_title]\n",
    "compound_name_list += nikkaji_compounds.name.tolist()\n",
    "compound_name_list += flatten(list(synonyms_dict.values()))\n",
    "compound_name_list = list(set(compound_name_list))\n",
    "\n",
    "compound_name_list.sort(key=len)\n",
    "for i, name in enumerate(compound_name_list):\n",
    "    if len(name) > 1:\n",
    "        compound_name_list = compound_name_list[i:]\n",
    "        break\n",
    "compound_name_list.remove(\"生産\")"
   ]
  },
  {
   "cell_type": "code",
   "execution_count": 27,
   "metadata": {},
   "outputs": [],
   "source": [
    "def repl_compound(word: str, title: str):\n",
    "    synonyms = (synonyms_dict.get(title) if synonyms_dict.get(title) else [])\n",
    "    if (word == title) or (word in synonyms):\n",
    "        return \"[title-compound]\"\n",
    "    elif word in compound_name_list:\n",
    "        return \"[compound]\"\n",
    "    else:\n",
    "        return word"
   ]
  },
  {
   "cell_type": "code",
   "execution_count": 28,
   "metadata": {},
   "outputs": [
    {
     "name": "stdout",
     "output_type": "stream",
     "text": [
      "CPU times: user 8min 21s, sys: 152 ms, total: 8min 21s\n",
      "Wall time: 8min 21s\n"
     ]
    }
   ],
   "source": [
    "%%time\n",
    "replace_compound_train_df = train_sentence_df.copy()\n",
    "replace_compound_train_df['repl_words'] = replace_compound_train_df.apply(\n",
    "    lambda x: [repl_compound(w, x.title) for w in x.words]\n",
    "    , axis=1\n",
    ")"
   ]
  },
  {
   "cell_type": "code",
   "execution_count": 36,
   "metadata": {},
   "outputs": [],
   "source": [
    "replace_compound_train_df = replace_compound_train_df.drop(columns=['repl_sentence'])"
   ]
  },
  {
   "cell_type": "code",
   "execution_count": 37,
   "metadata": {},
   "outputs": [],
   "source": [
    "replace_compound_train_df.to_pickle(\"../../data/Production_train_split_word_with_repl_compound.pkl\")"
   ]
  },
  {
   "cell_type": "code",
   "execution_count": 32,
   "metadata": {},
   "outputs": [
    {
     "name": "stdout",
     "output_type": "stream",
     "text": [
      "False \t in compound rate: 0.3634526215669956\n",
      "True \t in compound rate: 0.7431972789115646\n"
     ]
    }
   ],
   "source": [
    "for label, g in replace_compound_train_df.groupby('label'):\n",
    "    count_sentence = len(g)\n",
    "    count_sentence_in_compound = g.repl_words.apply(lambda x: '[compound]' in x).sum()\n",
    "    print(label, \"\\t in compound rate:\", count_sentence_in_compound / count_sentence)"
   ]
  },
  {
   "cell_type": "code",
   "execution_count": 33,
   "metadata": {},
   "outputs": [
    {
     "name": "stdout",
     "output_type": "stream",
     "text": [
      "False \t in compound rate: 0.3601236476043277\n",
      "True \t in compound rate: 0.36904761904761907\n"
     ]
    }
   ],
   "source": [
    "for label, g in replace_compound_train_df.groupby('label'):\n",
    "    count_sentence = len(g)\n",
    "    count_sentence_in_compound = g.repl_words.apply(lambda x: '[title-compound]' in x).sum()\n",
    "    print(label, \"\\t in compound rate:\", count_sentence_in_compound / count_sentence)"
   ]
  },
  {
   "cell_type": "code",
   "execution_count": null,
   "metadata": {},
   "outputs": [],
   "source": []
  }
 ],
 "metadata": {
  "kernelspec": {
   "display_name": "Python 3",
   "language": "python",
   "name": "python3"
  },
  "language_info": {
   "codemirror_mode": {
    "name": "ipython",
    "version": 3
   },
   "file_extension": ".py",
   "mimetype": "text/x-python",
   "name": "python",
   "nbconvert_exporter": "python",
   "pygments_lexer": "ipython3",
   "version": "3.5.2"
  }
 },
 "nbformat": 4,
 "nbformat_minor": 2
}
