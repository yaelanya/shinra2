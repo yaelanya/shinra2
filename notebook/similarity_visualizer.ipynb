{
 "cells": [
  {
   "cell_type": "code",
   "execution_count": 2,
   "metadata": {},
   "outputs": [],
   "source": [
    "import numpy as np\n",
    "import pandas as pd\n",
    "import scipy\n",
    "import json\n",
    "import pickle\n",
    "from wikipedia2vec import Wikipedia2Vec\n",
    "from gensim.models import TfidfModel\n",
    "from gensim.corpora import Dictionary"
   ]
  },
  {
   "cell_type": "code",
   "execution_count": 63,
   "metadata": {},
   "outputs": [],
   "source": [
    "flatten = lambda x: [i for list_ in x for i in list_]\n",
    "\n",
    "def get_vectors(words, lang='ja', return_words=False):\n",
    "    if return_words is True:\n",
    "        return words, np.array([w2v(w.lower(), lang=lang) for w in words])\n",
    "    \n",
    "    return np.array([w2v(w.lower(), lang=lang) for w in words])\n",
    "        \n",
    "def w2v(w, lang, embedding_dim=300):\n",
    "    try:\n",
    "        if lang == 'ja':\n",
    "            return ja_w2v.get_word_vector(w).tolist()\n",
    "        elif lang == 'en':\n",
    "            return transformer.predict([en_w2v.get_word_vector(w)])[0]\n",
    "        else:\n",
    "            print(\"Undefined language.\")\n",
    "            return [0.0] * embedding_dim\n",
    "    \n",
    "    except KeyError:\n",
    "        return [0.0] * embedding_dim"
   ]
  },
  {
   "cell_type": "code",
   "execution_count": 4,
   "metadata": {},
   "outputs": [],
   "source": [
    "# load models\n",
    "en_w2v = Wikipedia2Vec.load(\"../model/enwiki_20180420_300d.pkl\")\n",
    "ja_w2v = Wikipedia2Vec.load(\"../model/jawiki_20180420_300d.pkl\")\n",
    "\n",
    "with open(\"../model/wikipedia2vec_en2ja_mapping.pkl\", 'rb') as f:\n",
    "    transformer = pickle.load(f)"
   ]
  },
  {
   "cell_type": "code",
   "execution_count": 64,
   "metadata": {},
   "outputs": [],
   "source": [
    "# load data & vectorize\n",
    "methods_df = pd.read_pickle(\"../data/manufacturing_words_using_wikidata.pkl\")\n",
    "\n",
    "wiki_df = pd.read_csv(\"../data/train_split_words.csv\")\n",
    "wiki_df = wiki_df.append(pd.read_csv(\"../data/valid_split_words.csv\"))\n",
    "wiki_df._id = wiki_df._id.astype(str)\n",
    "\n",
    "wiki_df = \\\n",
    "wiki_df.assign(\n",
    "    wiki_wv = wiki_df.words.apply(lambda x: get_vectors(eval(x), lang='ja'))\n",
    ").reset_index(drop=True)\n",
    "\n",
    "method_word = {}\n",
    "method_word_vec = {}\n",
    "for _id, group in methods_df.groupby('_id'):\n",
    "    words = list(set(flatten(group.words.tolist())))\n",
    "    method_word[str(_id)] = words\n",
    "    method_word_vec[str(_id)] = get_vectors(words, lang='en')"
   ]
  },
  {
   "cell_type": "code",
   "execution_count": 38,
   "metadata": {},
   "outputs": [
    {
     "name": "stdout",
     "output_type": "stream",
     "text": [
      "Documents: 1560\n"
     ]
    }
   ],
   "source": [
    "# caluculate TF-IDF\n",
    "docs = methods_df.groupby('_id').apply(lambda x: x.words.sum())\n",
    "dct = Dictionary(docs)\n",
    "corpus = [dct.doc2bow(article) for article in docs]\n",
    "model = TfidfModel(corpus)\n",
    "print(\"Documents:\", len(corpus))"
   ]
  },
  {
   "cell_type": "code",
   "execution_count": 41,
   "metadata": {},
   "outputs": [],
   "source": [
    "TFIDF_df = pd.DataFrame()\n",
    "for i, (_id, value) in enumerate(methods_df.groupby('_id')):\n",
    "    n_token = len(model[corpus[i]])\n",
    "    token_scores = np.array([[dct[token_id], tfidf] for token_id, tfidf in model[corpus[i]]])\n",
    "    tokens, scores = token_scores[:, 0], token_scores[:, 1]\n",
    "    \n",
    "    TFIDF_df = TFIDF_df.append(pd.DataFrame({'_id': [_id] * n_token, 'token': tokens, 'TFIDF': scores}))"
   ]
  },
  {
   "cell_type": "code",
   "execution_count": 182,
   "metadata": {},
   "outputs": [],
   "source": [
    "def get_tfidf_vec(tfidf_df, doc_id, words):\n",
    "    return np.array([_get_tfidf(tfidf_df, doc_id, token) for token in words])\n",
    "    \n",
    "def _get_tfidf(tfidf_df, doc_id, token):\n",
    "    return tfidf_df.loc[(tfidf_df._id == doc_id) & (tfidf_df.token == token), 'TFIDF'].values[0]\n",
    "\n",
    "def most_similarly(doc, kb, tfidf=None):\n",
    "    return [_most_similarly(s, kb, tfidf) for s in doc]\n",
    "\n",
    "def _most_similarly(s, kb, tfidf=None):\n",
    "    mat_sim = 1.0 - scipy.spatial.distance.cdist(s, kb, 'cosine')\n",
    "    \n",
    "    # weight TFIDF\n",
    "    if tfidf is not None:\n",
    "        mat_sim = np.asarray(mat_sim, dtype='float32')\n",
    "        tfidf = np.asarray(tfidf, dtype='float32')\n",
    "        mat_sim = np.multiply(mat_sim, tfidf)\n",
    "    \n",
    "    mat_sim[np.isnan(mat_sim)] = 0.0\n",
    "    most_sim = np.min(mat_sim, axis=1)\n",
    "    \n",
    "    return most_sim\n",
    "\n",
    "def visualizer(title, doc, labels, mat_sim, fp):\n",
    "    fp.write(\"<h2>{title}</h2><br>\\n\".format(**locals()))\n",
    "    for s, label, a_sim in zip(doc, labels, mat_sim):\n",
    "        for w, sim in zip(s, a_sim):\n",
    "            alpha = sim\n",
    "            if label:\n",
    "                fp.write(\"<b><span style=\\\"background-color: rgba(255,0,0,{alpha})\\\">{w}</span></b> \".format(**locals()))\n",
    "            else:\n",
    "                fp.write(\"<font color=gray><span style=\\\"background-color: rgba(255,0,0,{alpha})\\\">{w}</span></font> \".format(**locals()))\n",
    "        fp.write('<br>\\n')\n",
    "    fp.write('<br>\\n')"
   ]
  },
  {
   "cell_type": "code",
   "execution_count": 183,
   "metadata": {},
   "outputs": [
    {
     "ename": "TypeError",
     "evalue": "ufunc 'multiply' did not contain a loop with signature matching types dtype('<U32') dtype('<U32') dtype('<U32')",
     "output_type": "error",
     "traceback": [
      "\u001b[0;31m---------------------------------------------------------------------------\u001b[0m",
      "\u001b[0;31mTypeError\u001b[0m                                 Traceback (most recent call last)",
      "\u001b[0;32m<ipython-input-183-22345da25b55>\u001b[0m in \u001b[0;36m<module>\u001b[0;34m\u001b[0m\n\u001b[1;32m     14\u001b[0m     \u001b[0mtitle\u001b[0m \u001b[0;34m=\u001b[0m \u001b[0mgroup\u001b[0m\u001b[0;34m.\u001b[0m\u001b[0mtitle\u001b[0m\u001b[0;34m.\u001b[0m\u001b[0mvalues\u001b[0m\u001b[0;34m[\u001b[0m\u001b[0;36m0\u001b[0m\u001b[0;34m]\u001b[0m\u001b[0;34m\u001b[0m\u001b[0m\n\u001b[1;32m     15\u001b[0m     \u001b[0mlabels\u001b[0m \u001b[0;34m=\u001b[0m \u001b[0mgroup\u001b[0m\u001b[0;34m.\u001b[0m\u001b[0mlabel\u001b[0m\u001b[0;34m.\u001b[0m\u001b[0mvalues\u001b[0m\u001b[0;34m\u001b[0m\u001b[0m\n\u001b[0;32m---> 16\u001b[0;31m     \u001b[0mmat_most_sim\u001b[0m \u001b[0;34m=\u001b[0m \u001b[0mmost_similarly\u001b[0m\u001b[0;34m(\u001b[0m\u001b[0mwiki_wvs\u001b[0m\u001b[0;34m,\u001b[0m \u001b[0mmethod_wvs\u001b[0m\u001b[0;34m,\u001b[0m \u001b[0mtfidf_vec\u001b[0m\u001b[0;34m)\u001b[0m\u001b[0;34m\u001b[0m\u001b[0m\n\u001b[0m\u001b[1;32m     17\u001b[0m     \u001b[0mvisualizer\u001b[0m\u001b[0;34m(\u001b[0m\u001b[0mtitle\u001b[0m\u001b[0;34m,\u001b[0m \u001b[0mraw_doc\u001b[0m\u001b[0;34m,\u001b[0m \u001b[0mlabels\u001b[0m\u001b[0;34m,\u001b[0m \u001b[0mmat_most_sim\u001b[0m\u001b[0;34m,\u001b[0m \u001b[0mfp\u001b[0m\u001b[0;34m)\u001b[0m\u001b[0;34m\u001b[0m\u001b[0m\n\u001b[1;32m     18\u001b[0m     \u001b[0;32mbreak\u001b[0m\u001b[0;34m\u001b[0m\u001b[0m\n",
      "\u001b[0;32m<ipython-input-182-ca3ebd335f3d>\u001b[0m in \u001b[0;36mmost_similarly\u001b[0;34m(doc, kb, tfidf)\u001b[0m\n\u001b[1;32m      6\u001b[0m \u001b[0;34m\u001b[0m\u001b[0m\n\u001b[1;32m      7\u001b[0m \u001b[0;32mdef\u001b[0m \u001b[0mmost_similarly\u001b[0m\u001b[0;34m(\u001b[0m\u001b[0mdoc\u001b[0m\u001b[0;34m,\u001b[0m \u001b[0mkb\u001b[0m\u001b[0;34m,\u001b[0m \u001b[0mtfidf\u001b[0m\u001b[0;34m=\u001b[0m\u001b[0;32mNone\u001b[0m\u001b[0;34m)\u001b[0m\u001b[0;34m:\u001b[0m\u001b[0;34m\u001b[0m\u001b[0m\n\u001b[0;32m----> 8\u001b[0;31m     \u001b[0;32mreturn\u001b[0m \u001b[0;34m[\u001b[0m\u001b[0m_most_similarly\u001b[0m\u001b[0;34m(\u001b[0m\u001b[0ms\u001b[0m\u001b[0;34m,\u001b[0m \u001b[0mkb\u001b[0m\u001b[0;34m,\u001b[0m \u001b[0mtfidf\u001b[0m\u001b[0;34m)\u001b[0m \u001b[0;32mfor\u001b[0m \u001b[0ms\u001b[0m \u001b[0;32min\u001b[0m \u001b[0mdoc\u001b[0m\u001b[0;34m]\u001b[0m\u001b[0;34m\u001b[0m\u001b[0m\n\u001b[0m\u001b[1;32m      9\u001b[0m \u001b[0;34m\u001b[0m\u001b[0m\n\u001b[1;32m     10\u001b[0m \u001b[0;32mdef\u001b[0m \u001b[0m_most_similarly\u001b[0m\u001b[0;34m(\u001b[0m\u001b[0ms\u001b[0m\u001b[0;34m,\u001b[0m \u001b[0mkb\u001b[0m\u001b[0;34m,\u001b[0m \u001b[0mtfidf\u001b[0m\u001b[0;34m=\u001b[0m\u001b[0;32mNone\u001b[0m\u001b[0;34m)\u001b[0m\u001b[0;34m:\u001b[0m\u001b[0;34m\u001b[0m\u001b[0m\n",
      "\u001b[0;32m<ipython-input-182-ca3ebd335f3d>\u001b[0m in \u001b[0;36m<listcomp>\u001b[0;34m(.0)\u001b[0m\n\u001b[1;32m      6\u001b[0m \u001b[0;34m\u001b[0m\u001b[0m\n\u001b[1;32m      7\u001b[0m \u001b[0;32mdef\u001b[0m \u001b[0mmost_similarly\u001b[0m\u001b[0;34m(\u001b[0m\u001b[0mdoc\u001b[0m\u001b[0;34m,\u001b[0m \u001b[0mkb\u001b[0m\u001b[0;34m,\u001b[0m \u001b[0mtfidf\u001b[0m\u001b[0;34m=\u001b[0m\u001b[0;32mNone\u001b[0m\u001b[0;34m)\u001b[0m\u001b[0;34m:\u001b[0m\u001b[0;34m\u001b[0m\u001b[0m\n\u001b[0;32m----> 8\u001b[0;31m     \u001b[0;32mreturn\u001b[0m \u001b[0;34m[\u001b[0m\u001b[0m_most_similarly\u001b[0m\u001b[0;34m(\u001b[0m\u001b[0ms\u001b[0m\u001b[0;34m,\u001b[0m \u001b[0mkb\u001b[0m\u001b[0;34m,\u001b[0m \u001b[0mtfidf\u001b[0m\u001b[0;34m)\u001b[0m \u001b[0;32mfor\u001b[0m \u001b[0ms\u001b[0m \u001b[0;32min\u001b[0m \u001b[0mdoc\u001b[0m\u001b[0;34m]\u001b[0m\u001b[0;34m\u001b[0m\u001b[0m\n\u001b[0m\u001b[1;32m      9\u001b[0m \u001b[0;34m\u001b[0m\u001b[0m\n\u001b[1;32m     10\u001b[0m \u001b[0;32mdef\u001b[0m \u001b[0m_most_similarly\u001b[0m\u001b[0;34m(\u001b[0m\u001b[0ms\u001b[0m\u001b[0;34m,\u001b[0m \u001b[0mkb\u001b[0m\u001b[0;34m,\u001b[0m \u001b[0mtfidf\u001b[0m\u001b[0;34m=\u001b[0m\u001b[0;32mNone\u001b[0m\u001b[0;34m)\u001b[0m\u001b[0;34m:\u001b[0m\u001b[0;34m\u001b[0m\u001b[0m\n",
      "\u001b[0;32m<ipython-input-182-ca3ebd335f3d>\u001b[0m in \u001b[0;36m_most_similarly\u001b[0;34m(s, kb, tfidf)\u001b[0m\n\u001b[1;32m     13\u001b[0m     \u001b[0;31m# weight TFIDF\u001b[0m\u001b[0;34m\u001b[0m\u001b[0;34m\u001b[0m\u001b[0m\n\u001b[1;32m     14\u001b[0m     \u001b[0;32mif\u001b[0m \u001b[0mtfidf\u001b[0m \u001b[0;32mis\u001b[0m \u001b[0;32mnot\u001b[0m \u001b[0;32mNone\u001b[0m\u001b[0;34m:\u001b[0m\u001b[0;34m\u001b[0m\u001b[0m\n\u001b[0;32m---> 15\u001b[0;31m         \u001b[0mmat_sim\u001b[0m \u001b[0;34m=\u001b[0m \u001b[0mnp\u001b[0m\u001b[0;34m.\u001b[0m\u001b[0mmultiply\u001b[0m\u001b[0;34m(\u001b[0m\u001b[0mmat_sim\u001b[0m\u001b[0;34m,\u001b[0m \u001b[0mtfidf\u001b[0m\u001b[0;34m)\u001b[0m\u001b[0;34m\u001b[0m\u001b[0m\n\u001b[0m\u001b[1;32m     16\u001b[0m \u001b[0;34m\u001b[0m\u001b[0m\n\u001b[1;32m     17\u001b[0m     \u001b[0mmat_sim\u001b[0m\u001b[0;34m[\u001b[0m\u001b[0mnp\u001b[0m\u001b[0;34m.\u001b[0m\u001b[0misnan\u001b[0m\u001b[0;34m(\u001b[0m\u001b[0mmat_sim\u001b[0m\u001b[0;34m)\u001b[0m\u001b[0;34m]\u001b[0m \u001b[0;34m=\u001b[0m \u001b[0;36m0.0\u001b[0m\u001b[0;34m\u001b[0m\u001b[0m\n",
      "\u001b[0;31mTypeError\u001b[0m: ufunc 'multiply' did not contain a loop with signature matching types dtype('<U32') dtype('<U32') dtype('<U32')"
     ]
    }
   ],
   "source": [
    "fp = open(\"../dump/visualize_using_TFIDF.html\", 'w', encoding='utf-8')\n",
    "\n",
    "for _id, group in wiki_df.groupby('_id'):\n",
    "    if method_word_vec.get(_id) is None:\n",
    "        method_wvs = np.zeros((1, 300))\n",
    "        tfidf_vec = np.array([0.0])\n",
    "    else: \n",
    "        method_wvs = method_word_vec.get(_id)\n",
    "        method_words = method_word.get(_id)\n",
    "        tfidf_vec = get_tfidf_vec(TFIDF_df, _id, method_words)\n",
    "    \n",
    "    wiki_wvs = group.wiki_wv.values\n",
    "    raw_doc = group.words.apply(lambda x: eval(x)).values\n",
    "    title = group.title.values[0]\n",
    "    labels = group.label.values\n",
    "    mat_most_sim = most_similarly(wiki_wvs, method_wvs, tfidf_vec)\n",
    "    visualizer(title, raw_doc, labels, mat_most_sim, fp)\n",
    "    break\n",
    "    \n",
    "fp.close()"
   ]
  },
  {
   "cell_type": "code",
   "execution_count": 161,
   "metadata": {},
   "outputs": [
    {
     "data": {
      "text/plain": [
       "array([[0.99493668, 1.98987335, 2.98481003, 0.        ,        nan],\n",
       "       [0.99493668, 1.98987335, 2.98481003, 0.        ,        nan],\n",
       "       [0.99493668, 1.98987335, 2.98481003, 0.        ,        nan]])"
      ]
     },
     "execution_count": 161,
     "metadata": {},
     "output_type": "execute_result"
    }
   ],
   "source": [
    "np.multiply((1 - scipy.spatial.distance.cdist(a, b, 'cosine')), np.array([1, 2 ,3, 0, 5]))"
   ]
  },
  {
   "cell_type": "code",
   "execution_count": 181,
   "metadata": {},
   "outputs": [
    {
     "data": {
      "text/plain": [
       "array([0.01176385, 0.00742029, 0.00680334, 0.0057761 , 0.01245513,\n",
       "       0.0084088 , 0.01081637, 0.01028995, 0.00800638, 0.00969263,\n",
       "       0.00854991, 0.00961818, 0.00981599, 0.00983905, 0.00808152,\n",
       "       0.01093111, 0.01231547, 0.00922691, 0.00956686], dtype=float32)"
      ]
     },
     "execution_count": 181,
     "metadata": {},
     "output_type": "execute_result"
    }
   ],
   "source": [
    "np.n mat_most_sim[0]"
   ]
  },
  {
   "cell_type": "code",
   "execution_count": 179,
   "metadata": {},
   "outputs": [
    {
     "data": {
      "text/plain": [
       "'haber'"
      ]
     },
     "execution_count": 179,
     "metadata": {},
     "output_type": "execute_result"
    }
   ],
   "source": [
    "method_word[_id][54]"
   ]
  },
  {
   "cell_type": "code",
   "execution_count": null,
   "metadata": {},
   "outputs": [],
   "source": []
  }
 ],
 "metadata": {
  "kernelspec": {
   "display_name": "Python 3",
   "language": "python",
   "name": "python3"
  },
  "language_info": {
   "codemirror_mode": {
    "name": "ipython",
    "version": 3
   },
   "file_extension": ".py",
   "mimetype": "text/x-python",
   "name": "python",
   "nbconvert_exporter": "python",
   "pygments_lexer": "ipython3",
   "version": "3.5.2"
  }
 },
 "nbformat": 4,
 "nbformat_minor": 2
}
