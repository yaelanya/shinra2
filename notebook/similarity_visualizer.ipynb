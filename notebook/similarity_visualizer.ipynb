{
 "cells": [
  {
   "cell_type": "code",
   "execution_count": 2,
   "metadata": {},
   "outputs": [],
   "source": [
    "import numpy as np\n",
    "import pandas as pd\n",
    "import scipy\n",
    "import json\n",
    "import pickle\n",
    "from wikipedia2vec import Wikipedia2Vec\n",
    "from gensim.models import TfidfModel\n",
    "from gensim.corpora import Dictionary"
   ]
  },
  {
   "cell_type": "code",
   "execution_count": 3,
   "metadata": {},
   "outputs": [],
   "source": [
    "flatten = lambda x: [i for list_ in x for i in list_]\n",
    "\n",
    "def get_vectors(words, lang='ja', return_words=False):\n",
    "    if return_words is True:\n",
    "        return words, np.array([w2v(w.lower(), lang=lang) for w in words])\n",
    "    \n",
    "    return np.array([w2v(w.lower(), lang=lang) for w in words])\n",
    "        \n",
    "def w2v(w, lang, embedding_dim=300):\n",
    "    try:\n",
    "        if lang == 'ja':\n",
    "            return ja_w2v.get_word_vector(w).tolist()\n",
    "        elif lang == 'en':\n",
    "            return transformer.predict([en_w2v.get_word_vector(w)])[0]\n",
    "        else:\n",
    "            print(\"Undefined language.\")\n",
    "            return [0.0] * embedding_dim\n",
    "    \n",
    "    except KeyError:\n",
    "        return [0.0] * embedding_dim"
   ]
  },
  {
   "cell_type": "code",
   "execution_count": 4,
   "metadata": {},
   "outputs": [],
   "source": [
    "# load models\n",
    "en_w2v = Wikipedia2Vec.load(\"../model/enwiki_20180420_300d.pkl\")\n",
    "ja_w2v = Wikipedia2Vec.load(\"../model/jawiki_20180420_300d.pkl\")\n",
    "\n",
    "with open(\"../model/wikipedia2vec_en2ja_mapping.pkl\", 'rb') as f:\n",
    "    transformer = pickle.load(f)"
   ]
  },
  {
   "cell_type": "code",
   "execution_count": 5,
   "metadata": {},
   "outputs": [],
   "source": [
    "# load data & vectorize\n",
    "methods_df = pd.read_pickle(\"../data/manufacturing_words_using_wikidata.pkl\")\n",
    "\n",
    "wiki_df = pd.read_csv(\"../data/train_split_words.csv\")\n",
    "wiki_df = wiki_df.append(pd.read_csv(\"../data/valid_split_words.csv\"))\n",
    "wiki_df._id = wiki_df._id.astype(str)\n",
    "\n",
    "wiki_df = \\\n",
    "wiki_df.assign(\n",
    "    wiki_wv = wiki_df.words.apply(lambda x: get_vectors(eval(x), lang='ja'))\n",
    ").reset_index(drop=True)"
   ]
  },
  {
   "cell_type": "code",
   "execution_count": 6,
   "metadata": {},
   "outputs": [
    {
     "name": "stdout",
     "output_type": "stream",
     "text": [
      "Documents: 1560\n"
     ]
    }
   ],
   "source": [
    "# caluculate TF-IDF\n",
    "docs = methods_df.groupby('_id').apply(lambda x: x.words.sum())\n",
    "dct = Dictionary(docs)\n",
    "corpus = [dct.doc2bow(article) for article in docs]\n",
    "model = TfidfModel(corpus)\n",
    "print(\"Documents:\", len(corpus))"
   ]
  },
  {
   "cell_type": "code",
   "execution_count": 13,
   "metadata": {},
   "outputs": [],
   "source": [
    "TFIDF_df = pd.DataFrame()\n",
    "for i, (_id, value) in enumerate(methods_df.groupby('_id')):\n",
    "    n_token = len(model[corpus[i]])\n",
    "    token_scores = np.array([[dct[token_id], tfidf] for token_id, tfidf in model[corpus[i]]])\n",
    "    tokens, scores = token_scores[:, 0], token_scores[:, 1]\n",
    "    \n",
    "    TFIDF_df = TFIDF_df.append(pd.DataFrame({'_id': [_id] * n_token, 'token': tokens, 'TFIDF': scores}))"
   ]
  },
  {
   "cell_type": "code",
   "execution_count": null,
   "metadata": {},
   "outputs": [],
   "source": [
    "TFIDF_top5_df = TFIDF_df.groupby('_id').apply(lambda x: x.sort_values('TFIDF', ascending=False)[:5]).reset_index(drop=True)"
   ]
  },
  {
   "cell_type": "code",
   "execution_count": 19,
   "metadata": {},
   "outputs": [],
   "source": [
    "method_word_vec = {}\n",
    "for _id, group in TFIDF_top5_df.groupby('_id'):\n",
    "    words = group.token.tolist()\n",
    "    method_word_vec[str(_id)] = get_vectors(words, lang='en')"
   ]
  },
  {
   "cell_type": "code",
   "execution_count": 44,
   "metadata": {},
   "outputs": [],
   "source": [
    "def most_similarly(doc, kb, tfidf=None):\n",
    "    return [_most_similarly(s, kb, tfidf) for s in doc]\n",
    "\n",
    "def _most_similarly(s, kb, tfidf=None):\n",
    "    mat_sim = 1.0 - scipy.spatial.distance.cdist(s, kb, 'cosine')\n",
    "    mat_sim[np.isnan(mat_sim)] = 0.0\n",
    "    most_sim = np.min(mat_sim, axis=1)\n",
    "    \n",
    "    return most_sim\n",
    "\n",
    "def visualizer(title, doc, labels, mat_sim, fp):\n",
    "    fp.write(\"<h2>{title}</h2><br>\\n\".format(**locals()))\n",
    "    for s, label, a_sim in zip(doc, labels, mat_sim):\n",
    "        a_sim[a_sim < 0.5] = 0.0\n",
    "        for w, sim in zip(s, a_sim):\n",
    "            alpha = sim\n",
    "            if label:\n",
    "                fp.write(\"<b><span style=\\\"background-color: rgba(255,0,0,{alpha})\\\">{w}</span></b> \".format(**locals()))\n",
    "            else:\n",
    "                fp.write(\"<font color=gray><span style=\\\"background-color: rgba(255,0,0,{alpha})\\\">{w}</span></font> \".format(**locals()))\n",
    "        fp.write('<br>\\n')\n",
    "    fp.write('<br>\\n')"
   ]
  },
  {
   "cell_type": "code",
   "execution_count": 46,
   "metadata": {},
   "outputs": [],
   "source": [
    "fp = open(\"../dump/visualize_using_TFIDF.html\", 'w', encoding='utf-8')\n",
    "\n",
    "for _id, group in wiki_df.groupby('_id'):\n",
    "    if method_word_vec.get(_id) is None:\n",
    "        method_wvs = np.zeros((1, 300))\n",
    "    else: \n",
    "        method_wvs = method_word_vec.get(_id)\n",
    "    \n",
    "    wiki_wvs = group.wiki_wv.values\n",
    "    raw_doc = group.words.apply(lambda x: eval(x)).values\n",
    "    title = group.title.values[0]\n",
    "    labels = group.label.values\n",
    "    mat_most_sim = most_similarly(wiki_wvs, method_wvs)\n",
    "    visualizer(title, raw_doc, labels, mat_most_sim, fp)\n",
    "    \n",
    "fp.close()"
   ]
  }
 ],
 "metadata": {
  "kernelspec": {
   "display_name": "Python 3",
   "language": "python",
   "name": "python3"
  },
  "language_info": {
   "codemirror_mode": {
    "name": "ipython",
    "version": 3
   },
   "file_extension": ".py",
   "mimetype": "text/x-python",
   "name": "python",
   "nbconvert_exporter": "python",
   "pygments_lexer": "ipython3",
   "version": "3.5.2"
  }
 },
 "nbformat": 4,
 "nbformat_minor": 2
}
