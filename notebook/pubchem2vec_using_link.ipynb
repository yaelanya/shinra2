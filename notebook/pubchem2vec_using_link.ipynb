{
 "cells": [
  {
   "cell_type": "code",
   "execution_count": 78,
   "metadata": {},
   "outputs": [],
   "source": [
    "import numpy as np\n",
    "import pandas as pd\n",
    "import gensim\n",
    "from tqdm import tqdm_notebook as tqdm\n",
    "\n",
    "from keras.models import Model\n",
    "from keras.layers import Input, Embedding, Reshape, Dot, Dense\n",
    "from keras.preprocessing.sequence import skipgrams, make_sampling_table, pad_sequences\n",
    "from keras.preprocessing.text import Tokenizer"
   ]
  },
  {
   "cell_type": "code",
   "execution_count": 2,
   "metadata": {},
   "outputs": [
    {
     "name": "stdout",
     "output_type": "stream",
     "text": [
      "entry     int64\n",
      "linked    int64\n",
      "dtype: object\n"
     ]
    },
    {
     "data": {
      "text/html": [
       "<div>\n",
       "<style scoped>\n",
       "    .dataframe tbody tr th:only-of-type {\n",
       "        vertical-align: middle;\n",
       "    }\n",
       "\n",
       "    .dataframe tbody tr th {\n",
       "        vertical-align: top;\n",
       "    }\n",
       "\n",
       "    .dataframe thead th {\n",
       "        text-align: right;\n",
       "    }\n",
       "</style>\n",
       "<table border=\"1\" class=\"dataframe\">\n",
       "  <thead>\n",
       "    <tr style=\"text-align: right;\">\n",
       "      <th></th>\n",
       "      <th>entry</th>\n",
       "      <th>linked</th>\n",
       "    </tr>\n",
       "  </thead>\n",
       "  <tbody>\n",
       "    <tr>\n",
       "      <th>0</th>\n",
       "      <td>25352</td>\n",
       "      <td>712</td>\n",
       "    </tr>\n",
       "    <tr>\n",
       "      <th>1</th>\n",
       "      <td>25352</td>\n",
       "      <td>7416</td>\n",
       "    </tr>\n",
       "    <tr>\n",
       "      <th>2</th>\n",
       "      <td>25352</td>\n",
       "      <td>10979</td>\n",
       "    </tr>\n",
       "    <tr>\n",
       "      <th>3</th>\n",
       "      <td>25352</td>\n",
       "      <td>25352</td>\n",
       "    </tr>\n",
       "    <tr>\n",
       "      <th>4</th>\n",
       "      <td>25352</td>\n",
       "      <td>5462310</td>\n",
       "    </tr>\n",
       "  </tbody>\n",
       "</table>\n",
       "</div>"
      ],
      "text/plain": [
       "   entry   linked\n",
       "0  25352      712\n",
       "1  25352     7416\n",
       "2  25352    10979\n",
       "3  25352    25352\n",
       "4  25352  5462310"
      ]
     },
     "execution_count": 2,
     "metadata": {},
     "output_type": "execute_result"
    }
   ],
   "source": [
    "internal_link_df = pd.read_csv(\"../data/internal_CID_link_in_entries.csv\")\n",
    "print(internal_link_df.dtypes)\n",
    "internal_link_df.head()"
   ]
  },
  {
   "cell_type": "code",
   "execution_count": 3,
   "metadata": {},
   "outputs": [],
   "source": [
    "class LinkTokenizer(object):\n",
    "    def __init__(self):\n",
    "        self.num_links = 0\n",
    "        self.link_index = {}\n",
    "        \n",
    "    def fit(self, links: list):\n",
    "        _links = np.array(list(set(links)))\n",
    "        _links.sort()\n",
    "        self.link_index = {link: i for i, link in enumerate(_links, 1)}\n",
    "        self.num_links = len(self.link_index)\n",
    "        \n",
    "    def link_to_index(self, links: list):\n",
    "        return np.array([self.link_index.get(link) if self.link_index.get(link) else 0 for link in links])"
   ]
  },
  {
   "cell_type": "code",
   "execution_count": 4,
   "metadata": {},
   "outputs": [],
   "source": [
    "tokenizer = LinkTokenizer()\n",
    "tokenizer.fit(np.append(internal_link_df.entry.values, internal_link_df.linked.values))"
   ]
  },
  {
   "cell_type": "code",
   "execution_count": 5,
   "metadata": {},
   "outputs": [],
   "source": [
    "LINK_SIZE = tokenizer.num_links + 1"
   ]
  },
  {
   "cell_type": "code",
   "execution_count": 6,
   "metadata": {},
   "outputs": [],
   "source": [
    "EMBED_DIM = 100"
   ]
  },
  {
   "cell_type": "code",
   "execution_count": 101,
   "metadata": {},
   "outputs": [
    {
     "name": "stdout",
     "output_type": "stream",
     "text": [
      "__________________________________________________________________________________________________\n",
      "Layer (type)                    Output Shape         Param #     Connected to                     \n",
      "==================================================================================================\n",
      "input1 (InputLayer)             (None, 1)            0                                            \n",
      "__________________________________________________________________________________________________\n",
      "input2 (InputLayer)             (None, 1)            0                                            \n",
      "__________________________________________________________________________________________________\n",
      "embedding1 (Embedding)          (None, 1, 100)       1843600     input1[0][0]                     \n",
      "                                                                 input2[0][0]                     \n",
      "__________________________________________________________________________________________________\n",
      "dot1 (Dot)                      (None, 1, 1)         0           embedding1[0][0]                 \n",
      "                                                                 embedding1[1][0]                 \n",
      "__________________________________________________________________________________________________\n",
      "reshape1 (Reshape)              (None, 1)            0           dot1[0][0]                       \n",
      "__________________________________________________________________________________________________\n",
      "dense1 (Dense)                  (None, 1)            2           reshape1[0][0]                   \n",
      "==================================================================================================\n",
      "Total params: 1,843,602\n",
      "Trainable params: 1,843,602\n",
      "Non-trainable params: 0\n",
      "__________________________________________________________________________________________________\n"
     ]
    }
   ],
   "source": [
    "input_target_entry = Input(shape=(1,), dtype='int32', name='input1')\n",
    "input_linked_entry = Input(shape=(1,), dtype='int32', name='input2')\n",
    "\n",
    "embedding = Embedding(LINK_SIZE, EMBED_DIM, name='embedding1')\n",
    "target_entry = embedding(input_target_entry)\n",
    "linked_entry = embedding(input_linked_entry)\n",
    "\n",
    "dot = Dot(axes=2, name='dot1')([target_entry, linked_entry])\n",
    "dot = Reshape((1,), name='reshape1')(dot)\n",
    "output = Dense(1, activation='sigmoid', name='dense1')(dot)\n",
    "\n",
    "model = Model(inputs=[input_target_entry, input_linked_entry], outputs=output)\n",
    "model.compile(loss='binary_crossentropy', optimizer='adam')\n",
    "model.summary()"
   ]
  },
  {
   "cell_type": "code",
   "execution_count": 75,
   "metadata": {},
   "outputs": [],
   "source": [
    "index_df = pd.DataFrame()\n",
    "index_df['entry'] = tokenizer.link_to_index(internal_link_df.entry.values)\n",
    "index_df['linked'] = tokenizer.link_to_index(internal_link_df.linked.values)"
   ]
  },
  {
   "cell_type": "code",
   "execution_count": 120,
   "metadata": {},
   "outputs": [],
   "source": [
    "def neg(entry, backlink, negative_samples=1.0):\n",
    "    neg_samples = np.random.choice(np.setdiff1d(all_links, backlink), size=int(len(backlink) * negative_samples))\n",
    "    e = [entry] * (len(backlink) + len(neg_samples))\n",
    "    links = np.append(backlink, neg_samples)\n",
    "    label = np.array([1] * len(backlink) + [0] * len(neg_samples))\n",
    "    \n",
    "    return e, links, label"
   ]
  },
  {
   "cell_type": "code",
   "execution_count": 22,
   "metadata": {},
   "outputs": [],
   "source": [
    "EPOCHS = 1"
   ]
  },
  {
   "cell_type": "code",
   "execution_count": 121,
   "metadata": {},
   "outputs": [
    {
     "data": {
      "application/vnd.jupyter.widget-view+json": {
       "model_id": "66b27e071bc1411280d1684f64abc31c",
       "version_major": 2,
       "version_minor": 0
      },
      "text/plain": [
       "HBox(children=(IntProgress(value=0, max=17214), HTML(value='')))"
      ]
     },
     "metadata": {},
     "output_type": "display_data"
    },
    {
     "name": "stdout",
     "output_type": "stream",
     "text": [
      "\n",
      "Epoch 1/1\tloss: 1713.3947564815753\n",
      "CPU times: user 15min 21s, sys: 4min 55s, total: 20min 17s\n",
      "Wall time: 9min 28s\n"
     ]
    }
   ],
   "source": [
    "%%time\n",
    "\n",
    "all_links = np.array(list(tokenizer.link_index.values()))\n",
    "\n",
    "for i in range(EPOCHS):\n",
    "    loss = 0.0\n",
    "    for entry, link in tqdm(index_df.groupby('linked')):\n",
    "        backlinks = link.entry.values\n",
    "        entry, link, label = neg(entry, backlinks, negative_samples=5.0)\n",
    "        loss += model.train_on_batch([entry, link], label)\n",
    "\n",
    "    print(f\"Epoch {i + 1}/{EPOCHS}\\tloss: {loss}\")"
   ]
  },
  {
   "cell_type": "code",
   "execution_count": null,
   "metadata": {},
   "outputs": [],
   "source": []
  }
 ],
 "metadata": {
  "kernelspec": {
   "display_name": "Python 3",
   "language": "python",
   "name": "python3"
  },
  "language_info": {
   "codemirror_mode": {
    "name": "ipython",
    "version": 3
   },
   "file_extension": ".py",
   "mimetype": "text/x-python",
   "name": "python",
   "nbconvert_exporter": "python",
   "pygments_lexer": "ipython3",
   "version": "3.6.1"
  }
 },
 "nbformat": 4,
 "nbformat_minor": 2
}
