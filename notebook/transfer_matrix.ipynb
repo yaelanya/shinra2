{
 "cells": [
  {
   "cell_type": "code",
   "execution_count": 1,
   "metadata": {},
   "outputs": [],
   "source": [
    "import numpy as np\n",
    "import pandas as pd\n",
    "from sklearn.linear_model import LinearRegression\n",
    "from wikipedia2vec import Wikipedia2Vec\n",
    "from tqdm import tqdm\n",
    "import pickle"
   ]
  },
  {
   "cell_type": "code",
   "execution_count": 2,
   "metadata": {},
   "outputs": [],
   "source": [
    "# load wikipedia2vec model\n",
    "en_w2v = Wikipedia2Vec.load(\"../model/enwiki_20180420_300d.pkl\")\n",
    "ja_w2v = Wikipedia2Vec.load(\"../model/jawiki_20180420_300d.pkl\")"
   ]
  },
  {
   "cell_type": "code",
   "execution_count": 3,
   "metadata": {},
   "outputs": [
    {
     "name": "stdout",
     "output_type": "stream",
     "text": [
      "244517\n"
     ]
    },
    {
     "data": {
      "text/html": [
       "<div>\n",
       "<style scoped>\n",
       "    .dataframe tbody tr th:only-of-type {\n",
       "        vertical-align: middle;\n",
       "    }\n",
       "\n",
       "    .dataframe tbody tr th {\n",
       "        vertical-align: top;\n",
       "    }\n",
       "\n",
       "    .dataframe thead th {\n",
       "        text-align: right;\n",
       "    }\n",
       "</style>\n",
       "<table border=\"1\" class=\"dataframe\">\n",
       "  <thead>\n",
       "    <tr style=\"text-align: right;\">\n",
       "      <th></th>\n",
       "      <th>ja</th>\n",
       "      <th>en</th>\n",
       "    </tr>\n",
       "  </thead>\n",
       "  <tbody>\n",
       "    <tr>\n",
       "      <th>0</th>\n",
       "      <td>ベルギー</td>\n",
       "      <td>Belgium</td>\n",
       "    </tr>\n",
       "    <tr>\n",
       "      <th>1</th>\n",
       "      <td>幸福</td>\n",
       "      <td>Happiness</td>\n",
       "    </tr>\n",
       "    <tr>\n",
       "      <th>2</th>\n",
       "      <td>ジョージ・ワシントン</td>\n",
       "      <td>George Washington</td>\n",
       "    </tr>\n",
       "    <tr>\n",
       "      <th>3</th>\n",
       "      <td>ジャック・バウアー</td>\n",
       "      <td>Jack Bauer</td>\n",
       "    </tr>\n",
       "    <tr>\n",
       "      <th>4</th>\n",
       "      <td>ダグラス・アダムズ</td>\n",
       "      <td>Douglas Adams</td>\n",
       "    </tr>\n",
       "  </tbody>\n",
       "</table>\n",
       "</div>"
      ],
      "text/plain": [
       "           ja                 en\n",
       "0        ベルギー            Belgium\n",
       "1          幸福          Happiness\n",
       "2  ジョージ・ワシントン  George Washington\n",
       "3   ジャック・バウアー         Jack Bauer\n",
       "4   ダグラス・アダムズ      Douglas Adams"
      ]
     },
     "execution_count": 3,
     "metadata": {},
     "output_type": "execute_result"
    }
   ],
   "source": [
    "# load word pair dict\n",
    "pair_df = pd.read_csv(\"../data/title_pair.csv\")\n",
    "print(len(pair_df))\n",
    "pair_df.head()"
   ]
  },
  {
   "cell_type": "code",
   "execution_count": 5,
   "metadata": {},
   "outputs": [
    {
     "name": "stderr",
     "output_type": "stream",
     "text": [
      "244517it [26:30, 153.75it/s]\n"
     ]
    }
   ],
   "source": [
    "# transfer word to vector\n",
    "\n",
    "en_emb_list = np.empty((0, 300))\n",
    "ja_emb_list = np.empty((0, 300))\n",
    "tmp_en_emb_list = np.empty((0, 300))\n",
    "tmp_ja_emb_list = np.empty((0, 300))\n",
    "\n",
    "for i, (ja_word, en_word) in tqdm(pair_df.iterrows()):\n",
    "    try:\n",
    "        en_emb = en_w2v.get_entity_vector(en_word)\n",
    "        ja_emb = ja_w2v.get_entity_vector(ja_word)\n",
    "        \n",
    "        tmp_en_emb_list = np.concatenate([tmp_en_emb_list, [en_emb]], axis=0)\n",
    "        tmp_ja_emb_list = np.concatenate([tmp_ja_emb_list, [ja_emb]], axis=0)\n",
    "    except KeyError:\n",
    "        pass\n",
    "    \n",
    "    if i % 5000 is 0:\n",
    "        en_emb_list = np.concatenate([en_emb_list, tmp_en_emb_list], axis=0)\n",
    "        ja_emb_list = np.concatenate([ja_emb_list, tmp_ja_emb_list], axis=0)\n",
    "        tmp_en_emb_list = np.empty((0, 300))\n",
    "        tmp_ja_emb_list = np.empty((0, 300))"
   ]
  },
  {
   "cell_type": "code",
   "execution_count": 32,
   "metadata": {},
   "outputs": [
    {
     "data": {
      "text/plain": [
       "(108297, 300)"
      ]
     },
     "execution_count": 32,
     "metadata": {},
     "output_type": "execute_result"
    }
   ],
   "source": [
    "en_emb_list.shape"
   ]
  },
  {
   "cell_type": "code",
   "execution_count": 6,
   "metadata": {},
   "outputs": [
    {
     "data": {
      "text/plain": [
       "LinearRegression(copy_X=True, fit_intercept=True, n_jobs=1, normalize=False)"
      ]
     },
     "execution_count": 6,
     "metadata": {},
     "output_type": "execute_result"
    }
   ],
   "source": [
    "# fit transfer matrix\n",
    "model = LinearRegression()\n",
    "model.fit(X=en_emb_list, y=ja_emb_list)"
   ]
  },
  {
   "cell_type": "code",
   "execution_count": 31,
   "metadata": {},
   "outputs": [],
   "source": [
    "# save model\n",
    "with open(\"../model/wikipedia2vec_en2ja_mapping.pkl\", 'wb') as f:\n",
    "    pickle.dump(model, f)"
   ]
  },
  {
   "cell_type": "code",
   "execution_count": 3,
   "metadata": {},
   "outputs": [],
   "source": [
    "# load model\n",
    "with open(\"../model/wikipedia2vec_en2ja_mapping.pkl\", 'rb') as f:\n",
    "    model = pickle.load(f)"
   ]
  },
  {
   "cell_type": "code",
   "execution_count": null,
   "metadata": {},
   "outputs": [],
   "source": [
    "ja_w2v.most_similar(ja_w2v.get_entity('食品添加物'))"
   ]
  },
  {
   "cell_type": "code",
   "execution_count": null,
   "metadata": {},
   "outputs": [],
   "source": [
    "en_w2v.most_similar(en_w2v.get_entity('Food additive'))"
   ]
  },
  {
   "cell_type": "code",
   "execution_count": 20,
   "metadata": {},
   "outputs": [
    {
     "data": {
      "text/plain": [
       "[(<Entity 近田英紀>, 0.7296705955908958),\n",
       " (<Entity 深野洋一>, 0.728355075456518),\n",
       " (<Entity ミクロマン21>, 0.721611174953668),\n",
       " (<Entity :en:Sgt. Frog>, 0.7168662447066008),\n",
       " (<Word モニターグラフィックスデザイン>, 0.7167698553191582),\n",
       " (<Entity エウレカセブン グラヴィティボーイズ&リフティングガール>, 0.715540253677978),\n",
       " (<Entity 平健史>, 0.7145495263896982),\n",
       " (<Entity :en:Donatello (Teenage Mutant Ninja Turtles)>, 0.7137585046649126),\n",
       " (<Word テマリロボ>, 0.713039766329493),\n",
       " (<Entity やまだたかひろ>, 0.7052753182634007),\n",
       " (<Entity コピーロボット>, 0.7052650805121463),\n",
       " (<Word ナビ・キャップ>, 0.7051567847717995),\n",
       " (<Entity 版権#現代における版権の用法>, 0.7047800743857756),\n",
       " (<Entity 勇者伝説ブレイブガム>, 0.7044331375474313),\n",
       " (<Entity ミルキーカートゥーン>, 0.7041478723179069),\n",
       " (<Entity コレクションシリーズ>, 0.7038231148137338),\n",
       " (<Entity 超攻戦士 ザクレス>, 0.7028501549967282),\n",
       " (<Entity 攻殻機動隊#技術>, 0.7026071114937864),\n",
       " (<Entity :en:Michelangelo (Teenage Mutant Ninja Turtles)>,\n",
       "  0.7023630858995186),\n",
       " (<Entity ロボット漫画>, 0.6989795725250362),\n",
       " (<Entity ヘキサギア>, 0.6975453510297268),\n",
       " (<Entity :pt:Canal Panda>, 0.6973419511198945),\n",
       " (<Entity :en:Raphael (Teenage Mutant Ninja Turtles)>, 0.6972631127539741),\n",
       " (<Entity アニメの話数一覧>, 0.6972470454114826),\n",
       " (<Entity ウルトラマン オールスタークロニクル>, 0.6972192617109169),\n",
       " (<Entity :en:Leonardo (Teenage Mutant Ninja Turtles)>, 0.6968502571520394),\n",
       " (<Entity ナカニシマミ>, 0.6963194238462589),\n",
       " (<Word ロボチャンプ>, 0.6962244131530986),\n",
       " (<Entity ナツミ (サルゲッチュ)>, 0.6961331525885847),\n",
       " (<Word ロボアニメ>, 0.695095025261945),\n",
       " (<Entity みずき健>, 0.6942524151130575),\n",
       " (<Word スタジオビンゴ>, 0.6936098865399826),\n",
       " (<Word ジャイベエ>, 0.6935389946044458),\n",
       " (<Word ガンボイ>, 0.6934231908289074),\n",
       " (<Entity スモールライト#ビッグライト>, 0.6926862259904295),\n",
       " (<Word ザクバリエーション>, 0.692281917514346),\n",
       " (<Word アリババ・サルージャ>, 0.6903489008727286),\n",
       " (<Entity 設楽英一>, 0.6903330108210368),\n",
       " (<Entity 人造人間#バイオノイド・バイオロイド>, 0.6901043803574354),\n",
       " (<Word ベイウィールズ>, 0.6889418506715066),\n",
       " (<Word チルドレン・プレイ>, 0.6884634796425985),\n",
       " (<Word スペシャルコンセプター>, 0.6877092573659853),\n",
       " (<Entity フラッシュ倉庫>, 0.6873639725935303),\n",
       " (<Word レプリカ・オートマトン>, 0.6870237889936273),\n",
       " (<Entity タツノコ VS. CAPCOM#TATSUNOKO VS. CAPCOM ULTIMATE ALL-STARS>,\n",
       "  0.6868974751250578),\n",
       " (<Word ロボイド>, 0.6865177019261582),\n",
       " (<Entity マジンガーZ#光子力研究所>, 0.6863375688159095),\n",
       " (<Word gímik>, 0.6857715883214781),\n",
       " (<Entity こじまめぐみ>, 0.6849713637630788),\n",
       " (<Word ザコロボット>, 0.6846196490636154),\n",
       " (<Entity 子供向けアニメ#乳幼児・幼児向けの特徴>, 0.6845490947418628),\n",
       " (<Word スタークラッシュゲーム>, 0.6833715423886565),\n",
       " (<Word マリン・レイガン>, 0.6833505792730262),\n",
       " (<Word ジョミー・マーキス・シン>, 0.6832934838314966),\n",
       " (<Word バイオハンター・シルバ>, 0.6831090744562872),\n",
       " (<Entity プラモウォーズ>, 0.6825930636970905),\n",
       " (<Word ザ・ブルーディスティニー>, 0.6825478828501255),\n",
       " (<Entity :es:Canal de las Estrellas>, 0.6825433850691413),\n",
       " (<Word オニグンソウ>, 0.6823639281551259),\n",
       " (<Entity ビデオチャレンジャー>, 0.6818754124387422),\n",
       " (<Word ムーミン・トロール>, 0.6818713007425352),\n",
       " (<Word moogabooga>, 0.6817997551098772),\n",
       " (<Word デ・ジ・キャラットシリーズ>, 0.6816874424758049),\n",
       " (<Entity 原田尚紀>, 0.6812078898369562),\n",
       " (<Word ウエダハジメ>, 0.6811891670038551),\n",
       " (<Entity クミカのミカク>, 0.6809581585435756),\n",
       " (<Entity 金子孝志>, 0.680178823322048),\n",
       " (<Entity 高倉武史>, 0.6799463300392876),\n",
       " (<Word バトライザー>, 0.6794329813979711),\n",
       " (<Word ショートギャグアニメ>, 0.6794040554964539),\n",
       " (<Word qhg>, 0.6793426885931488),\n",
       " (<Entity 憂夢>, 0.6790659999372455),\n",
       " (<Entity デュアルモデル>, 0.6788508350692405),\n",
       " (<Word ブラックデュラン>, 0.6788463682137943),\n",
       " (<Entity 赤子>, 0.678815058165792),\n",
       " (<Word ミチャリー>, 0.6785003877596283),\n",
       " (<Word マジカルホッパーズ>, 0.6784707390200231),\n",
       " (<Entity フォー・ザ・バレル>, 0.6781261505031605),\n",
       " (<Entity 白佐木和馬>, 0.6778379571600349),\n",
       " (<Entity 並河弘泰>, 0.6777800117618145),\n",
       " (<Entity バトルストーリー ロックマンエグゼ>, 0.6777622871941067),\n",
       " (<Entity 飛松加奈子>, 0.6776422437079263),\n",
       " (<Entity 爆丸バトルブローラーズ#玩具>, 0.6775932757438701),\n",
       " (<Word レイトンシリーズ>, 0.6774028287778738),\n",
       " (<Entity :en:Hanho Heung-Up>, 0.6773560092277796),\n",
       " (<Word フルアニメーション>, 0.6773217153015505),\n",
       " (<Entity ボカン伝説 ブタもおだてりゃドロンボー>, 0.6768526512917039),\n",
       " (<Word スーパーデュエルモード>, 0.6767078989601412),\n",
       " (<Word ロボター>, 0.6764460766827548),\n",
       " (<Word エヴァンチョー>, 0.6763972576835293),\n",
       " (<Word ミラクルミラーキング>, 0.6760011873955906),\n",
       " (<Entity MONSTER SOUL>, 0.6758644631523933),\n",
       " (<Entity DARKER THAN BLACK>, 0.6755365260275977),\n",
       " (<Word コラボジャケット>, 0.6753812739020993),\n",
       " (<Entity 陰陽闘神機>, 0.6753459129491087),\n",
       " (<Word ミヨッペ>, 0.6753034816224883),\n",
       " (<Word オロカブ>, 0.6747748179723853),\n",
       " (<Word ダースベーダー>, 0.6736048950272076),\n",
       " (<Entity ハヤテのごとく! (アニメ)#シリーズ第4作>, 0.6735294115825681),\n",
       " (<Word キャラクタードール>, 0.6735003767385256)]"
      ]
     },
     "execution_count": 20,
     "metadata": {},
     "output_type": "execute_result"
    }
   ],
   "source": [
    "# Test\n",
    "# input English word\n",
    "input_word = \"RWBY\"\n",
    "input_vec = en_w2v.get_entity_vector(input_word)\n",
    "output_vec = model.predict([input_vec])[0]\n",
    "ja_w2v.most_similar_by_vector(output_vec)"
   ]
  },
  {
   "cell_type": "code",
   "execution_count": null,
   "metadata": {},
   "outputs": [],
   "source": []
  }
 ],
 "metadata": {
  "kernelspec": {
   "display_name": "Python 3",
   "language": "python",
   "name": "python3"
  },
  "language_info": {
   "codemirror_mode": {
    "name": "ipython",
    "version": 3
   },
   "file_extension": ".py",
   "mimetype": "text/x-python",
   "name": "python",
   "nbconvert_exporter": "python",
   "pygments_lexer": "ipython3",
   "version": "3.5.2"
  }
 },
 "nbformat": 4,
 "nbformat_minor": 2
}
