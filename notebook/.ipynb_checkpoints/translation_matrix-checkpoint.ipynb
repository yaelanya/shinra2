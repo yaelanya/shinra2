{
 "cells": [
  {
   "cell_type": "code",
   "execution_count": 25,
   "metadata": {},
   "outputs": [],
   "source": [
    "import numpy as np\n",
    "import pandas as pd\n",
    "from wikipedia2vec import Wikipedia2Vec\n",
    "import sklearn"
   ]
  },
  {
   "cell_type": "code",
   "execution_count": 3,
   "metadata": {},
   "outputs": [],
   "source": [
    "ja_w2v = Wikipedia2Vec.load(\"../model/jawiki_20180420_100d.pkl\")\n",
    "en_w2v = Wikipedia2Vec.load(\"../model/enwiki_20180420_100d.pkl\")"
   ]
  },
  {
   "cell_type": "code",
   "execution_count": 6,
   "metadata": {},
   "outputs": [
    {
     "data": {
      "text/html": [
       "<div>\n",
       "<style scoped>\n",
       "    .dataframe tbody tr th:only-of-type {\n",
       "        vertical-align: middle;\n",
       "    }\n",
       "\n",
       "    .dataframe tbody tr th {\n",
       "        vertical-align: top;\n",
       "    }\n",
       "\n",
       "    .dataframe thead th {\n",
       "        text-align: right;\n",
       "    }\n",
       "</style>\n",
       "<table border=\"1\" class=\"dataframe\">\n",
       "  <thead>\n",
       "    <tr style=\"text-align: right;\">\n",
       "      <th></th>\n",
       "      <th>ja</th>\n",
       "      <th>en</th>\n",
       "    </tr>\n",
       "  </thead>\n",
       "  <tbody>\n",
       "    <tr>\n",
       "      <th>0</th>\n",
       "      <td>イソチオシアネート</td>\n",
       "      <td>isothiocyanate</td>\n",
       "    </tr>\n",
       "    <tr>\n",
       "      <th>1</th>\n",
       "      <td>ラウレス硫酸ナトリウム</td>\n",
       "      <td>sodium laureth sulfate</td>\n",
       "    </tr>\n",
       "    <tr>\n",
       "      <th>2</th>\n",
       "      <td>ジクロロエチレン</td>\n",
       "      <td>Dichloroethene</td>\n",
       "    </tr>\n",
       "    <tr>\n",
       "      <th>3</th>\n",
       "      <td>6-ベンジルアミノプリン</td>\n",
       "      <td>N6-benzyladenine</td>\n",
       "    </tr>\n",
       "    <tr>\n",
       "      <th>4</th>\n",
       "      <td>ロジン</td>\n",
       "      <td>rosin</td>\n",
       "    </tr>\n",
       "  </tbody>\n",
       "</table>\n",
       "</div>"
      ],
      "text/plain": [
       "             ja                      en\n",
       "0     イソチオシアネート          isothiocyanate\n",
       "1   ラウレス硫酸ナトリウム  sodium laureth sulfate\n",
       "2      ジクロロエチレン          Dichloroethene\n",
       "3  6-ベンジルアミノプリン        N6-benzyladenine\n",
       "4           ロジン                   rosin"
      ]
     },
     "execution_count": 6,
     "metadata": {},
     "output_type": "execute_result"
    }
   ],
   "source": [
    "pair_vocab_df = pd.read_csv(\"../data/title_pair.csv\")\n",
    "pair_vocab_df.head()"
   ]
  },
  {
   "cell_type": "code",
   "execution_count": 28,
   "metadata": {},
   "outputs": [],
   "source": [
    "ja_emb = np.empty((0,))\n",
    "en_emb = np.empty((0,))"
   ]
  },
  {
   "cell_type": "code",
   "execution_count": 19,
   "metadata": {},
   "outputs": [
    {
     "name": "stdout",
     "output_type": "stream",
     "text": [
      "イソチオシアネート\n",
      "ラウレス硫酸ナトリウム\n",
      "ジクロロエチレン\n",
      "6-ベンジルアミノプリン\n",
      "ロジン\n",
      "硫化窒素\n",
      "スキールニル\n",
      "還元糖\n",
      "ペクチン\n",
      "ペンタニトロアニリン\n"
     ]
    },
    {
     "ename": "KeyError",
     "evalue": "",
     "output_type": "error",
     "traceback": [
      "\u001b[0;31m---------------------------------------------------------------------------\u001b[0m",
      "\u001b[0;31mKeyError\u001b[0m                                  Traceback (most recent call last)",
      "\u001b[0;32m<ipython-input-19-bf4c0be5c46e>\u001b[0m in \u001b[0;36m<module>\u001b[0;34m\u001b[0m\n\u001b[1;32m      1\u001b[0m \u001b[0;32mfor\u001b[0m \u001b[0m_\u001b[0m\u001b[0;34m,\u001b[0m \u001b[0;34m(\u001b[0m\u001b[0mja\u001b[0m\u001b[0;34m,\u001b[0m \u001b[0men\u001b[0m\u001b[0;34m)\u001b[0m \u001b[0;32min\u001b[0m \u001b[0mpair_vocab_df\u001b[0m\u001b[0;34m.\u001b[0m\u001b[0miterrows\u001b[0m\u001b[0;34m(\u001b[0m\u001b[0;34m)\u001b[0m\u001b[0;34m:\u001b[0m\u001b[0;34m\u001b[0m\u001b[0m\n\u001b[1;32m      2\u001b[0m     \u001b[0mprint\u001b[0m\u001b[0;34m(\u001b[0m\u001b[0mja\u001b[0m\u001b[0;34m)\u001b[0m\u001b[0;34m\u001b[0m\u001b[0m\n\u001b[0;32m----> 3\u001b[0;31m     \u001b[0mja_w2v\u001b[0m\u001b[0;34m.\u001b[0m\u001b[0mget_entity_vector\u001b[0m\u001b[0;34m(\u001b[0m\u001b[0mja\u001b[0m\u001b[0;34m)\u001b[0m\u001b[0;34m\u001b[0m\u001b[0m\n\u001b[0m",
      "\u001b[0;32m~/.raiden/nvcr-tensorflow-1808-py3/lib/python3.5/site-packages/wikipedia2vec/wikipedia2vec.pyx\u001b[0m in \u001b[0;36mwikipedia2vec.wikipedia2vec.Wikipedia2Vec.get_entity_vector\u001b[0;34m()\u001b[0m\n",
      "\u001b[0;32m~/.raiden/nvcr-tensorflow-1808-py3/lib/python3.5/site-packages/wikipedia2vec/wikipedia2vec.pyx\u001b[0m in \u001b[0;36mwikipedia2vec.wikipedia2vec.Wikipedia2Vec.get_entity_vector\u001b[0;34m()\u001b[0m\n",
      "\u001b[0;31mKeyError\u001b[0m: "
     ]
    }
   ],
   "source": [
    "for _, (ja_title, en_title) in pair_vocab_df.iterrows():\n",
    "    try:\n",
    "        ja_emb = np.appendnp.array(ja_w2v.get_entity_vector(ja_title))\n",
    "        en_emb = np.array(en_w2v.get_entity_vector(en_title))\n",
    "    except KeyError:\n",
    "        print(\"Not Found:\", ja_title, en_title)"
   ]
  },
  {
   "cell_type": "code",
   "execution_count": 26,
   "metadata": {},
   "outputs": [
    {
     "data": {
      "text/plain": [
       "array([ 0.93214095,  0.12025976,  0.9506945 ,  1.502345  , -0.19312051,\n",
       "        0.7270361 ,  0.09041572,  0.6668799 ,  0.02290626, -0.895466  ,\n",
       "        0.23616059, -1.0704795 ,  0.5235586 ,  1.1459341 ,  0.19825956,\n",
       "        0.6353384 ,  0.54627705, -0.23773493, -0.91739154,  0.7315423 ,\n",
       "        0.00872647, -0.31046495, -0.5278099 , -0.13723269,  0.80100864,\n",
       "        1.1155548 , -0.16909687,  0.231888  ,  0.07187333,  0.71935153,\n",
       "        1.1250976 , -0.06093416, -0.9626954 ,  0.4283705 , -0.8799618 ,\n",
       "        0.8812408 ,  0.50088084, -0.2799077 , -0.41720426, -0.2324582 ,\n",
       "        0.34632766, -0.84493643,  0.93354523,  0.9202256 ,  2.5955086 ,\n",
       "       -0.6839858 , -0.99658597, -0.1782827 ,  0.77172303, -1.1050323 ,\n",
       "       -0.09033839, -0.65566564, -0.3063916 , -0.08374672, -1.4435039 ,\n",
       "        0.4918195 , -0.4789429 ,  0.02183098, -0.599984  ,  0.29672465,\n",
       "        1.6614431 , -0.3999371 ,  0.19288906,  0.35894924, -0.41227996,\n",
       "       -0.73102957,  0.8454846 ,  0.81959766, -0.8068787 ,  0.5564334 ,\n",
       "       -0.9310311 ,  0.5213982 , -0.30222404, -0.23498516,  1.3746226 ,\n",
       "        2.5231116 ,  0.6197953 , -0.08038646,  0.4771412 ,  0.8236329 ,\n",
       "       -0.65870357, -0.7602082 , -0.26121426, -0.30776176, -0.13963652,\n",
       "        0.23916143,  0.30440983, -0.35897762,  0.11019286, -0.6802505 ,\n",
       "        0.2860586 ,  0.64637315, -1.0700781 , -0.20436734,  0.40362692,\n",
       "        0.3522286 ,  0.5407089 , -0.76303256, -0.14235333,  0.7755113 ],\n",
       "      dtype=float32)"
      ]
     },
     "execution_count": 26,
     "metadata": {},
     "output_type": "execute_result"
    }
   ],
   "source": [
    "np.array(ja_w2v.get_entity_vector('ペクチン'))"
   ]
  },
  {
   "cell_type": "code",
   "execution_count": null,
   "metadata": {},
   "outputs": [],
   "source": []
  }
 ],
 "metadata": {
  "kernelspec": {
   "display_name": "Python 3",
   "language": "python",
   "name": "python3"
  },
  "language_info": {
   "codemirror_mode": {
    "name": "ipython",
    "version": 3
   },
   "file_extension": ".py",
   "mimetype": "text/x-python",
   "name": "python",
   "nbconvert_exporter": "python",
   "pygments_lexer": "ipython3",
   "version": "3.5.2"
  }
 },
 "nbformat": 4,
 "nbformat_minor": 2
}
