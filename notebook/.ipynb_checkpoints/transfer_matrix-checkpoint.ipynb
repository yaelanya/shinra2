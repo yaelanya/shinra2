{
 "cells": [
  {
   "cell_type": "code",
   "execution_count": 9,
   "metadata": {},
   "outputs": [],
   "source": [
    "import numpy as np\n",
    "import pandas as pd\n",
    "from sklearn.linear_model import LinearRegression\n",
    "from wikipedia2vec import Wikipedia2Vec\n",
    "from tqdm import tqdm"
   ]
  },
  {
   "cell_type": "code",
   "execution_count": 2,
   "metadata": {},
   "outputs": [],
   "source": [
    "# load wikipedia2vec model\n",
    "en_w2v = Wikipedia2Vec.load(\"../model/enwiki_20180420_300d.pkl\")\n",
    "ja_w2v = Wikipedia2Vec.load(\"../model/jawiki_20180420_300d.pkl\")"
   ]
  },
  {
   "cell_type": "code",
   "execution_count": 3,
   "metadata": {},
   "outputs": [
    {
     "name": "stdout",
     "output_type": "stream",
     "text": [
      "244517\n"
     ]
    },
    {
     "data": {
      "text/html": [
       "<div>\n",
       "<style scoped>\n",
       "    .dataframe tbody tr th:only-of-type {\n",
       "        vertical-align: middle;\n",
       "    }\n",
       "\n",
       "    .dataframe tbody tr th {\n",
       "        vertical-align: top;\n",
       "    }\n",
       "\n",
       "    .dataframe thead th {\n",
       "        text-align: right;\n",
       "    }\n",
       "</style>\n",
       "<table border=\"1\" class=\"dataframe\">\n",
       "  <thead>\n",
       "    <tr style=\"text-align: right;\">\n",
       "      <th></th>\n",
       "      <th>ja</th>\n",
       "      <th>en</th>\n",
       "    </tr>\n",
       "  </thead>\n",
       "  <tbody>\n",
       "    <tr>\n",
       "      <th>0</th>\n",
       "      <td>ベルギー</td>\n",
       "      <td>Belgium</td>\n",
       "    </tr>\n",
       "    <tr>\n",
       "      <th>1</th>\n",
       "      <td>幸福</td>\n",
       "      <td>Happiness</td>\n",
       "    </tr>\n",
       "    <tr>\n",
       "      <th>2</th>\n",
       "      <td>ジョージ・ワシントン</td>\n",
       "      <td>George Washington</td>\n",
       "    </tr>\n",
       "    <tr>\n",
       "      <th>3</th>\n",
       "      <td>ジャック・バウアー</td>\n",
       "      <td>Jack Bauer</td>\n",
       "    </tr>\n",
       "    <tr>\n",
       "      <th>4</th>\n",
       "      <td>ダグラス・アダムズ</td>\n",
       "      <td>Douglas Adams</td>\n",
       "    </tr>\n",
       "  </tbody>\n",
       "</table>\n",
       "</div>"
      ],
      "text/plain": [
       "           ja                 en\n",
       "0        ベルギー            Belgium\n",
       "1          幸福          Happiness\n",
       "2  ジョージ・ワシントン  George Washington\n",
       "3   ジャック・バウアー         Jack Bauer\n",
       "4   ダグラス・アダムズ      Douglas Adams"
      ]
     },
     "execution_count": 3,
     "metadata": {},
     "output_type": "execute_result"
    }
   ],
   "source": [
    "# load word pair dict\n",
    "pair_df = pd.read_csv(\"../data/title_pair.csv\")\n",
    "print(len(pair_df))\n",
    "pair_df.head()"
   ]
  },
  {
   "cell_type": "code",
   "execution_count": 10,
   "metadata": {},
   "outputs": [
    {
     "name": "stderr",
     "output_type": "stream",
     "text": [
      "\n",
      "0it [00:00, ?it/s]\u001b[A\n",
      "389it [00:00, 3884.87it/s]\u001b[A\n",
      "676it [00:00, 3512.13it/s]\u001b[A\n",
      "909it [00:00, 3044.33it/s]\u001b[A\n",
      "1121it [00:00, 2687.21it/s]\u001b[A\n",
      "1316it [00:00, 2254.81it/s]\u001b[A\n",
      "1502it [00:00, 1907.39it/s]\u001b[A\n",
      "1674it [00:00, 1803.21it/s]\u001b[A\n",
      "1843it [00:00, 1610.87it/s]\u001b[A\n",
      "2000it [00:01, 1432.62it/s]\u001b[A\n",
      "2144it [00:01, 1201.96it/s]\u001b[A\n",
      "2271it [00:01, 987.68it/s] \u001b[A\n",
      "2381it [00:01, 880.77it/s]\u001b[A\n",
      "2479it [00:01, 755.99it/s]\u001b[A\n",
      "2565it [00:01, 639.71it/s]\u001b[A\n",
      "2640it [00:02, 613.71it/s]\u001b[A\n",
      "2709it [00:02, 573.45it/s]\u001b[A\n",
      "2783it [00:02, 613.93it/s]\u001b[A\n",
      "2851it [00:02, 629.55it/s]\u001b[A\n",
      "2918it [00:02, 629.01it/s]\u001b[A\n",
      "2984it [00:02, 632.48it/s]\u001b[A\n",
      "3049it [00:02, 623.36it/s]\u001b[A\n",
      "3118it [00:02, 638.49it/s]\u001b[A\n",
      "3195it [00:02, 670.34it/s]\u001b[A\n",
      "3264it [00:02, 655.28it/s]\u001b[A\n",
      "3331it [00:03, 654.61it/s]\u001b[A\n",
      "3398it [00:03, 587.52it/s]\u001b[A"
     ]
    },
    {
     "ename": "KeyboardInterrupt",
     "evalue": "",
     "output_type": "error",
     "traceback": [
      "\u001b[0;31m---------------------------------------------------------------------------\u001b[0m",
      "\u001b[0;31mKeyboardInterrupt\u001b[0m                         Traceback (most recent call last)",
      "\u001b[0;32m<ipython-input-10-2a8b8612515c>\u001b[0m in \u001b[0;36m<module>\u001b[0;34m\u001b[0m\n\u001b[1;32m     11\u001b[0m         \u001b[0mja_emb\u001b[0m \u001b[0;34m=\u001b[0m \u001b[0mja_w2v\u001b[0m\u001b[0;34m.\u001b[0m\u001b[0mget_entity_vector\u001b[0m\u001b[0;34m(\u001b[0m\u001b[0mja_word\u001b[0m\u001b[0;34m)\u001b[0m\u001b[0;34m\u001b[0m\u001b[0m\n\u001b[1;32m     12\u001b[0m \u001b[0;34m\u001b[0m\u001b[0m\n\u001b[0;32m---> 13\u001b[0;31m         \u001b[0mtmp_en_emb_list\u001b[0m \u001b[0;34m=\u001b[0m \u001b[0mnp\u001b[0m\u001b[0;34m.\u001b[0m\u001b[0mconcatenate\u001b[0m\u001b[0;34m(\u001b[0m\u001b[0;34m[\u001b[0m\u001b[0mtmp_en_emb_list\u001b[0m\u001b[0;34m,\u001b[0m \u001b[0;34m[\u001b[0m\u001b[0men_emb\u001b[0m\u001b[0;34m]\u001b[0m\u001b[0;34m]\u001b[0m\u001b[0;34m,\u001b[0m \u001b[0maxis\u001b[0m\u001b[0;34m=\u001b[0m\u001b[0;36m0\u001b[0m\u001b[0;34m)\u001b[0m\u001b[0;34m\u001b[0m\u001b[0m\n\u001b[0m\u001b[1;32m     14\u001b[0m         \u001b[0mtmp_ja_emb_list\u001b[0m \u001b[0;34m=\u001b[0m \u001b[0mnp\u001b[0m\u001b[0;34m.\u001b[0m\u001b[0mconcatenate\u001b[0m\u001b[0;34m(\u001b[0m\u001b[0;34m[\u001b[0m\u001b[0mtmp_ja_emb_list\u001b[0m\u001b[0;34m,\u001b[0m \u001b[0;34m[\u001b[0m\u001b[0mja_emb\u001b[0m\u001b[0;34m]\u001b[0m\u001b[0;34m]\u001b[0m\u001b[0;34m,\u001b[0m \u001b[0maxis\u001b[0m\u001b[0;34m=\u001b[0m\u001b[0;36m0\u001b[0m\u001b[0;34m)\u001b[0m\u001b[0;34m\u001b[0m\u001b[0m\n\u001b[1;32m     15\u001b[0m     \u001b[0;32mexcept\u001b[0m \u001b[0mKeyError\u001b[0m\u001b[0;34m:\u001b[0m\u001b[0;34m\u001b[0m\u001b[0m\n",
      "\u001b[0;31mKeyboardInterrupt\u001b[0m: "
     ]
    }
   ],
   "source": [
    "# transfer word to vector\n",
    "\n",
    "en_emb_list = np.empty((0, 300))\n",
    "ja_emb_list = np.empty((0, 300))\n",
    "tmp_en_emb_list = np.empty((0, 300))\n",
    "tmp_ja_emb_list = np.empty((0, 300))\n",
    "\n",
    "for i, (ja_word, en_word) in tqdm.tqdm(pair_df.iterrows()):\n",
    "    try:\n",
    "        en_emb = en_w2v.get_entity_vector(en_word)\n",
    "        ja_emb = ja_w2v.get_entity_vector(ja_word)\n",
    "        \n",
    "        tmp_en_emb_list = np.concatenate([tmp_en_emb_list, [en_emb]], axis=0)\n",
    "        tmp_ja_emb_list = np.concatenate([tmp_ja_emb_list, [ja_emb]], axis=0)\n",
    "    except KeyError:\n",
    "        pass\n",
    "    \n",
    "    if i % 5000 is 0:\n",
    "        en_emb_list = np.concatenate([en_emb_list, tmp_en_emb_list], axis=0)\n",
    "        ja_emb_list = np.concatenate([ja_emb_list, tmp_ja_emb_list], axis=0)\n",
    "        tmp_en_emb_list = np.empty((0, 300))\n",
    "        tmp_ja_emb_list = np.empty((0, 300))"
   ]
  },
  {
   "cell_type": "code",
   "execution_count": 44,
   "metadata": {},
   "outputs": [
    {
     "data": {
      "text/plain": [
       "array([ 0.04199366, -0.60735202, -0.36353555,  0.55984443, -0.92610371,\n",
       "       -0.10738079,  0.44493377,  0.3870979 ,  0.21835753, -0.44637027,\n",
       "        0.2812449 ,  0.28480837, -0.31673071,  0.46639094,  0.31210932,\n",
       "        0.08475059, -0.78310657, -0.04274072, -0.70363504, -0.17509326,\n",
       "       -0.26412761,  0.10655801, -0.23898382, -0.52869177, -0.33934885,\n",
       "       -0.8641175 , -0.89067405, -0.08751788, -0.38996187, -0.00936786,\n",
       "       -0.6905877 , -0.5043236 ,  0.11451458, -0.16271381, -0.51021987,\n",
       "        0.1227823 ,  0.08466765,  0.0481359 , -0.24872038, -0.12288736,\n",
       "        0.49604076,  0.17922913, -0.20951915, -0.10902337, -1.63814545,\n",
       "       -0.32620218, -0.40836349,  0.21626809, -0.05882427,  0.25855434,\n",
       "        0.20233738,  0.18874514, -0.21631315,  0.55183357,  0.51564914,\n",
       "        0.02362371,  0.62603164,  0.03196934, -0.45830867, -0.14025842,\n",
       "       -0.25002351, -0.02315799, -0.53689247, -0.96613908,  0.16132088,\n",
       "       -0.1089105 , -0.6492762 , -1.18328333,  0.09193588,  0.00498127,\n",
       "       -0.18798679,  0.25274834,  0.4117206 ,  0.85803771,  0.3519159 ,\n",
       "        0.00515158,  0.13692585, -0.25702205, -0.35726833,  0.17479974,\n",
       "       -0.21961658,  0.44552955, -0.48817292, -0.63300383, -0.43112603,\n",
       "       -0.52224708, -0.06104119,  0.33039391,  0.27542368,  0.17284019,\n",
       "        0.41086358,  0.10786461, -0.78011298, -0.60535884, -0.67432708,\n",
       "        0.14141573,  0.47940692, -0.00761933, -0.53023398,  0.50129867,\n",
       "       -0.2302379 ,  0.36305815,  0.77677834,  0.24520266,  0.31494185,\n",
       "        0.07984843, -0.50878847, -0.34135792, -0.50092262,  0.78838825,\n",
       "        0.90628886,  0.55243134,  0.97317624, -1.00409138,  0.15126899,\n",
       "        0.04437219, -0.52219319, -0.28874457, -0.23612544,  0.34621298,\n",
       "        0.21586996,  0.07359841,  0.30259791,  0.42827776, -0.51010209,\n",
       "        0.09996955, -0.31175405, -0.30525276, -0.16724598,  0.12367924,\n",
       "       -0.03659534,  0.55034864, -0.28989133, -0.0237959 , -0.07550348,\n",
       "       -0.19434761,  0.13200888, -0.58361483,  0.32722151,  0.39227191,\n",
       "        0.26139188, -0.17644066, -0.44568837, -0.61488795, -0.22283666,\n",
       "       -0.18118544,  0.19059262,  0.37586674,  0.8155939 , -0.59305412,\n",
       "       -0.53793824, -0.04983976, -0.66209161,  0.18089493, -0.17851639,\n",
       "       -0.41764799,  0.33623499,  0.22493505,  0.15301085, -0.49198139,\n",
       "        0.37919167, -0.45809051,  0.63935471, -0.11000905, -0.6294536 ,\n",
       "       -1.09665823,  0.63595891,  0.30811551,  0.25973022,  0.26330817,\n",
       "        0.30463693,  0.44771805,  0.1110317 , -0.24898618, -0.40252578,\n",
       "       -0.52558047,  0.49743769,  0.21030572, -0.39917892, -0.89471126,\n",
       "       -0.45961797,  0.26435798, -0.4576717 ,  0.15056418,  0.58368337,\n",
       "        0.09460666,  0.11794811, -0.18729876,  0.22663641, -0.48736334,\n",
       "       -0.32749504,  0.60281712,  0.23301107, -0.39755818, -0.49547499,\n",
       "        0.11866616,  0.84617561, -0.28307891, -0.05506767, -0.14312932,\n",
       "        0.26730293,  0.07880635,  0.16231787, -0.41538176, -0.06717472,\n",
       "        0.52192569,  0.43306071, -0.37955442, -0.18558896, -0.68559891,\n",
       "       -0.33583301, -0.18007822,  0.37156004,  0.73038739,  0.02282726,\n",
       "       -0.03231923,  0.39391938, -0.66560858, -0.35611585, -0.1542325 ,\n",
       "       -0.09936087,  0.11565015, -0.2772114 ,  0.38578367, -0.5963096 ,\n",
       "        0.57517797,  0.52576637, -0.33610529, -0.31689787, -0.03536621,\n",
       "       -0.19260892, -0.09318467, -0.06732398,  0.54043299, -0.0098845 ,\n",
       "       -0.77593011,  0.40780166, -0.11482235, -0.81879038, -0.48510456,\n",
       "        0.10386846, -0.09085653,  0.15798037,  0.5004223 ,  0.3615073 ,\n",
       "       -0.29150599,  0.18076804, -0.20340174,  0.27032167,  0.38467032,\n",
       "       -0.03559667, -0.02097869, -0.35394633, -0.51314813,  0.33221442,\n",
       "        0.03279869, -0.10263713, -0.23776412, -0.56516927, -0.12042718,\n",
       "       -0.26741448, -0.24301259, -0.48397255, -0.13346447,  0.6031757 ,\n",
       "       -0.71804243,  0.5398379 ,  0.37964314,  0.18231127,  0.39621675,\n",
       "       -1.0631721 , -0.17516141,  0.64288586,  0.486323  , -0.0443911 ,\n",
       "       -0.00973128, -0.25246778, -0.24599667,  0.40199563, -0.00649513,\n",
       "        0.42969263, -0.73686051, -0.05642101, -0.30628163,  0.10820348,\n",
       "        0.32098573,  0.21551937,  0.12482178,  0.13714644, -0.36582908,\n",
       "        0.57023919,  0.1255839 ,  0.08026342, -0.11674596, -0.30264351,\n",
       "        0.95284009, -0.66379958, -0.10389286, -0.01821006,  0.70599711])"
      ]
     },
     "execution_count": 44,
     "metadata": {},
     "output_type": "execute_result"
    }
   ],
   "source": [
    "en_emb_list[:10][0]"
   ]
  },
  {
   "cell_type": "code",
   "execution_count": null,
   "metadata": {},
   "outputs": [],
   "source": [
    "# fit transfer matrix\n",
    "model = LinearRegression()\n",
    "model.fit(X=en_emb_list, y=ja_emb_list)"
   ]
  },
  {
   "cell_type": "code",
   "execution_count": 37,
   "metadata": {},
   "outputs": [
    {
     "data": {
      "text/plain": [
       "[(<Entity オキソリン酸>, 0.7555915449362515),\n",
       " (<Entity ノルフロキサシン>, 0.7436902074687589),\n",
       " (<Entity ピルビン酸デヒドロゲナーゼ (アセチル基転移)>, 0.7303942425794281),\n",
       " (<Entity 加水分解コムギ>, 0.7293561607706759),\n",
       " (<Entity 歯科用ヨード・グリセリン>, 0.7277512937548961),\n",
       " (<Entity プロテウス菌>, 0.7273846029213599),\n",
       " (<Entity プロベナゾール>, 0.7269191762401745),\n",
       " (<Entity ペンタクロロフェノール>, 0.7268611448069725),\n",
       " (<Entity ペンタクロロベンゼン>, 0.7260605008378938),\n",
       " (<Entity ジベカシン>, 0.7238942176608539)]"
      ]
     },
     "execution_count": 37,
     "metadata": {},
     "output_type": "execute_result"
    }
   ],
   "source": [
    "# Test\n",
    "# input English word\n",
    "input_word = \"Miss. Kobayashi's Dragon Maid\"\n",
    "input_vec = en_w2v.get_entity_vector(input_word)\n",
    "output_vec = model.predict([input_vec])[0]\n",
    "ja_w2v.most_similar_by_vector(output_vec)[:10]"
   ]
  },
  {
   "cell_type": "code",
   "execution_count": null,
   "metadata": {},
   "outputs": [],
   "source": []
  }
 ],
 "metadata": {
  "kernelspec": {
   "display_name": "Python 3",
   "language": "python",
   "name": "python3"
  },
  "language_info": {
   "codemirror_mode": {
    "name": "ipython",
    "version": 3
   },
   "file_extension": ".py",
   "mimetype": "text/x-python",
   "name": "python",
   "nbconvert_exporter": "python",
   "pygments_lexer": "ipython3",
   "version": "3.5.2"
  }
 },
 "nbformat": 4,
 "nbformat_minor": 2
}
