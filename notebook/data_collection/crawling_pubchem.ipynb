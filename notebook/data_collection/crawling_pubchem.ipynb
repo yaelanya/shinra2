{
 "cells": [
  {
   "cell_type": "code",
   "execution_count": 1,
   "metadata": {},
   "outputs": [],
   "source": [
    "import sys\n",
    "sys.path.append('../util/')"
   ]
  },
  {
   "cell_type": "code",
   "execution_count": 2,
   "metadata": {},
   "outputs": [],
   "source": [
    "import pandas as pd\n",
    "import requests\n",
    "import json\n",
    "import time\n",
    "from tqdm import tqdm\n",
    "\n",
    "import pubchem_util as pil"
   ]
  },
  {
   "cell_type": "code",
   "execution_count": 3,
   "metadata": {},
   "outputs": [],
   "source": [
    "flatten = lambda item: [i for sub in item for i in sub]"
   ]
  },
  {
   "cell_type": "code",
   "execution_count": 3,
   "metadata": {},
   "outputs": [],
   "source": [
    "with open(\"../../data/cas_number.json\") as f:\n",
    "    cas_json = json.load(f)"
   ]
  },
  {
   "cell_type": "code",
   "execution_count": 4,
   "metadata": {},
   "outputs": [],
   "source": [
    "CAS_list = flatten([cas for cas in cas_json.values() if cas])"
   ]
  },
  {
   "cell_type": "code",
   "execution_count": 5,
   "metadata": {},
   "outputs": [
    {
     "name": "stdout",
     "output_type": "stream",
     "text": [
      "化合物全記事数: 5820\n",
      "CAS番号が存在するWikipedia記事数: 4780\n",
      "CAS番号の数: 5342\n"
     ]
    }
   ],
   "source": [
    "print(\"化合物全記事数:\", len(cas_json))\n",
    "print(\"CAS番号が存在するWikipedia記事数:\", len([cas for cas in cas_json.values() if cas]))\n",
    "print(\"CAS番号の数:\", len(CAS_list))"
   ]
  },
  {
   "cell_type": "code",
   "execution_count": 6,
   "metadata": {},
   "outputs": [
    {
     "name": "stderr",
     "output_type": "stream",
     "text": [
      "100%|██████████| 5342/5342 [1:15:53<00:00,  1.17it/s]\n"
     ]
    }
   ],
   "source": [
    "CAS_CID_dict = {}\n",
    "for CAS in tqdm(CAS_list):\n",
    "    i = 0\n",
    "    while True:\n",
    "        if i > 5: break\n",
    "        try:\n",
    "            i += 1\n",
    "            resp = requests.get(f'https://pubchem.ncbi.nlm.nih.gov/rest/pug/compound/name/{CAS}/cids/JSON')\n",
    "            break\n",
    "        except requests.HTTPError as e:\n",
    "            print(\"HTTP error.\")\n",
    "            break\n",
    "        except requests.ConnectionError as e:\n",
    "            print(\"Connection error.\")\n",
    "            break\n",
    "        except requests.ConnectTimeout as t:\n",
    "            print(\"Connection timeout.\\nRetry...\")\n",
    "            time.sleep(10)\n",
    "            continue\n",
    "    \n",
    "    if resp is None or resp.status_code == 404:\n",
    "        continue\n",
    "    \n",
    "    resp_json = resp.json() \n",
    "    if resp_json.get('IdentifierList').get('CID'):\n",
    "        CAS_CID_dict[CAS] = resp_json['IdentifierList']['CID']"
   ]
  },
  {
   "cell_type": "code",
   "execution_count": 7,
   "metadata": {},
   "outputs": [
    {
     "name": "stdout",
     "output_type": "stream",
     "text": [
      "CIDと対応しているCAS番号の数: 4843\n",
      "CID数: 6726\n"
     ]
    }
   ],
   "source": [
    "print(\"CIDと対応しているCAS番号の数:\", len(CAS_CID_dict))\n",
    "print(\"CID数:\", len(flatten(CAS_CID_dict.values())))"
   ]
  },
  {
   "cell_type": "code",
   "execution_count": null,
   "metadata": {},
   "outputs": [],
   "source": [
    "compound_articles = {}\n",
    "for CAS, CIDs in tqdm(CAS_CID_dict.items()):\n",
    "    articles = []\n",
    "    for CID in CIDs:\n",
    "        i = 0\n",
    "        while True:\n",
    "            if i > 5: break\n",
    "            try:\n",
    "                i += 1\n",
    "                resp = requests.get(f'https://pubchem.ncbi.nlm.nih.gov/rest/pug_view/data/compound/{CID}/JSON')\n",
    "                time.sleep(0.3)\n",
    "                break\n",
    "            except requests.HTTPError as e:\n",
    "                print(\"HTTP error.\")\n",
    "                break\n",
    "            except requests.ConnectionError as e:\n",
    "                print(\"Connection error.\")\n",
    "                break\n",
    "            except requests.ConnectTimeout as t:\n",
    "                print(\"Connection timeout.\\nRetry...\")\n",
    "                time.sleep(10)\n",
    "                continue\n",
    "\n",
    "        if resp is None or resp.status_code == 404:\n",
    "            continue\n",
    "\n",
    "        articles.append(resp.json())\n",
    "    \n",
    "    compound_articles[CAS] = articles"
   ]
  },
  {
   "cell_type": "code",
   "execution_count": 11,
   "metadata": {},
   "outputs": [],
   "source": [
    "with open(\"../data/pubchem_articles.json\", 'w') as f:\n",
    "    json.dump(compound_articles, f)"
   ]
  },
  {
   "cell_type": "code",
   "execution_count": null,
   "metadata": {},
   "outputs": [],
   "source": []
  }
 ],
 "metadata": {
  "kernelspec": {
   "display_name": "Python 3",
   "language": "python",
   "name": "python3"
  },
  "language_info": {
   "codemirror_mode": {
    "name": "ipython",
    "version": 3
   },
   "file_extension": ".py",
   "mimetype": "text/x-python",
   "name": "python",
   "nbconvert_exporter": "python",
   "pygments_lexer": "ipython3",
   "version": "3.6.1"
  }
 },
 "nbformat": 4,
 "nbformat_minor": 2
}
