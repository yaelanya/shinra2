{
 "cells": [
  {
   "cell_type": "code",
   "execution_count": 29,
   "metadata": {},
   "outputs": [],
   "source": [
    "import pandas as pd\n",
    "import json\n",
    "from tqdm import tqdm\n",
    "import time\n",
    "import requests\n",
    "\n",
    "import shinra_util as util"
   ]
  },
  {
   "cell_type": "code",
   "execution_count": 25,
   "metadata": {},
   "outputs": [],
   "source": [
    "entry_json = util.read_jasonl(\"../data/jawiki-cirrussearch-dump_of_Compound.jsonl\")\n",
    "\n",
    "wikidata_ids = {entry['index']['_id']: entry['wikibase_item'] for entry in entry_json if entry.get('wikibase_item')}\n",
    "\n",
    "with open(\"../data/pageID2wikidataID.json\", 'w') as f:\n",
    "    json.dump(wikidata_ids, f)"
   ]
  },
  {
   "cell_type": "code",
   "execution_count": 26,
   "metadata": {},
   "outputs": [
    {
     "data": {
      "text/plain": [
       "5456"
      ]
     },
     "execution_count": 26,
     "metadata": {},
     "output_type": "execute_result"
    }
   ],
   "source": [
    "len(wikidata_ids)"
   ]
  },
  {
   "cell_type": "code",
   "execution_count": 32,
   "metadata": {},
   "outputs": [
    {
     "name": "stderr",
     "output_type": "stream",
     "text": [
      "100%|██████████| 5456/5456 [1:03:28<00:00,  1.43it/s]\n"
     ]
    }
   ],
   "source": [
    "with open(\"../data/compound_wikidata.jsonl\", 'a') as f:\n",
    "    for page_id, wd_id in tqdm(wikidata_ids.items()):\n",
    "        i = 0\n",
    "        while True:\n",
    "            if i > 5: break\n",
    "            try:\n",
    "                i += 1\n",
    "                resp = requests.get(f'https://www.wikidata.org/wiki/Special:EntityData/{wd_id}.json')\n",
    "                break\n",
    "            except requests.HTTPError as e:\n",
    "                print(\"HTTP error.\")\n",
    "                break\n",
    "            except requests.ConnectionError as e:\n",
    "                print(\"Connection error.\")\n",
    "                break\n",
    "            except requests.ConnectTimeout as t:\n",
    "                print(\"Connection timeout.\\nRetry...\")\n",
    "                time.sleep(10)\n",
    "                continue\n",
    "\n",
    "        if resp is None or resp.status_code == 404:\n",
    "            continue\n",
    "\n",
    "        page_data = resp.json()\n",
    "        json.dump(page_data, f)\n",
    "        f.write('\\n')"
   ]
  },
  {
   "cell_type": "code",
   "execution_count": null,
   "metadata": {},
   "outputs": [],
   "source": []
  }
 ],
 "metadata": {
  "kernelspec": {
   "display_name": "Python 3",
   "language": "python",
   "name": "python3"
  },
  "language_info": {
   "codemirror_mode": {
    "name": "ipython",
    "version": 3
   },
   "file_extension": ".py",
   "mimetype": "text/x-python",
   "name": "python",
   "nbconvert_exporter": "python",
   "pygments_lexer": "ipython3",
   "version": "3.5.2"
  }
 },
 "nbformat": 4,
 "nbformat_minor": 2
}
