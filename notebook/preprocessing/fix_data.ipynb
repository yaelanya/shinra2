{
 "cells": [
  {
   "cell_type": "code",
   "execution_count": 1,
   "metadata": {},
   "outputs": [],
   "source": [
    "import pandas as pd\n",
    "import json\n",
    "import re"
   ]
  },
  {
   "cell_type": "code",
   "execution_count": 2,
   "metadata": {},
   "outputs": [],
   "source": [
    "with open(\"../../data/compound_train.json\", 'r', encoding='utf-8') as f:\n",
    "    raw_train = json.load(f)"
   ]
  },
  {
   "cell_type": "code",
   "execution_count": 60,
   "metadata": {},
   "outputs": [],
   "source": [
    "flatten = lambda x: [j for i in x for j in i if i]\n",
    "\n",
    "def split_sentence(doc):\n",
    "    if re.search(r'。', doc):\n",
    "        return re.findall(r'.*?。', doc)\n",
    "    \n",
    "    return [doc]\n",
    "\n",
    "def get_annotation_dict(annotation_data, attribute):\n",
    "    if annotation_data.get('entry'):\n",
    "        annotation_data = annotation_data.get('entry')\n",
    "        \n",
    "    return {str(annotation['WikipediaID']): annotation['Attributes'][attribute] for annotation in annotation_data}\n",
    "\n",
    "def re_isin(patterns):\n",
    "    escaped_patt = [re.escape(pattern) for pattern in patterns]\n",
    "    return r'|'.join(escaped_patt)\n",
    "\n",
    "def labeling(sentence_df, annotation_data, attribute):\n",
    "    annotation_dict = get_annotation_dict(annotation_data, attribute)\n",
    "    \n",
    "    labeled_df = pd.DataFrame()\n",
    "    for _id, entry in sentence_df.groupby('_id'):\n",
    "        annotations = annotation_dict.get(str(_id))\n",
    "        \n",
    "        if not annotations:\n",
    "            entry['label'] = [False] * len(entry)\n",
    "            labeled_df = labeled_df.append(entry)\n",
    "            continue\n",
    "        \n",
    "        annotations = flatten([split_sentence(s) for s in annotations])\n",
    "        \n",
    "        entry['label'] = entry.sentence.str.contains(re_isin(annotations))\n",
    "        labeled_df = labeled_df.append(entry)\n",
    "        \n",
    "    return labeled_df.reset_index(drop=True)     "
   ]
  },
  {
   "cell_type": "code",
   "execution_count": 63,
   "metadata": {},
   "outputs": [],
   "source": [
    "train_df = pd.read_csv(\"../../data/train.csv\")\n",
    "valid_df = pd.read_csv(\"../../data/valid.csv\")\n",
    "\n",
    "train_split_df = pd.read_csv(\"../../data/train_split_words.csv\")\n",
    "valid_split_df = pd.read_csv(\"../../data/valid_split_words.csv\")"
   ]
  },
  {
   "cell_type": "code",
   "execution_count": 73,
   "metadata": {},
   "outputs": [
    {
     "name": "stderr",
     "output_type": "stream",
     "text": [
      "/home/hentona/.raiden/nvcr-tensorflow-1808-py3/lib/python3.5/site-packages/ipykernel_launcher.py:33: SettingWithCopyWarning: \n",
      "A value is trying to be set on a copy of a slice from a DataFrame.\n",
      "Try using .loc[row_indexer,col_indexer] = value instead\n",
      "\n",
      "See the caveats in the documentation: http://pandas.pydata.org/pandas-docs/stable/indexing.html#indexing-view-versus-copy\n",
      "/home/hentona/.raiden/nvcr-tensorflow-1808-py3/lib/python3.5/site-packages/ipykernel_launcher.py:27: SettingWithCopyWarning: \n",
      "A value is trying to be set on a copy of a slice from a DataFrame.\n",
      "Try using .loc[row_indexer,col_indexer] = value instead\n",
      "\n",
      "See the caveats in the documentation: http://pandas.pydata.org/pandas-docs/stable/indexing.html#indexing-view-versus-copy\n"
     ]
    }
   ],
   "source": [
    "production_train_df = labeling(train_split_df, raw_train, '製造方法')\n",
    "production_valid_df = labeling(valid_split_df, raw_train, '製造方法')"
   ]
  },
  {
   "cell_type": "code",
   "execution_count": 74,
   "metadata": {},
   "outputs": [
    {
     "name": "stdout",
     "output_type": "stream",
     "text": [
      "Train 7435\n",
      "True: 502\n",
      "False: 6933\n",
      "Valid 1564\n",
      "True: 86\n",
      "False: 1478\n"
     ]
    }
   ],
   "source": [
    "print(\"Train\", len(production_train_df))\n",
    "print(\"True:\", len(production_train_df.loc[production_train_df.label == True]))\n",
    "print(\"False:\", len(production_train_df.loc[production_train_df.label == False]))\n",
    "\n",
    "print(\"Valid\", len(production_valid_df))\n",
    "print(\"True:\", len(production_valid_df.loc[production_valid_df.label == True]))\n",
    "print(\"False:\", len(production_valid_df.loc[production_valid_df.label == False]))"
   ]
  },
  {
   "cell_type": "code",
   "execution_count": 79,
   "metadata": {},
   "outputs": [],
   "source": [
    "production_train_df.to_csv(\"../../data/Production_train_split_words.csv\", index=False)\n",
    "production_valid_df.to_csv(\"../../data/Production_valid_split_words.csv\", index=False)"
   ]
  },
  {
   "cell_type": "code",
   "execution_count": null,
   "metadata": {},
   "outputs": [],
   "source": []
  }
 ],
 "metadata": {
  "kernelspec": {
   "display_name": "Python 3",
   "language": "python",
   "name": "python3"
  },
  "language_info": {
   "codemirror_mode": {
    "name": "ipython",
    "version": 3
   },
   "file_extension": ".py",
   "mimetype": "text/x-python",
   "name": "python",
   "nbconvert_exporter": "python",
   "pygments_lexer": "ipython3",
   "version": "3.5.2"
  }
 },
 "nbformat": 4,
 "nbformat_minor": 2
}
