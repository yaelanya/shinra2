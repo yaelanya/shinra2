{
 "cells": [
  {
   "cell_type": "code",
   "execution_count": 76,
   "metadata": {},
   "outputs": [],
   "source": [
    "import pandas as pd\n",
    "import re\n",
    "from collections import Counter"
   ]
  },
  {
   "cell_type": "code",
   "execution_count": 111,
   "metadata": {},
   "outputs": [],
   "source": [
    "train_df = pd.read_pickle(\"../../data/train_IOB_repl_compound.pkl\")\n",
    "test_df = pd.read_pickle(\"../../data/test_IOB_repl_compound.pkl\")"
   ]
  },
  {
   "cell_type": "code",
   "execution_count": 72,
   "metadata": {},
   "outputs": [],
   "source": [
    "def freq_headlines(df, n=None, _min=None):\n",
    "    h_list = []\n",
    "    for i, h in df.loc[:, 'h2':'h6'].iteritems():\n",
    "        h_list += h.tolist()\n",
    "\n",
    "    h_count = Counter(h_list)\n",
    "    \n",
    "    if n:\n",
    "        return [h for h, _ in h_count.most_common(n + 1)]\n",
    "    elif _min:\n",
    "        return [h for h, count in h_count.most_common() if count >= _min]\n",
    "\n",
    "def assign_cat_headline(df, headlines, col):\n",
    "    '''\n",
    "    Other headline         = 0\n",
    "    Contains freq headline = 1\n",
    "    No headline            = 2\n",
    "    '''\n",
    "    df[col] = 0\n",
    "\n",
    "    df.loc[\n",
    "        df.loc[:, 'h2':'h6'].fillna('NO_TITLE').apply(\n",
    "            lambda x: x.str.contains('|'.join([re.escape(h) for h in headlines]))\n",
    "        ).sum(1) > 0\n",
    "        , col\n",
    "    ] = 1\n",
    "\n",
    "    df.loc[\n",
    "        df.loc[:, 'h2':'h6'].isna().all(1)\n",
    "        , col\n",
    "    ] = 2\n",
    "    \n",
    "    return df"
   ]
  },
  {
   "cell_type": "code",
   "execution_count": 115,
   "metadata": {},
   "outputs": [],
   "source": [
    "production_headlines = freq_headlines(train_df.loc[train_df.production_tag_seq.apply(lambda x: 'B' in x)], n=10)\n",
    "\n",
    "train_df = assign_cat_headline(train_df, headlines=production_headlines, col='cat_production_headline')\n",
    "test_df = assign_cat_headline(test_df, headlines=production_headlines, col='cat_production_headline')"
   ]
  },
  {
   "cell_type": "code",
   "execution_count": 116,
   "metadata": {},
   "outputs": [],
   "source": [
    "raw_material_headlines = freq_headlines(train_df.loc[train_df.raw_material_tag_seq.apply(lambda x: 'B' in x)], n=10)\n",
    "\n",
    "train_df = assign_cat_headline(train_df, headlines=raw_material_headlines, col='cat_raw_material_headline')\n",
    "test_df = assign_cat_headline(test_df, headlines=raw_material_headlines, col='cat_raw_material_headline')"
   ]
  },
  {
   "cell_type": "code",
   "execution_count": 118,
   "metadata": {},
   "outputs": [],
   "source": [
    "train_df.to_pickle(\"../../data/train_IOB_repl_compound.pkl\")\n",
    "test_df.to_pickle(\"../../data/test_IOB_repl_compound.pkl\")"
   ]
  },
  {
   "cell_type": "code",
   "execution_count": null,
   "metadata": {},
   "outputs": [],
   "source": []
  }
 ],
 "metadata": {
  "kernelspec": {
   "display_name": "Python 3",
   "language": "python",
   "name": "python3"
  },
  "language_info": {
   "codemirror_mode": {
    "name": "ipython",
    "version": 3
   },
   "file_extension": ".py",
   "mimetype": "text/x-python",
   "name": "python",
   "nbconvert_exporter": "python",
   "pygments_lexer": "ipython3",
   "version": "3.6.1"
  }
 },
 "nbformat": 4,
 "nbformat_minor": 2
}
