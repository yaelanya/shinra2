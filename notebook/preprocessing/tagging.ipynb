{
 "cells": [
  {
   "cell_type": "code",
   "execution_count": 128,
   "metadata": {},
   "outputs": [],
   "source": [
    "import numpy as np\n",
    "import pandas as pd\n",
    "import MeCab\n",
    "import json\n",
    "import re"
   ]
  },
  {
   "cell_type": "code",
   "execution_count": 10,
   "metadata": {},
   "outputs": [],
   "source": [
    "flatten = lambda l: [i for sub_l in l for i in sub_l]\n",
    "\n",
    "m_parser = MeCab.Tagger(\"-u /Users/dontsentouin/mecab-user-dic/compound.dic -Owakati\")\n",
    "def parse(s):\n",
    "    words = []\n",
    "    node = m_parser.parseToNode(s)\n",
    "    while node:\n",
    "        if len(node.surface) is 0:\n",
    "            node = node.next\n",
    "            continue\n",
    "\n",
    "        words.append(node.surface)\n",
    "        node = node.next\n",
    "    \n",
    "    return words"
   ]
  },
  {
   "cell_type": "code",
   "execution_count": 7,
   "metadata": {},
   "outputs": [],
   "source": [
    "with open(\"../../data/compound_train.json\", 'r') as f:\n",
    "    raw_train = json.load(f)"
   ]
  },
  {
   "cell_type": "code",
   "execution_count": 161,
   "metadata": {},
   "outputs": [
    {
     "data": {
      "text/html": [
       "<div>\n",
       "<style scoped>\n",
       "    .dataframe tbody tr th:only-of-type {\n",
       "        vertical-align: middle;\n",
       "    }\n",
       "\n",
       "    .dataframe tbody tr th {\n",
       "        vertical-align: top;\n",
       "    }\n",
       "\n",
       "    .dataframe thead th {\n",
       "        text-align: right;\n",
       "    }\n",
       "</style>\n",
       "<table border=\"1\" class=\"dataframe\">\n",
       "  <thead>\n",
       "    <tr style=\"text-align: right;\">\n",
       "      <th></th>\n",
       "      <th>_id</th>\n",
       "      <th>label</th>\n",
       "      <th>sentence</th>\n",
       "      <th>title</th>\n",
       "      <th>words</th>\n",
       "      <th>repl_words</th>\n",
       "    </tr>\n",
       "  </thead>\n",
       "  <tbody>\n",
       "    <tr>\n",
       "      <th>0</th>\n",
       "      <td>10166</td>\n",
       "      <td>False</td>\n",
       "      <td>アンモニア (英: ammonia) は分子式が NH 3 で表される無機化合物。</td>\n",
       "      <td>アンモニア</td>\n",
       "      <td>[アンモニア, (, 英, :, ammonia, ), は, 分子, 式, が, NH, ...</td>\n",
       "      <td>[[title-compound], (, 英, :, [title-compound], ...</td>\n",
       "    </tr>\n",
       "    <tr>\n",
       "      <th>1</th>\n",
       "      <td>10166</td>\n",
       "      <td>False</td>\n",
       "      <td>常温常圧では無色の気体で、特有の強い刺激臭を持つ。</td>\n",
       "      <td>アンモニア</td>\n",
       "      <td>[常温, 常, 圧, で, は, 無色, の, 気体, で, 、, 特有, の, 強い, 刺...</td>\n",
       "      <td>[常温, 常, 圧, で, は, 無色, の, 気体, で, 、, 特有, の, 強い, 刺...</td>\n",
       "    </tr>\n",
       "    <tr>\n",
       "      <th>2</th>\n",
       "      <td>10166</td>\n",
       "      <td>False</td>\n",
       "      <td>水に良く溶けるため、水溶液（アンモニア水）として使用されることも多く、化学工業では基礎的な窒...</td>\n",
       "      <td>アンモニア</td>\n",
       "      <td>[水, に, 良く, 溶ける, ため, 、, 水溶液, （, アンモニア水, ）, として,...</td>\n",
       "      <td>[水, に, 良く, 溶ける, ため, 、, 水溶液, （, [compound], ）, ...</td>\n",
       "    </tr>\n",
       "    <tr>\n",
       "      <th>3</th>\n",
       "      <td>10166</td>\n",
       "      <td>False</td>\n",
       "      <td>塩基の程度は水酸化ナトリウムより弱い。</td>\n",
       "      <td>アンモニア</td>\n",
       "      <td>[塩基, の, 程度, は, 水酸化ナトリウム, より, 弱い, 。]</td>\n",
       "      <td>[塩基, の, 程度, は, [compound], より, 弱い, 。]</td>\n",
       "    </tr>\n",
       "    <tr>\n",
       "      <th>4</th>\n",
       "      <td>10166</td>\n",
       "      <td>False</td>\n",
       "      <td>窒素原子上の孤立電子対のはたらきにより、金属錯体の配位子となり、その場合はアンミンと呼ばれる。</td>\n",
       "      <td>アンモニア</td>\n",
       "      <td>[窒素, 原子, 上, の, 孤立, 電子, 対, の, はたらき, により, 、, 金属,...</td>\n",
       "      <td>[窒素, 原子, 上, の, 孤立, 電子, 対, の, はたらき, により, 、, 金属,...</td>\n",
       "    </tr>\n",
       "  </tbody>\n",
       "</table>\n",
       "</div>"
      ],
      "text/plain": [
       "     _id  label                                           sentence  title  \\\n",
       "0  10166  False          アンモニア (英: ammonia) は分子式が NH 3 で表される無機化合物。  アンモニア   \n",
       "1  10166  False                          常温常圧では無色の気体で、特有の強い刺激臭を持つ。  アンモニア   \n",
       "2  10166  False  水に良く溶けるため、水溶液（アンモニア水）として使用されることも多く、化学工業では基礎的な窒...  アンモニア   \n",
       "3  10166  False                                塩基の程度は水酸化ナトリウムより弱い。  アンモニア   \n",
       "4  10166  False    窒素原子上の孤立電子対のはたらきにより、金属錯体の配位子となり、その場合はアンミンと呼ばれる。  アンモニア   \n",
       "\n",
       "                                               words  \\\n",
       "0  [アンモニア, (, 英, :, ammonia, ), は, 分子, 式, が, NH, ...   \n",
       "1  [常温, 常, 圧, で, は, 無色, の, 気体, で, 、, 特有, の, 強い, 刺...   \n",
       "2  [水, に, 良く, 溶ける, ため, 、, 水溶液, （, アンモニア水, ）, として,...   \n",
       "3                [塩基, の, 程度, は, 水酸化ナトリウム, より, 弱い, 。]   \n",
       "4  [窒素, 原子, 上, の, 孤立, 電子, 対, の, はたらき, により, 、, 金属,...   \n",
       "\n",
       "                                          repl_words  \n",
       "0  [[title-compound], (, 英, :, [title-compound], ...  \n",
       "1  [常温, 常, 圧, で, は, 無色, の, 気体, で, 、, 特有, の, 強い, 刺...  \n",
       "2  [水, に, 良く, 溶ける, ため, 、, 水溶液, （, [compound], ）, ...  \n",
       "3              [塩基, の, 程度, は, [compound], より, 弱い, 。]  \n",
       "4  [窒素, 原子, 上, の, 孤立, 電子, 対, の, はたらき, により, 、, 金属,...  "
      ]
     },
     "execution_count": 161,
     "metadata": {},
     "output_type": "execute_result"
    }
   ],
   "source": [
    "train_df = pd.read_pickle(\"../../data/Production_train_split_word_with_repl_compound.pkl\")\n",
    "train_df._id = train_df._id.astype(str)\n",
    "train_df.head()"
   ]
  },
  {
   "cell_type": "code",
   "execution_count": 160,
   "metadata": {},
   "outputs": [],
   "source": [
    "def tagging(s, train):\n",
    "    train.sort(key=len, reverse=True)\n",
    "    tag_seq = ['O'] * len(s)\n",
    "    \n",
    "    if len(train) is 0:\n",
    "        return tag_seq\n",
    "    \n",
    "    for train_s in train:\n",
    "        if len(train_s) > len(s):\n",
    "            continue\n",
    "            \n",
    "        for i in range(0, len(s) - len(train_s)):\n",
    "            start = i\n",
    "            end = i + len(train_s)\n",
    "            if s[start:end] == train_s:\n",
    "                tag_seq = _tagging(tag_seq, start, end)\n",
    "                \n",
    "    return tag_seq\n",
    "\n",
    "def _tagging(tag_seq, start, end):\n",
    "    _tag_seq = tag_seq.copy()\n",
    "    _tag_seq[start] = 'B'\n",
    "    \n",
    "    if (end - start) > 1:\n",
    "        if _tag_seq[end - 1] == 'O':\n",
    "            _tag_seq[end - 1] = 'E'\n",
    "            \n",
    "    if (end - start) > 2:\n",
    "        if not ('B' in _tag_seq[start + 1:end - 1] or 'E' in _tag_seq[start + 1:end - 1]):\n",
    "            _tag_seq[start + 1:end - 1] = ['I'] * len(_tag_seq[start + 1:end - 1])\n",
    "    \n",
    "    return _tag_seq"
   ]
  },
  {
   "cell_type": "code",
   "execution_count": 162,
   "metadata": {},
   "outputs": [],
   "source": [
    "# タグ付け\n",
    "\n",
    "train_df = train_df.assign(tag=np.nan)\n",
    "\n",
    "for entry in raw_train['entry']:\n",
    "    _id = str(entry['WikipediaID'])\n",
    "    productions = entry['Attributes']['製造方法']\n",
    "    \n",
    "    if len(productions) is 0:\n",
    "        train_df.loc[train_df._id == _id, 'tag'] = \\\n",
    "            train_df.loc[train_df._id == _id].words.apply(lambda x: ['O'] * len(x))\n",
    "        continue\n",
    "        \n",
    "    train_sents = flatten([re.findall(r'[^。]+(?:。|$)', production) for production in productions])\n",
    "    train_split_sents = [parse(s) for s in train_sents]\n",
    "    \n",
    "    train_df.loc[train_df._id == _id, 'tag'] = \\\n",
    "            train_df.loc[train_df._id == _id].words.apply(lambda x: tagging(x, train_split_sents))"
   ]
  },
  {
   "cell_type": "code",
   "execution_count": 163,
   "metadata": {},
   "outputs": [],
   "source": [
    "train_idx = pd.read_csv(\"../../data/train.csv\")._id.astype(str).unique()\n",
    "test_idx = pd.read_csv(\"../../data/valid.csv\")._id.astype(str).unique()"
   ]
  },
  {
   "cell_type": "code",
   "execution_count": 164,
   "metadata": {},
   "outputs": [],
   "source": [
    "train_df.loc[train_df._id.isin(train_idx)].to_pickle(\"../../data/Production_train_repl_compound.pkl\")\n",
    "train_df.loc[train_df._id.isin(test_idx)].to_pickle(\"../../data/Production_test_repl_compound.pkl\")"
   ]
  },
  {
   "cell_type": "code",
   "execution_count": null,
   "metadata": {},
   "outputs": [],
   "source": []
  }
 ],
 "metadata": {
  "kernelspec": {
   "display_name": "Python 3",
   "language": "python",
   "name": "python3"
  },
  "language_info": {
   "codemirror_mode": {
    "name": "ipython",
    "version": 3
   },
   "file_extension": ".py",
   "mimetype": "text/x-python",
   "name": "python",
   "nbconvert_exporter": "python",
   "pygments_lexer": "ipython3",
   "version": "3.6.1"
  }
 },
 "nbformat": 4,
 "nbformat_minor": 2
}
