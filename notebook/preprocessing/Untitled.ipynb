{
 "cells": [
  {
   "cell_type": "code",
   "execution_count": 3,
   "metadata": {},
   "outputs": [],
   "source": [
    "import sys\n",
    "sys.path.append('../util/')"
   ]
  },
  {
   "cell_type": "code",
   "execution_count": 4,
   "metadata": {},
   "outputs": [],
   "source": [
    "import pandas as pd\n",
    "import json\n",
    "\n",
    "import pubchem_util as pil\n",
    "\n",
    "%load_ext autoreload\n",
    "%autoreload 2"
   ]
  },
  {
   "cell_type": "code",
   "execution_count": 40,
   "metadata": {},
   "outputs": [],
   "source": [
    "def get_values(d: dict):\n",
    "    return list(d.values())[0]\n",
    "\n",
    "def get_keys(d: dict):\n",
    "    return list(d.keys())[0]\n",
    "\n",
    "def dump_article(article: dict, fp):\n",
    "    json.dump(article, fp)\n",
    "    fp.write('\\n')"
   ]
  },
  {
   "cell_type": "code",
   "execution_count": 49,
   "metadata": {},
   "outputs": [],
   "source": [
    "CID_list = []\n",
    "\n",
    "with open(\"../../data/pubchem_articles.jsonl\", 'r') as read_f:\n",
    "    with open(\"../../data/pubchem_articles2.jsonl\", 'a') as write_f:\n",
    "        line = read_f.readline()\n",
    "        while line:\n",
    "            same_CAS_articles = json.loads(line.strip())\n",
    "            articles = get_values(same_CAS_articles)\n",
    "            \n",
    "            # CID の抽出\n",
    "            CIDs = [pil.get_CID(article) for article in articles]\n",
    "            \n",
    "            # 新規のCIDが出現したら記事をdump\n",
    "            [dump_article(article, write_f) for cid, article in zip(CIDs, articles) if cid not in CID_list]\n",
    "            \n",
    "            # CIDリストに追加\n",
    "            CID_list = list(set(CID_list + CIDs))\n",
    "            \n",
    "            line = read_f.readline()"
   ]
  },
  {
   "cell_type": "code",
   "execution_count": 50,
   "metadata": {},
   "outputs": [
    {
     "name": "stdout",
     "output_type": "stream",
     "text": [
      "総記事数: 6624\n"
     ]
    }
   ],
   "source": [
    "print(\"総記事数:\", len(CID_list))"
   ]
  }
 ],
 "metadata": {
  "kernelspec": {
   "display_name": "Python 3",
   "language": "python",
   "name": "python3"
  },
  "language_info": {
   "codemirror_mode": {
    "name": "ipython",
    "version": 3
   },
   "file_extension": ".py",
   "mimetype": "text/x-python",
   "name": "python",
   "nbconvert_exporter": "python",
   "pygments_lexer": "ipython3",
   "version": "3.5.2"
  }
 },
 "nbformat": 4,
 "nbformat_minor": 2
}
