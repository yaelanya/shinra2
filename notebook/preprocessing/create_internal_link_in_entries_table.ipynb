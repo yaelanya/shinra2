{
 "cells": [
  {
   "cell_type": "code",
   "execution_count": 38,
   "metadata": {},
   "outputs": [
    {
     "name": "stdout",
     "output_type": "stream",
     "text": [
      "The autoreload extension is already loaded. To reload it, use:\n",
      "  %reload_ext autoreload\n"
     ]
    }
   ],
   "source": [
    "import sys\n",
    "sys.path.append('../../util/')\n",
    "\n",
    "%load_ext autoreload\n",
    "%autoreload 2"
   ]
  },
  {
   "cell_type": "code",
   "execution_count": 39,
   "metadata": {},
   "outputs": [],
   "source": [
    "import pandas as pd\n",
    "import json\n",
    "from tqdm import tqdm_notebook as tqdm\n",
    "import pubchem_util as pil"
   ]
  },
  {
   "cell_type": "code",
   "execution_count": 14,
   "metadata": {},
   "outputs": [],
   "source": [
    "from IPython.display import display, clear_output"
   ]
  },
  {
   "cell_type": "code",
   "execution_count": null,
   "metadata": {},
   "outputs": [],
   "source": [
    "internal_link_df = pd.DataFrame()\n",
    "\n",
    "with open(\"../../pubchem_articles.jsonl\", 'r') as f:\n",
    "    line = f.readline()\n",
    "    while line:\n",
    "        article = json.loads(line.strip())\n",
    "        cid = str(pil.get_CID(article))\n",
    "        \n",
    "        internal_link_df = internal_link_df.append(\n",
    "            pd.DataFrame({'from':cid, 'to': pil.get_link_CID(line, current=cid)})\n",
    "            , ignore_index=True\n",
    "        )\n",
    "        \n",
    "        line = f.readline()"
   ]
  },
  {
   "cell_type": "code",
   "execution_count": 18,
   "metadata": {},
   "outputs": [],
   "source": [
    "internal_link_df.rename(columns={'from': 'entry', 'to': 'linked'}, inplace=True)"
   ]
  },
  {
   "cell_type": "code",
   "execution_count": 24,
   "metadata": {},
   "outputs": [],
   "source": [
    "internal_link_df = \\\n",
    "internal_link_df[\n",
    "    (internal_link_df.entry.str.len() > 0)\n",
    "    & (internal_link_df.linked.str.len() > 0)\n",
    "]"
   ]
  },
  {
   "cell_type": "code",
   "execution_count": 25,
   "metadata": {},
   "outputs": [],
   "source": [
    "internal_link_df.to_csv(\"../../data/internal_CID_link_in_entries.csv\", index=False)"
   ]
  },
  {
   "cell_type": "code",
   "execution_count": null,
   "metadata": {},
   "outputs": [],
   "source": []
  }
 ],
 "metadata": {
  "kernelspec": {
   "display_name": "Python 3",
   "language": "python",
   "name": "python3"
  },
  "language_info": {
   "codemirror_mode": {
    "name": "ipython",
    "version": 3
   },
   "file_extension": ".py",
   "mimetype": "text/x-python",
   "name": "python",
   "nbconvert_exporter": "python",
   "pygments_lexer": "ipython3",
   "version": "3.6.1"
  }
 },
 "nbformat": 4,
 "nbformat_minor": 2
}
