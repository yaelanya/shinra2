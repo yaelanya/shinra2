{
 "cells": [
  {
   "cell_type": "code",
   "execution_count": 166,
   "metadata": {},
   "outputs": [],
   "source": [
    "import pandas as pd\n",
    "import re\n",
    "import pickle\n",
    "import json\n",
    "import requests\n",
    "import time\n",
    "from tqdm import tqdm"
   ]
  },
  {
   "cell_type": "code",
   "execution_count": 2,
   "metadata": {},
   "outputs": [],
   "source": [
    "flatten = lambda l: [i for sub_l in l for i in sub_l]\n",
    "\n",
    "def get_CID(article: dict) -> str:\n",
    "    if article.get('Record') and article.get('Record').get('RecordNumber'):\n",
    "        return str(article.get('Record').get('RecordNumber'))\n",
    "    else:\n",
    "        return None"
   ]
  },
  {
   "cell_type": "code",
   "execution_count": 175,
   "metadata": {},
   "outputs": [],
   "source": [
    "methods_df = pd.read_pickle(\"../../data/manufacturing_words_using_wikidata.pkl\")\n",
    "\n",
    "wiki_df = pd.read_csv(\"../../data/train_split_words.csv\")\n",
    "wiki_df = wiki_df.append(pd.read_csv(\"../../data/valid_split_words.csv\"))\n",
    "wiki_df._id = wiki_df._id.astype(str)"
   ]
  },
  {
   "cell_type": "code",
   "execution_count": 4,
   "metadata": {},
   "outputs": [],
   "source": [
    "train_ids = wiki_df._id.unique()"
   ]
  },
  {
   "cell_type": "code",
   "execution_count": 5,
   "metadata": {},
   "outputs": [],
   "source": [
    "true_ids = wiki_df[wiki_df.label == True]._id.unique()"
   ]
  },
  {
   "cell_type": "code",
   "execution_count": 176,
   "metadata": {},
   "outputs": [],
   "source": [
    "with open(\"../../data/pageID2CID_using_wikidata.json\", 'r') as f:\n",
    "    pageid2cid_table = json.load(f)"
   ]
  },
  {
   "cell_type": "code",
   "execution_count": 188,
   "metadata": {},
   "outputs": [
    {
     "data": {
      "text/plain": [
       "453"
      ]
     },
     "execution_count": 188,
     "metadata": {},
     "output_type": "execute_result"
    }
   ],
   "source": [
    "len(set([pageid for pageid in train_ids if pageid2cid_table.get(pageid)]))"
   ]
  },
  {
   "cell_type": "code",
   "execution_count": 189,
   "metadata": {},
   "outputs": [
    {
     "name": "stdout",
     "output_type": "stream",
     "text": [
      "Wikipedia記事のうち製造方法が記載されている化合物 305\n",
      "うちPubChemに製造方法が記載されている化合物: 211\n"
     ]
    }
   ],
   "source": [
    "print(\"Wikipedia記事のうち製造方法が記載されている化合物\", len(wiki_df[wiki_df.label == True]._id.unique()))\n",
    "print(\"うちPubChemに製造方法が記載されている化合物:\", len(methods_df[methods_df._id.isin(train_ids)]._id.unique()))"
   ]
  },
  {
   "cell_type": "code",
   "execution_count": 139,
   "metadata": {},
   "outputs": [
    {
     "name": "stdout",
     "output_type": "stream",
     "text": [
      "669\n"
     ]
    }
   ],
   "source": [
    "cid_set = \\\n",
    "list(set(flatten(\n",
    "[cas2cid_table.get(cas)\n",
    "    for pageid in train_ids if pageid2cas_table.get(pageid) is not None\n",
    "    for cas in pageid2cas_table.get(pageid) if cas2cid_table.get(cas) is not None\n",
    "])))\n",
    "\n",
    "print(len(cid_set))"
   ]
  },
  {
   "cell_type": "code",
   "execution_count": 8,
   "metadata": {},
   "outputs": [
    {
     "data": {
      "text/plain": [
       "533"
      ]
     },
     "execution_count": 8,
     "metadata": {},
     "output_type": "execute_result"
    }
   ],
   "source": [
    "with open(\"../../data/pageID2wikidataID.json\", 'r') as f:\n",
    "    pageid2wikidataid_table = json.load(f)\n",
    "\n",
    "wikidata_dict = {pageid: pageid2wikidataid_table.get(pageid) for pageid in train_ids if pageid2wikidataid_table.get(pageid) is not None}\n",
    "\n",
    "len(wikidata_dict)"
   ]
  },
  {
   "cell_type": "code",
   "execution_count": 43,
   "metadata": {},
   "outputs": [],
   "source": [
    "compound_wikidata = {}\n",
    "with open(\"../../data/compound_wikidata.jsonl\", 'r') as f:\n",
    "    line = f.readline()\n",
    "    while line:\n",
    "        try:\n",
    "            page = json.loads(line).get('entities')\n",
    "            _id = list(page.keys())[0]\n",
    "            compound_wikidata[_id] = page[_id]\n",
    "        except json.JSONDecodeError:\n",
    "            print('Decode Error.')\n",
    "        finally:\n",
    "            line = f.readline()"
   ]
  },
  {
   "cell_type": "code",
   "execution_count": 120,
   "metadata": {},
   "outputs": [],
   "source": [
    "wd_pageid2cid_table = {}\n",
    "for page_id, wikidata_id in pageid2wikidataid_table.items():\n",
    "    if not compound_wikidata.get(wikidata_id): continue\n",
    "    if not compound_wikidata.get(wikidata_id).get('claims'): continue\n",
    "    if not compound_wikidata.get(wikidata_id).get('claims').get('P662'): continue\n",
    "    try:\n",
    "        cid = [info['mainsnak']['datavalue']['value'] for info in compound_wikidata.get(wikidata_id).get('claims').get('P662')]\n",
    "        wd_pageid2cid_table[str(page_id)] = cid\n",
    "    except KeyError:\n",
    "        continue"
   ]
  },
  {
   "cell_type": "code",
   "execution_count": 170,
   "metadata": {},
   "outputs": [
    {
     "name": "stdout",
     "output_type": "stream",
     "text": [
      "Number of pages having CID: 4485\n"
     ]
    }
   ],
   "source": [
    "print(\"Number of pages having CID:\", len(wd_pageid2cid_table))"
   ]
  },
  {
   "cell_type": "code",
   "execution_count": 137,
   "metadata": {},
   "outputs": [],
   "source": [
    "wd_train_cids = list(set(flatten([wd_pageid2cid_table.get(page_id) for page_id in train_ids if wd_pageid2cid_table.get(page_id)])))"
   ]
  },
  {
   "cell_type": "code",
   "execution_count": 142,
   "metadata": {},
   "outputs": [],
   "source": [
    "with open(\"../../data/pageID2CID_using_wikidata.json\", 'w') as f:\n",
    "    json.dump(wd_pageid2cid_table, f)"
   ]
  },
  {
   "cell_type": "code",
   "execution_count": 150,
   "metadata": {},
   "outputs": [],
   "source": [
    "def get_manufacturing(article: dict):\n",
    "    methods = \\\n",
    "    [method.get('StringValue') \n",
    "        for content in article.get('Record').get('Section') if content.get('TOCHeading') == \"Use and Manufacturing\"\n",
    "        for section in content.get('Section') if section.get('TOCHeading') in [\"Methods of Manufacturing\", \"Sampling Procedures\", \"Formulations/Preparations\"]\n",
    "        for method in section.get('Information')\n",
    "    ]\n",
    "    \n",
    "    return methods\n",
    "\n",
    "def load_articles(filepath, cid_set):\n",
    "    articles = []\n",
    "    with open(filepath, 'r') as f:\n",
    "        for line in f:\n",
    "            article = json.loads(line)\n",
    "            cid = get_CID(article)\n",
    "            \n",
    "            if cid is None or cid not in cid_set:\n",
    "                continue\n",
    "            \n",
    "            articles.append(article)\n",
    "    \n",
    "    print(\"Number of Articles:\", len(articles))\n",
    "    \n",
    "    return articles"
   ]
  },
  {
   "cell_type": "code",
   "execution_count": 168,
   "metadata": {},
   "outputs": [
    {
     "name": "stdout",
     "output_type": "stream",
     "text": [
      "Number of Articles: 4490\n"
     ]
    }
   ],
   "source": [
    "wd_cid_set = set(flatten(wd_pageid2cid_table.values()))\n",
    "articles = load_articles(\"../../data/pubchem_articles.jsonl\", wd_cid_set)"
   ]
  },
  {
   "cell_type": "code",
   "execution_count": 169,
   "metadata": {},
   "outputs": [
    {
     "data": {
      "text/plain": [
       "0"
      ]
     },
     "execution_count": 169,
     "metadata": {},
     "output_type": "execute_result"
    }
   ],
   "source": [
    "none_article_cids = wd_cid_set - set([get_CID(article) for article in articles])\n",
    "len(none_article_cids)"
   ]
  },
  {
   "cell_type": "code",
   "execution_count": null,
   "metadata": {},
   "outputs": [],
   "source": [
    "with open(\"../../data/pubchem_articles.jsonl\", 'a') as f:\n",
    "    for cid in tqdm(none_article_cids):\n",
    "        i = 0\n",
    "        while True:\n",
    "            if i > 5: break\n",
    "            try:\n",
    "                i += 1\n",
    "                resp = requests.get('https://pubchem.ncbi.nlm.nih.gov/rest/pug_view/data/compound/{cid}/JSON'.format(**locals()))\n",
    "                time.sleep(0.3)\n",
    "                break\n",
    "            except requests.HTTPError as e:\n",
    "                print(\"HTTP error.\")\n",
    "                break\n",
    "            except requests.ConnectionError as e:\n",
    "                print(\"Connection error.\")\n",
    "                break\n",
    "            except requests.ConnectTimeout as t:\n",
    "                print(\"Connection timeout.\\nRetry...\")\n",
    "                time.sleep(10)\n",
    "                continue\n",
    "\n",
    "        if resp is None or resp.status_code == 404:\n",
    "            continue\n",
    "        \n",
    "        try:\n",
    "            print(cid)\n",
    "            article = resp.json()\n",
    "            json.dump(article, f)\n",
    "            f.write('\\n')\n",
    "        except json.JSONDecodeError:\n",
    "            continue"
   ]
  },
  {
   "cell_type": "code",
   "execution_count": 171,
   "metadata": {},
   "outputs": [],
   "source": [
    "manufacturings = {get_CID(article): get_manufacturing(article) for article in articles}"
   ]
  },
  {
   "cell_type": "code",
   "execution_count": 174,
   "metadata": {},
   "outputs": [],
   "source": [
    "with open(\"../../data/raw_manufacturings_using_wikidata.json\", 'w') as f:\n",
    "    json.dump(manufacturings, f)"
   ]
  },
  {
   "cell_type": "code",
   "execution_count": null,
   "metadata": {},
   "outputs": [],
   "source": []
  }
 ],
 "metadata": {
  "kernelspec": {
   "display_name": "Python 3",
   "language": "python",
   "name": "python3"
  },
  "language_info": {
   "codemirror_mode": {
    "name": "ipython",
    "version": 3
   },
   "file_extension": ".py",
   "mimetype": "text/x-python",
   "name": "python",
   "nbconvert_exporter": "python",
   "pygments_lexer": "ipython3",
   "version": "3.6.1"
  }
 },
 "nbformat": 4,
 "nbformat_minor": 2
}
