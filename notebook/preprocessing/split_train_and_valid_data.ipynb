{
 "cells": [
  {
   "cell_type": "code",
   "execution_count": 8,
   "metadata": {},
   "outputs": [],
   "source": [
    "import numpy as np\n",
    "import pandas as pd\n",
    "import json"
   ]
  },
  {
   "cell_type": "code",
   "execution_count": 2,
   "metadata": {},
   "outputs": [],
   "source": [
    "wiki_sentence_df = pd.read_csv(\"../../data/wikitext_split_sentence.csv\")"
   ]
  },
  {
   "cell_type": "code",
   "execution_count": 17,
   "metadata": {},
   "outputs": [],
   "source": [
    "with open(\"../../data/compound_train.json\", 'r', encoding='utf-8') as f:\n",
    "    train_raw = json.load(f)['entry']\n",
    "\n",
    "ids = [str(entry['WikipediaID']) for entry in train_raw]\n",
    "np.random.shuffle(ids)"
   ]
  },
  {
   "cell_type": "code",
   "execution_count": 18,
   "metadata": {},
   "outputs": [
    {
     "name": "stdout",
     "output_type": "stream",
     "text": [
      "Number of train sentences: 7435\n",
      "Number of validete sentences: 1564\n"
     ]
    }
   ],
   "source": [
    "train_df = wiki_sentence_df.loc[wiki_sentence_df._id.isin(ids[:500])]\n",
    "validate_df = wiki_sentence_df.loc[wiki_sentence_df._id.isin(ids[500:])]\n",
    "\n",
    "print(\"Number of train sentences:\", len(train_df))\n",
    "print(\"Number of validete sentences:\", len(validate_df))"
   ]
  },
  {
   "cell_type": "code",
   "execution_count": 19,
   "metadata": {},
   "outputs": [],
   "source": [
    "train_df.to_csv(\"../../data/train.csv\", index=False)\n",
    "validate_df.to_csv(\"../../data/valid.csv\", index=False)"
   ]
  }
 ],
 "metadata": {
  "kernelspec": {
   "display_name": "Python 3",
   "language": "python",
   "name": "python3"
  },
  "language_info": {
   "codemirror_mode": {
    "name": "ipython",
    "version": 3
   },
   "file_extension": ".py",
   "mimetype": "text/x-python",
   "name": "python",
   "nbconvert_exporter": "python",
   "pygments_lexer": "ipython3",
   "version": "3.5.2"
  }
 },
 "nbformat": 4,
 "nbformat_minor": 2
}
