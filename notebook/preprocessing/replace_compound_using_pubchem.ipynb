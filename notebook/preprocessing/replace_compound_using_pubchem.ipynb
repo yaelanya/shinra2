{
 "cells": [
  {
   "cell_type": "code",
   "execution_count": 1,
   "metadata": {},
   "outputs": [],
   "source": [
    "import pandas as pd\n",
    "import json\n",
    "import re"
   ]
  },
  {
   "cell_type": "code",
   "execution_count": 65,
   "metadata": {},
   "outputs": [],
   "source": [
    "def append_dict(dic, key, data):\n",
    "    if not isinstance(data, list):\n",
    "        data = [data]\n",
    "    \n",
    "    _dic = dic.copy()\n",
    "    if _dic.get(key) is None:\n",
    "        _dic[key] = data\n",
    "    elif isinstance(_dic.get(key), list):\n",
    "        _dic[key] += data\n",
    "    else:\n",
    "        _dic[key] = [_dic[key]] + data\n",
    "        \n",
    "    return _dic\n",
    "\n",
    "def reverse_table(table: dict):\n",
    "    if not isinstance(list(table.values())[0], list):\n",
    "        return {v: k for k, v in table.items()}\n",
    "    \n",
    "    new_table = {}\n",
    "    for k, values in table.items():\n",
    "        for v in values:\n",
    "            new_table = append_dict(new_table, v, k)\n",
    "                \n",
    "    return new_table\n",
    "\n",
    "def remove_disambiguation(word):\n",
    "    return re.sub(r'\\s\\(.+\\)$|\\s（.+）$', '', word)\n",
    "\n",
    "def get_CID(s):\n",
    "    patt = r'<a class=\\\"pubchem\\-internal\\-link CID\\-([\\d]+)\\\"'\n",
    "    return list(set(re.findall(patt, s)))\n",
    "\n",
    "def CID2compound(cid):\n",
    "    compound_names = []\n",
    "    pageids = cid2pageid_table.get(cid, [])\n",
    "    for pageid in pageids:\n",
    "        compound_name = remove_disambiguation(pageid2title[pageid])\n",
    "        compound_names += (synonyms_dict[compound_name] + [compound_name])\n",
    "        \n",
    "    return compound_names\n",
    "\n",
    "def get_manufacturing_compounds(page_id):\n",
    "    cids = pageid2cid_table.get(page_id, [])\n",
    "    manufacturing_str = ''.join([''.join(manufacturings.get(cid, [])) for cid in cids]) \n",
    "    \n",
    "    compound_names = []\n",
    "    for inner_cid in get_CID(manufacturing_str):\n",
    "        compound_names += CID2compound(inner_cid)\n",
    "\n",
    "    return list(set(compound_names))\n",
    "\n",
    "def repl_compound(words, repl_words, compounds, ignore_words=[], repl=\"[PubChem-compound]\"):\n",
    "    return [repl if (word in compounds) and (repl_word not in ignore_words) else repl_word \\\n",
    "            for word, repl_word in zip(words, repl_words)]"
   ]
  },
  {
   "cell_type": "code",
   "execution_count": 34,
   "metadata": {},
   "outputs": [],
   "source": [
    "with open(\"../../data/raw_manufacturings_using_wikidata.json\", 'r') as f:\n",
    "    manufacturings = json.load(f)\n",
    "\n",
    "with open(\"../../data/pageID2CID_using_wikidata.json\", 'r') as f:\n",
    "    pageid2cid_table = json.load(f)\n",
    "    cid2pageid_table = reverse_table(pageid2cid_table)\n",
    "\n",
    "with open(\"../../data/compound_synonyms.json\", 'r') as f:\n",
    "    synonyms_dict = json.load(f)\n",
    "\n",
    "with open(\"../../data/ENE_compound_name.txt\", 'r', encoding='utf-8') as f:\n",
    "    pageid2title = {str(json.loads(line)['pageid']): json.loads(line)['title'] for line in f}"
   ]
  },
  {
   "cell_type": "code",
   "execution_count": 111,
   "metadata": {},
   "outputs": [],
   "source": [
    "ignore_words = [\"[title-compound]\"]"
   ]
  },
  {
   "cell_type": "code",
   "execution_count": 144,
   "metadata": {},
   "outputs": [],
   "source": [
    "train_df = pd.read_pickle(\"../../data/train_IOB_repl_compound.pkl\")\n",
    "test_df = pd.read_pickle(\"../../data/test_IOB_repl_compound.pkl\")"
   ]
  },
  {
   "cell_type": "code",
   "execution_count": 147,
   "metadata": {},
   "outputs": [],
   "source": [
    "new_df = pd.DataFrame()\n",
    "for _id, g in test_df.groupby('_id'):\n",
    "    article_df = g.copy()\n",
    "    manu_compounds = get_manufacturing_compounds(_id)\n",
    "    article_df['repl_pubchem'] = \\\n",
    "    article_df.apply(\n",
    "        lambda x: repl_compound(x.words, x.repl_words, manu_compounds, ignore_words, repl=\"[PubChem-compound]\")\n",
    "        , axis=1\n",
    "    )\n",
    "    new_df = new_df.append(article_df)"
   ]
  },
  {
   "cell_type": "code",
   "execution_count": 148,
   "metadata": {},
   "outputs": [],
   "source": [
    "new_df.to_pickle(\"../../data/test_IOB_repl_compound-list+pubchem.pkl\")"
   ]
  },
  {
   "cell_type": "code",
   "execution_count": null,
   "metadata": {},
   "outputs": [],
   "source": []
  }
 ],
 "metadata": {
  "kernelspec": {
   "display_name": "Python 3",
   "language": "python",
   "name": "python3"
  },
  "language_info": {
   "codemirror_mode": {
    "name": "ipython",
    "version": 3
   },
   "file_extension": ".py",
   "mimetype": "text/x-python",
   "name": "python",
   "nbconvert_exporter": "python",
   "pygments_lexer": "ipython3",
   "version": "3.6.1"
  }
 },
 "nbformat": 4,
 "nbformat_minor": 2
}
