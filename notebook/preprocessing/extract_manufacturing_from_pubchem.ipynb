{
 "cells": [
  {
   "cell_type": "code",
   "execution_count": 46,
   "metadata": {},
   "outputs": [],
   "source": [
    "import pandas as pd\n",
    "import json\n",
    "import re\n",
    "import pickle\n",
    "\n",
    "from gensim.parsing.preprocessing import strip_tags, split_alphanum, remove_stopwords, strip_multiple_whitespaces, strip_punctuation\n",
    "from gensim.summarization.textcleaner import clean_text_by_sentences"
   ]
  },
  {
   "cell_type": "code",
   "execution_count": 2,
   "metadata": {},
   "outputs": [],
   "source": [
    "flatten = lambda l: [i for sub_l in l for i in sub_l]"
   ]
  },
  {
   "cell_type": "code",
   "execution_count": 3,
   "metadata": {},
   "outputs": [],
   "source": [
    "def get_CID(article: dict) -> str:\n",
    "    if article.get('Record') and article.get('Record').get('RecordNumber'):\n",
    "        return str(article.get('Record').get('RecordNumber'))\n",
    "    else:\n",
    "        return None"
   ]
  },
  {
   "cell_type": "code",
   "execution_count": 4,
   "metadata": {},
   "outputs": [],
   "source": [
    "def get_manufacturing(article: dict):\n",
    "    methods = \\\n",
    "    [method.get('StringValue') \n",
    "        for content in article.get('Record').get('Section') if content.get('TOCHeading') == \"Use and Manufacturing\"\n",
    "        for section in content.get('Section') if section.get('TOCHeading') in [\"Methods of Manufacturing\", \"Sampling Procedures\", \"Formulations/Preparations\"]\n",
    "        for method in section.get('Information')\n",
    "    ]\n",
    "    \n",
    "    return methods"
   ]
  },
  {
   "cell_type": "code",
   "execution_count": 5,
   "metadata": {},
   "outputs": [],
   "source": [
    "def load_articles(filepath):\n",
    "    articles = []\n",
    "    with open(filepath, 'r') as f:\n",
    "        for line in f:\n",
    "            article = json.loads(line)\n",
    "            cid = get_CID(article)\n",
    "            \n",
    "            if cid is None or cid not in cid_set:\n",
    "                continue\n",
    "            \n",
    "            articles.append(article)\n",
    "    \n",
    "    print(\"Number of Articles:\", len(articles))\n",
    "    \n",
    "    return articles"
   ]
  },
  {
   "cell_type": "markdown",
   "metadata": {},
   "source": [
    "## データ読み込み"
   ]
  },
  {
   "cell_type": "code",
   "execution_count": 6,
   "metadata": {},
   "outputs": [],
   "source": [
    "wiki_sentence_df = pd.read_csv(\"../../data/wikitext_split_sentence.csv\")"
   ]
  },
  {
   "cell_type": "code",
   "execution_count": 7,
   "metadata": {},
   "outputs": [],
   "source": [
    "with open(\"../../data/cas_number.json\", 'r') as f:\n",
    "    pageid2cas_table = json.load(f)\n",
    "\n",
    "with open(\"../../data/cas2cid.json\", 'r') as f:\n",
    "    cas2cid_table = json.load(f)"
   ]
  },
  {
   "cell_type": "code",
   "execution_count": 8,
   "metadata": {},
   "outputs": [
    {
     "name": "stdout",
     "output_type": "stream",
     "text": [
      "6624\n"
     ]
    }
   ],
   "source": [
    "cid_set = set(flatten(cas2cid_table.values()))\n",
    "print(len(cid_set))"
   ]
  },
  {
   "cell_type": "code",
   "execution_count": 9,
   "metadata": {},
   "outputs": [
    {
     "name": "stdout",
     "output_type": "stream",
     "text": [
      "Number of Articles: 6624\n"
     ]
    }
   ],
   "source": [
    "articles = load_articles(\"../../data/pubchem_articles.jsonl\")"
   ]
  },
  {
   "cell_type": "markdown",
   "metadata": {},
   "source": [
    "## Use and Manufacturing　に存在する見出し一覧"
   ]
  },
  {
   "cell_type": "code",
   "execution_count": 10,
   "metadata": {},
   "outputs": [
    {
     "data": {
      "text/plain": [
       "{'Consumption',\n",
       " 'Formulations/Preparations',\n",
       " 'Impurities',\n",
       " 'Methods of Manufacturing',\n",
       " 'Sampling Procedures',\n",
       " 'U.S. Exports',\n",
       " 'U.S. Imports',\n",
       " 'U.S. Production',\n",
       " 'Uses'}"
      ]
     },
     "execution_count": 10,
     "metadata": {},
     "output_type": "execute_result"
    }
   ],
   "source": [
    "heading_set = \\\n",
    "[section.get('TOCHeading')\n",
    "    for article in articles\n",
    "    for content in article.get('Record').get('Section') if content.get('TOCHeading') == \"Use and Manufacturing\"\n",
    "    for section in content.get('Section')\n",
    "]\n",
    "\n",
    "heading_set = set(heading_set)\n",
    "\n",
    "heading_set"
   ]
  },
  {
   "cell_type": "markdown",
   "metadata": {},
   "source": [
    "- 製造方法の場合\n",
    "    - Formulations/Preparations\n",
    "    - Methods of Manufacturing\n",
    "    - Sampling Procedures"
   ]
  },
  {
   "cell_type": "markdown",
   "metadata": {},
   "source": [
    "## PubChemのデータから製造方法を抽出"
   ]
  },
  {
   "cell_type": "code",
   "execution_count": 11,
   "metadata": {},
   "outputs": [],
   "source": [
    "manufacturings = {get_CID(article): get_manufacturing(article) for article in articles}"
   ]
  },
  {
   "cell_type": "code",
   "execution_count": 51,
   "metadata": {},
   "outputs": [],
   "source": [
    "def clean_sentence(s):\n",
    "    _s = strip_tags(s.text)\n",
    "    _s = split_alphanum(_s)\n",
    "    _s = remove_stopwords(_s)\n",
    "    _s = strip_punctuation(_s)\n",
    "    _s = strip_multiple_whitespaces(_s)\n",
    "    _s = _s.lower()\n",
    "    \n",
    "    return _s"
   ]
  },
  {
   "cell_type": "code",
   "execution_count": 52,
   "metadata": {},
   "outputs": [],
   "source": [
    "m_sentences = {}\n",
    "for cid, methods in manufacturings.items():\n",
    "    m_sentences[cid] = [clean_sentence(s) for doc in methods for s in clean_text_by_sentences(doc)]"
   ]
  },
  {
   "cell_type": "code",
   "execution_count": 54,
   "metadata": {},
   "outputs": [],
   "source": [
    "with open(\"../../data/manufacturings.pkl\", 'wb') as f:\n",
    "    pickle.dump(m_sentences, f)"
   ]
  }
 ],
 "metadata": {
  "kernelspec": {
   "display_name": "Python 3",
   "language": "python",
   "name": "python3"
  },
  "language_info": {
   "codemirror_mode": {
    "name": "ipython",
    "version": 3
   },
   "file_extension": ".py",
   "mimetype": "text/x-python",
   "name": "python",
   "nbconvert_exporter": "python",
   "pygments_lexer": "ipython3",
   "version": "3.5.2"
  }
 },
 "nbformat": 4,
 "nbformat_minor": 2
}
