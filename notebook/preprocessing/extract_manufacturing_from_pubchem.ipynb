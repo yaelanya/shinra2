{
 "cells": [
  {
   "cell_type": "code",
   "execution_count": 11,
   "metadata": {},
   "outputs": [],
   "source": [
    "import pandas as pd\n",
    "import json\n",
    "import re\n",
    "import pickle\n",
    "\n",
    "from gensim.parsing.preprocessing import strip_tags, split_alphanum, remove_stopwords, strip_multiple_whitespaces, strip_punctuation\n",
    "from gensim.summarization.textcleaner import clean_text_by_sentences"
   ]
  },
  {
   "cell_type": "code",
   "execution_count": 19,
   "metadata": {},
   "outputs": [],
   "source": [
    "flatten = lambda l: [i for sub_l in l for i in sub_l]\n",
    "\n",
    "def get_CID(article: dict) -> str:\n",
    "    if article.get('Record') and article.get('Record').get('RecordNumber'):\n",
    "        return str(article.get('Record').get('RecordNumber'))\n",
    "    else:\n",
    "        return None\n",
    "\n",
    "def get_manufacturing(article: dict):\n",
    "    methods = \\\n",
    "    [method.get('StringValue') \n",
    "        for content in article.get('Record').get('Section') if content.get('TOCHeading') == \"Use and Manufacturing\"\n",
    "        #for section in content.get('Section') if section.get('TOCHeading') in [\"Methods of Manufacturing\", \"Sampling Procedures\", \"Formulations/Preparations\"]\n",
    "        for section in content.get('Section') if section.get('TOCHeading') == \"Methods of Manufacturing\"\n",
    "        for method in section.get('Information')\n",
    "    ]\n",
    "    \n",
    "    return methods\n",
    "\n",
    "def load_articles(filepath):\n",
    "    articles = []\n",
    "    with open(filepath, 'r') as f:\n",
    "        for line in f:\n",
    "            article = json.loads(line)\n",
    "            cid = get_CID(article)\n",
    "            \n",
    "            if cid is None or cid not in cid_set:\n",
    "                continue\n",
    "            \n",
    "            articles.append(article)\n",
    "    \n",
    "    print(\"Number of Articles:\", len(articles))\n",
    "    \n",
    "    return articles"
   ]
  },
  {
   "cell_type": "markdown",
   "metadata": {},
   "source": [
    "## データ読み込み"
   ]
  },
  {
   "cell_type": "code",
   "execution_count": 65,
   "metadata": {},
   "outputs": [],
   "source": [
    "wiki_sentence_df = pd.read_csv(\"../../data/wikitext_split_sentence.csv\")"
   ]
  },
  {
   "cell_type": "code",
   "execution_count": 3,
   "metadata": {},
   "outputs": [],
   "source": [
    "with open(\"../../data/pageID2CID_using_wikidata.json\", 'r') as f:\n",
    "    pageid2cid_table = json.load(f)"
   ]
  },
  {
   "cell_type": "code",
   "execution_count": 4,
   "metadata": {},
   "outputs": [
    {
     "name": "stdout",
     "output_type": "stream",
     "text": [
      "4490\n"
     ]
    }
   ],
   "source": [
    "cid_set = set(flatten(pageid2cid_table.values()))\n",
    "print(len(cid_set))"
   ]
  },
  {
   "cell_type": "code",
   "execution_count": 5,
   "metadata": {},
   "outputs": [
    {
     "name": "stdout",
     "output_type": "stream",
     "text": [
      "Number of Articles: 4490\n"
     ]
    }
   ],
   "source": [
    "articles = load_articles(\"../../data/pubchem_articles.jsonl\")"
   ]
  },
  {
   "cell_type": "markdown",
   "metadata": {},
   "source": [
    "## Use and Manufacturing　に存在する見出し一覧"
   ]
  },
  {
   "cell_type": "code",
   "execution_count": 69,
   "metadata": {},
   "outputs": [
    {
     "data": {
      "text/plain": [
       "{'Consumption',\n",
       " 'Formulations/Preparations',\n",
       " 'Impurities',\n",
       " 'Methods of Manufacturing',\n",
       " 'Sampling Procedures',\n",
       " 'U.S. Exports',\n",
       " 'U.S. Imports',\n",
       " 'U.S. Production',\n",
       " 'Uses'}"
      ]
     },
     "execution_count": 69,
     "metadata": {},
     "output_type": "execute_result"
    }
   ],
   "source": [
    "heading_set = \\\n",
    "[section.get('TOCHeading')\n",
    "    for article in articles\n",
    "    for content in article.get('Record').get('Section') if content.get('TOCHeading') == \"Use and Manufacturing\"\n",
    "    for section in content.get('Section')\n",
    "]\n",
    "\n",
    "heading_set = set(heading_set)\n",
    "\n",
    "heading_set"
   ]
  },
  {
   "cell_type": "markdown",
   "metadata": {},
   "source": [
    "- 製造方法の場合\n",
    "    - Formulations/Preparations\n",
    "    - Methods of Manufacturing\n",
    "    - Sampling Procedures"
   ]
  },
  {
   "cell_type": "code",
   "execution_count": 47,
   "metadata": {},
   "outputs": [],
   "source": [
    "cid2pageid_table = {}\n",
    "for page_id, cids in pageid2cid_table.items():\n",
    "    for cid in cids:\n",
    "        if cid2pageid_table.get(cid):\n",
    "            cid2pageid_table[cid] += [page_id]\n",
    "        else:\n",
    "            cid2pageid_table[cid] = [page_id]"
   ]
  },
  {
   "cell_type": "markdown",
   "metadata": {},
   "source": [
    "## PubChemのデータから製造方法を抽出"
   ]
  },
  {
   "cell_type": "code",
   "execution_count": 6,
   "metadata": {},
   "outputs": [],
   "source": [
    "manufacturings = {get_CID(article): get_manufacturing(article) for article in articles}"
   ]
  },
  {
   "cell_type": "code",
   "execution_count": 9,
   "metadata": {},
   "outputs": [],
   "source": [
    "# とりあえず生データをdump\n",
    "with open(\"../../data/raw_manufacturings_using_wikidata.json\", 'w') as f:\n",
    "    json.dump(manufacturings, f)"
   ]
  },
  {
   "cell_type": "code",
   "execution_count": 45,
   "metadata": {},
   "outputs": [],
   "source": [
    "def clean_sentence(s):\n",
    "    _s = strip_tags(s.lower())\n",
    "    _s = remove_stopwords(_s)\n",
    "    _s = strip_punctuation(_s)\n",
    "    _s = strip_multiple_whitespaces(_s)\n",
    "    \n",
    "    return _s\n",
    "\n",
    "def remove_triple_period(s):\n",
    "    return re.sub(r'\\.{2,}', '', s)"
   ]
  },
  {
   "cell_type": "code",
   "execution_count": 46,
   "metadata": {},
   "outputs": [],
   "source": [
    "# 英文を文ごとに分割しクリーニングする\n",
    "m_sentences = {}\n",
    "for cid, methods in manufacturings.items():\n",
    "    m_sentences[cid] = [clean_sentence(s.text) for doc in methods for s in clean_text_by_sentences(remove_triple_period(doc))]"
   ]
  },
  {
   "cell_type": "code",
   "execution_count": 49,
   "metadata": {},
   "outputs": [],
   "source": [
    "manufacturing_df = pd.DataFrame()\n",
    "for cid, methods in m_sentences.items():\n",
    "    if not methods or not cid2pageid_table.get(cid):\n",
    "        continue\n",
    "    \n",
    "    # 1つのCIDに複数のWikipedia記事が紐付けられている場合があるので，page_idとCID（と製造方法）でcross join的なことをする\n",
    "    for page_id in cid2pageid_table.get(cid):\n",
    "        manufacturing_df = manufacturing_df.append(\n",
    "                                pd.DataFrame({\n",
    "                                    '_id': [page_id] * len(methods), 'CID': [cid] * len(methods), 'manufacturing': methods\n",
    "                                })\n",
    "                            )\n",
    "\n",
    "manufacturing_df.reset_index(drop=True, inplace=True)\n",
    "\n",
    "manufacturing_df['words'] = manufacturing_df.manufacturing.str.split()"
   ]
  },
  {
   "cell_type": "code",
   "execution_count": 51,
   "metadata": {},
   "outputs": [],
   "source": [
    "manufacturing_df.to_pickle(\"../../data/manufacturing_words_using_wikidata.pkl\")"
   ]
  }
 ],
 "metadata": {
  "kernelspec": {
   "display_name": "Python 3",
   "language": "python",
   "name": "python3"
  },
  "language_info": {
   "codemirror_mode": {
    "name": "ipython",
    "version": 3
   },
   "file_extension": ".py",
   "mimetype": "text/x-python",
   "name": "python",
   "nbconvert_exporter": "python",
   "pygments_lexer": "ipython3",
   "version": "3.5.2"
  }
 },
 "nbformat": 4,
 "nbformat_minor": 2
}
