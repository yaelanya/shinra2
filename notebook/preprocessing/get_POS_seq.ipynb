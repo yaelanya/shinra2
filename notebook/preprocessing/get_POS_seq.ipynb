{
 "cells": [
  {
   "cell_type": "code",
   "execution_count": 1,
   "metadata": {},
   "outputs": [],
   "source": [
    "import pandas as pd\n",
    "import MeCab"
   ]
  },
  {
   "cell_type": "code",
   "execution_count": 16,
   "metadata": {},
   "outputs": [],
   "source": [
    "flatten = lambda l: [i for sub_l in l for i in sub_l]\n",
    "\n",
    "m_parser = MeCab.Tagger(\"-u /Users/dontsentouin/mecab-user-dic/compound.dic -Owakati\")\n",
    "def get_POS(s):\n",
    "    pos_seq = []\n",
    "    node = m_parser.parseToNode(s)\n",
    "    while node:\n",
    "        if len(node.surface) is 0:\n",
    "            node = node.next\n",
    "            continue\n",
    "        \n",
    "        pos = node.feature.split(',')\n",
    "        pos_seq.append(pos[0])\n",
    "        node = node.next\n",
    "    \n",
    "    return pos_seq"
   ]
  },
  {
   "cell_type": "code",
   "execution_count": 4,
   "metadata": {},
   "outputs": [],
   "source": [
    "train_df = pd.read_pickle(\"../../data/Production_train_repl_compound.pkl\")\n",
    "test_df = pd.read_pickle(\"../../data/Production_test_repl_compound.pkl\")"
   ]
  },
  {
   "cell_type": "code",
   "execution_count": 20,
   "metadata": {},
   "outputs": [],
   "source": [
    "train_df = \\\n",
    "train_df.assign(\n",
    "    POS = train_df.sentence.apply(lambda x: get_POS(x))\n",
    ")\n",
    "\n",
    "test_df = \\\n",
    "test_df.assign(\n",
    "    POS = test_df.sentence.apply(lambda x: get_POS(x))\n",
    ")"
   ]
  },
  {
   "cell_type": "code",
   "execution_count": 22,
   "metadata": {},
   "outputs": [],
   "source": [
    "train_df.to_pickle(\"../../data/Production_train_repl_compound.pkl\")\n",
    "test_df.to_pickle(\"../../data/Production_test_repl_compound.pkl\")"
   ]
  }
 ],
 "metadata": {
  "kernelspec": {
   "display_name": "Python 3",
   "language": "python",
   "name": "python3"
  },
  "language_info": {
   "codemirror_mode": {
    "name": "ipython",
    "version": 3
   },
   "file_extension": ".py",
   "mimetype": "text/x-python",
   "name": "python",
   "nbconvert_exporter": "python",
   "pygments_lexer": "ipython3",
   "version": "3.6.1"
  }
 },
 "nbformat": 4,
 "nbformat_minor": 2
}
