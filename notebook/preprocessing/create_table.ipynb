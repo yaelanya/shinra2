{
 "cells": [
  {
   "cell_type": "code",
   "execution_count": 3,
   "metadata": {},
   "outputs": [],
   "source": [
    "import pandas as pd\n",
    "import json"
   ]
  },
  {
   "cell_type": "code",
   "execution_count": 12,
   "metadata": {},
   "outputs": [],
   "source": [
    "flatten = lambda x: [j for i in x if i for j in i]"
   ]
  },
  {
   "cell_type": "markdown",
   "metadata": {},
   "source": [
    "## CAS番号とwikipediaID（Page_id）の対応テーブル作成"
   ]
  },
  {
   "cell_type": "code",
   "execution_count": 3,
   "metadata": {},
   "outputs": [],
   "source": [
    "with open(\"../data/cas_number.json\", 'r') as f:\n",
    "    extraction_cas_num = json.load(f)"
   ]
  },
  {
   "cell_type": "code",
   "execution_count": 15,
   "metadata": {},
   "outputs": [
    {
     "name": "stdout",
     "output_type": "stream",
     "text": [
      "5342\n",
      "5281\n"
     ]
    }
   ],
   "source": [
    "print(len(flatten(list(extraction_cas_num.values()))))\n",
    "print(len(set(flatten(list(extraction_cas_num.values())))))"
   ]
  },
  {
   "cell_type": "markdown",
   "metadata": {},
   "source": [
    "- CAS番号が重複している\n",
    "- おそらく，記事内に異性体のCAS番号が載せられているかも -> esaに調査結果まとめた"
   ]
  },
  {
   "cell_type": "code",
   "execution_count": 22,
   "metadata": {},
   "outputs": [],
   "source": [
    "# CAS to page_id\n",
    "cas2pageId = {}\n",
    "for page_id, cas_list in extraction_cas_num.items():\n",
    "    for cas in cas_list:\n",
    "        if cas2pageId.get(cas):\n",
    "            cas2pageId[cas].append(page_id)\n",
    "        else:\n",
    "            cas2pageId[cas] = [page_id]\n",
    "\n",
    "with open(\"../data/cas2pageID.json\", 'w') as f:\n",
    "    json.dump(cas2pageId, f)"
   ]
  },
  {
   "cell_type": "markdown",
   "metadata": {},
   "source": [
    "## wikipediaID（Page_id）とWikidataIDの対応テーブル作成"
   ]
  },
  {
   "cell_type": "code",
   "execution_count": 23,
   "metadata": {},
   "outputs": [],
   "source": [
    "with open(\"../data/pageID2wikidataID.json\", 'r') as f:\n",
    "    p2w = json.load(f)"
   ]
  },
  {
   "cell_type": "code",
   "execution_count": 25,
   "metadata": {},
   "outputs": [],
   "source": [
    "with open(\"../data/wikidataID2pageID.json\", 'w') as f:\n",
    "    json.dump({v: k for k, v in p2w.items()}, f)"
   ]
  },
  {
   "cell_type": "markdown",
   "metadata": {},
   "source": [
    "## CAS番号とCIDの対応テーブル作成"
   ]
  },
  {
   "cell_type": "code",
   "execution_count": 30,
   "metadata": {},
   "outputs": [],
   "source": [
    "def get_CID(articles: dict):\n",
    "    return [str(article.get('Record').get('RecordNumber')) for article in list(articles.values())[0]]"
   ]
  },
  {
   "cell_type": "code",
   "execution_count": 38,
   "metadata": {},
   "outputs": [],
   "source": [
    "# CAS number to CID\n",
    "cas2cid = {}\n",
    "with open(\"../data/pubchem_articles.jsonl\", 'r') as f:\n",
    "    count = 0\n",
    "    line = f.readline()\n",
    "    while line:\n",
    "        articles = json.loads(line)\n",
    "        cas = list(articles.keys())[0]\n",
    "        cas2cid[cas] = get_CID(articles)\n",
    "        \n",
    "        line = f.readline()"
   ]
  },
  {
   "cell_type": "code",
   "execution_count": 41,
   "metadata": {},
   "outputs": [
    {
     "name": "stdout",
     "output_type": "stream",
     "text": [
      "6726\n",
      "6624\n"
     ]
    }
   ],
   "source": [
    "print(len(flatten(cas2cid.values())))\n",
    "print(len(set(flatten(cas2cid.values()))))"
   ]
  },
  {
   "cell_type": "markdown",
   "metadata": {},
   "source": [
    "- CAS番号からCIDは一意に決まらない"
   ]
  },
  {
   "cell_type": "code",
   "execution_count": 43,
   "metadata": {},
   "outputs": [],
   "source": [
    "cid2cas = {}\n",
    "for cas, cid_list in cas2cid.items():\n",
    "    for cid in cid_list:\n",
    "        if cid2cas.get(cid):\n",
    "            cid2cas[cid].append(cas)\n",
    "        else:\n",
    "            cid2cas[cid] = [cas]"
   ]
  },
  {
   "cell_type": "code",
   "execution_count": 45,
   "metadata": {},
   "outputs": [],
   "source": [
    "with open(\"../data/cas2cid.json\", 'w') as f:\n",
    "    json.dump(cas2cid, f)\n",
    "    \n",
    "with open(\"../data/cid2cas.json\", 'w') as f:\n",
    "    json.dump(cid2cas, f)"
   ]
  },
  {
   "cell_type": "code",
   "execution_count": null,
   "metadata": {},
   "outputs": [],
   "source": []
  }
 ],
 "metadata": {
  "kernelspec": {
   "display_name": "Python 3",
   "language": "python",
   "name": "python3"
  },
  "language_info": {
   "codemirror_mode": {
    "name": "ipython",
    "version": 3
   },
   "file_extension": ".py",
   "mimetype": "text/x-python",
   "name": "python",
   "nbconvert_exporter": "python",
   "pygments_lexer": "ipython3",
   "version": "3.6.1"
  }
 },
 "nbformat": 4,
 "nbformat_minor": 2
}
