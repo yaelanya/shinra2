{
 "cells": [
  {
   "cell_type": "code",
   "execution_count": 51,
   "metadata": {},
   "outputs": [],
   "source": [
    "import json\n",
    "import pandas as pd"
   ]
  },
  {
   "cell_type": "code",
   "execution_count": null,
   "metadata": {},
   "outputs": [],
   "source": [
    "with open(\"../../data/latest-all.json\", 'r') as f:\n",
    "    title_pair = []\n",
    "    line = f.readline()\n",
    "    while line:\n",
    "        try:\n",
    "            wikidata = json.loads(line.strip('\\n,'))\n",
    "        except json.JSONDecodeError:\n",
    "            line = f.readline()\n",
    "            continue\n",
    "            \n",
    "        try:\n",
    "            ja_title = wikidata['sitelinks']['jawiki']['title']\n",
    "            en_title = wikidata['sitelinks']['enwiki']['title']\n",
    "            title_pair.append([ja_title, en_title])\n",
    "        except KeyError:\n",
    "            pass\n",
    "        finally:\n",
    "            line = f.readline()"
   ]
  },
  {
   "cell_type": "code",
   "execution_count": 62,
   "metadata": {},
   "outputs": [],
   "source": [
    "pd.DataFrame(title_pair, columns=['ja', 'en']).to_csv(\"../../data/title_pair.csv\", index=False)"
   ]
  },
  {
   "cell_type": "code",
   "execution_count": null,
   "metadata": {},
   "outputs": [],
   "source": []
  }
 ],
 "metadata": {
  "kernelspec": {
   "display_name": "Python 3",
   "language": "python",
   "name": "python3"
  },
  "language_info": {
   "codemirror_mode": {
    "name": "ipython",
    "version": 3
   },
   "file_extension": ".py",
   "mimetype": "text/x-python",
   "name": "python",
   "nbconvert_exporter": "python",
   "pygments_lexer": "ipython3",
   "version": "3.5.2"
  }
 },
 "nbformat": 4,
 "nbformat_minor": 2
}
